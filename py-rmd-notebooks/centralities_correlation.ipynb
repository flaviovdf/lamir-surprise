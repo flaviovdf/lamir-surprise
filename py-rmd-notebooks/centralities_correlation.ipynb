{
 "cells": [
  {
   "cell_type": "code",
   "execution_count": 16,
   "metadata": {
    "colab": {},
    "colab_type": "code",
    "id": "PnjsDQNbqzK7"
   },
   "outputs": [],
   "source": [
    "import sys\n",
    "sys.path.append('../py-code/')\n",
    "import os\n",
    "import gzip as gz\n",
    "import json\n",
    "import matplotlib.pyplot as plt\n",
    "import numpy as np\n",
    "import pandas as pd\n",
    "import networkx as nx\n",
    "from difflib import get_close_matches\n",
    "from statsmodels.distributions.empirical_distribution import *\n",
    "import scipy\n",
    "from scipy.stats import norm\n",
    "import scipy.stats as ss\n",
    "import disrupt as dr\n",
    "import amutils as at"
   ]
  },
  {
   "cell_type": "code",
   "execution_count": 17,
   "metadata": {
    "colab": {},
    "colab_type": "code",
    "id": "IGzsvJWJHRu4"
   },
   "outputs": [],
   "source": [
    "def init_matplotlib():\n",
    "    plt.rcParams['axes.labelsize'] = 12\n",
    "    plt.rcParams['axes.titlesize'] = 12\n",
    "    plt.rcParams['legend.fontsize'] = 12\n",
    "    plt.rcParams['xtick.labelsize'] = 12\n",
    "    plt.rcParams['ytick.labelsize'] = 12\n",
    "    plt.rcParams['lines.linewidth'] = 3\n",
    "    plt.rcParams['font.family'] = 'serif'\n",
    "    plt.style.use('tableau-colorblind10')\n",
    "def despine(ax=None):\n",
    "    if ax is None:\n",
    "        ax = plt.gca()\n",
    "    # Hide the right and top spines\n",
    "    ax.spines['right'].set_visible(False)\n",
    "    ax.spines['top'].set_visible(False)\n",
    "    # Only show ticks on the left and bottom spines\n",
    "    ax.yaxis.set_ticks_position('left')\n",
    "    ax.xaxis.set_ticks_position('bottom')"
   ]
  },
  {
   "cell_type": "code",
   "execution_count": 18,
   "metadata": {
    "colab": {},
    "colab_type": "code",
    "id": "FklN3rNvHRvA"
   },
   "outputs": [],
   "source": [
    "init_matplotlib()"
   ]
  },
  {
   "cell_type": "code",
   "execution_count": 19,
   "metadata": {
    "colab": {},
    "colab_type": "code",
    "id": "mC1-cyFQHRvL"
   },
   "outputs": [],
   "source": [
    "allmusic = dict({'pagerank':dict(), 'disruption':dict(), 'in_degree':dict()})\n",
    "whosampled = dict({'pagerank':dict(), 'disruption':dict(), 'in_degree':dict()})"
   ]
  },
  {
   "cell_type": "code",
   "execution_count": 20,
   "metadata": {
    "colab": {},
    "colab_type": "code",
    "id": "a70iML9IHRvS"
   },
   "outputs": [],
   "source": [
    "allmusic['disruption']['df'] = pd.read_csv('../centrality-csvs/allmusic_disruption.csv')\n",
    "allmusic['pagerank']['df'] = pd.read_csv('../centrality-csvs/allmusic_pageranks.csv')\n",
    "allmusic['in_degree']['df'] = pd.read_csv('../centrality-csvs/allmusic_in_degree.csv')\n",
    "\n",
    "whosampled['disruption']['df'] = pd.read_csv('../centrality-csvs/whosampled_disruption_per_year.csv')\n",
    "whosampled['pagerank']['df'] = pd.read_csv('../centrality-csvs/whosampled_pageranks_per_year.csv')\n",
    "whosampled['in_degree']['df'] = pd.read_csv('../centrality-csvs/whosampled_in_degree_per_year.csv')"
   ]
  },
  {
   "cell_type": "code",
   "execution_count": 21,
   "metadata": {
    "colab": {},
    "colab_type": "code",
    "id": "aOW8gwygHRvY"
   },
   "outputs": [],
   "source": [
    "for data in [allmusic, whosampled]:\n",
    "    for key in list(data.keys()):\n",
    "        data[key]['df'].index = list(data[key]['df']['Unnamed: 0'])\n",
    "        data[key]['df'] = data[key]['df'].drop(columns= ['Unnamed: 0'])"
   ]
  },
  {
   "cell_type": "markdown",
   "metadata": {
    "colab_type": "text",
    "id": "Wh8Lt8GNHRvg"
   },
   "source": [
    "<br><h3>Correlation</h3><br>\n",
    "<h4>Who sampled</h4><br>"
   ]
  },
  {
   "cell_type": "code",
   "execution_count": 55,
   "metadata": {},
   "outputs": [],
   "source": [
    "menor = min(whosampled['pagerank']['df']['2019'])\n",
    "data_pagerank = whosampled['pagerank']['df']['2019'][whosampled['pagerank']['df']['2019']!=menor]"
   ]
  },
  {
   "cell_type": "code",
   "execution_count": 56,
   "metadata": {},
   "outputs": [
    {
     "data": {
      "text/plain": [
       "0.8599706205415361"
      ]
     },
     "execution_count": 56,
     "metadata": {},
     "output_type": "execute_result"
    }
   ],
   "source": [
    "data_pagerank.corr(whosampled['in_degree']['df']['2019'])   "
   ]
  },
  {
   "cell_type": "code",
   "execution_count": 57,
   "metadata": {
    "colab": {},
    "colab_type": "code",
    "id": "o8mTBghLHRvm"
   },
   "outputs": [],
   "source": [
    "minimum = min(whosampled['pagerank']['df']['2019'])\n",
    "centralities = [whosampled['pagerank']['df']['2019'][whosampled['pagerank']['df']['2019']!=minimum]]\n",
    "centralities.append(whosampled['in_degree']['df']['2019'][whosampled['in_degree']['df']['2019']!=0])\n",
    "centralities.append(whosampled['disruption']['df']['2019'])\n",
    "centralities = pd.DataFrame(centralities, index = ['pagerank', 'in_degree','disruption'])"
   ]
  },
  {
   "cell_type": "code",
   "execution_count": 58,
   "metadata": {
    "colab": {
     "base_uri": "https://localhost:8080/",
     "height": 142
    },
    "colab_type": "code",
    "id": "xJK3RmCbHRvt",
    "outputId": "3ff6e92c-b988-4887-e46d-d181423497b2"
   },
   "outputs": [
    {
     "data": {
      "text/html": [
       "<div>\n",
       "<style scoped>\n",
       "    .dataframe tbody tr th:only-of-type {\n",
       "        vertical-align: middle;\n",
       "    }\n",
       "\n",
       "    .dataframe tbody tr th {\n",
       "        vertical-align: top;\n",
       "    }\n",
       "\n",
       "    .dataframe thead th {\n",
       "        text-align: right;\n",
       "    }\n",
       "</style>\n",
       "<table border=\"1\" class=\"dataframe\">\n",
       "  <thead>\n",
       "    <tr style=\"text-align: right;\">\n",
       "      <th></th>\n",
       "      <th>pagerank</th>\n",
       "      <th>in_degree</th>\n",
       "      <th>disruption</th>\n",
       "    </tr>\n",
       "  </thead>\n",
       "  <tbody>\n",
       "    <tr>\n",
       "      <th>pagerank</th>\n",
       "      <td>1.000000</td>\n",
       "      <td>0.793085</td>\n",
       "      <td>-0.323814</td>\n",
       "    </tr>\n",
       "    <tr>\n",
       "      <th>in_degree</th>\n",
       "      <td>0.793085</td>\n",
       "      <td>1.000000</td>\n",
       "      <td>-0.298990</td>\n",
       "    </tr>\n",
       "    <tr>\n",
       "      <th>disruption</th>\n",
       "      <td>-0.323814</td>\n",
       "      <td>-0.298990</td>\n",
       "      <td>1.000000</td>\n",
       "    </tr>\n",
       "  </tbody>\n",
       "</table>\n",
       "</div>"
      ],
      "text/plain": [
       "            pagerank  in_degree  disruption\n",
       "pagerank    1.000000   0.793085   -0.323814\n",
       "in_degree   0.793085   1.000000   -0.298990\n",
       "disruption -0.323814  -0.298990    1.000000"
      ]
     },
     "execution_count": 58,
     "metadata": {},
     "output_type": "execute_result"
    }
   ],
   "source": [
    "centralities.T.corr(method='spearman')"
   ]
  },
  {
   "cell_type": "code",
   "execution_count": 59,
   "metadata": {
    "colab": {
     "base_uri": "https://localhost:8080/",
     "height": 142
    },
    "colab_type": "code",
    "id": "e_PtjXgpJ7g3",
    "outputId": "7417bc74-fb11-4098-824b-6d5cbcf86def"
   },
   "outputs": [
    {
     "data": {
      "text/html": [
       "<div>\n",
       "<style scoped>\n",
       "    .dataframe tbody tr th:only-of-type {\n",
       "        vertical-align: middle;\n",
       "    }\n",
       "\n",
       "    .dataframe tbody tr th {\n",
       "        vertical-align: top;\n",
       "    }\n",
       "\n",
       "    .dataframe thead th {\n",
       "        text-align: right;\n",
       "    }\n",
       "</style>\n",
       "<table border=\"1\" class=\"dataframe\">\n",
       "  <thead>\n",
       "    <tr style=\"text-align: right;\">\n",
       "      <th></th>\n",
       "      <th>pagerank</th>\n",
       "      <th>in_degree</th>\n",
       "      <th>disruption</th>\n",
       "    </tr>\n",
       "  </thead>\n",
       "  <tbody>\n",
       "    <tr>\n",
       "      <th>pagerank</th>\n",
       "      <td>1.000000</td>\n",
       "      <td>0.631293</td>\n",
       "      <td>-0.229536</td>\n",
       "    </tr>\n",
       "    <tr>\n",
       "      <th>in_degree</th>\n",
       "      <td>0.631293</td>\n",
       "      <td>1.000000</td>\n",
       "      <td>-0.217303</td>\n",
       "    </tr>\n",
       "    <tr>\n",
       "      <th>disruption</th>\n",
       "      <td>-0.229536</td>\n",
       "      <td>-0.217303</td>\n",
       "      <td>1.000000</td>\n",
       "    </tr>\n",
       "  </tbody>\n",
       "</table>\n",
       "</div>"
      ],
      "text/plain": [
       "            pagerank  in_degree  disruption\n",
       "pagerank    1.000000   0.631293   -0.229536\n",
       "in_degree   0.631293   1.000000   -0.217303\n",
       "disruption -0.229536  -0.217303    1.000000"
      ]
     },
     "execution_count": 59,
     "metadata": {},
     "output_type": "execute_result"
    }
   ],
   "source": [
    "centralities.T.corr(method='kendall')"
   ]
  },
  {
   "cell_type": "markdown",
   "metadata": {
    "colab_type": "text",
    "id": "5b5p3YKIKc97"
   },
   "source": [
    "<br><h4>Allmusic</h4><br>"
   ]
  },
  {
   "cell_type": "code",
   "execution_count": 61,
   "metadata": {
    "colab": {},
    "colab_type": "code",
    "id": "FTcLSaiWNvQd"
   },
   "outputs": [],
   "source": [
    "minimum = min(allmusic['pagerank']['df']['2010'])\n",
    "centralities = [allmusic['pagerank']['df']['2010'][allmusic['pagerank']['df']['2010']!=minimum]]\n",
    "centralities.append(allmusic['in_degree']['df']['2010'][allmusic['in_degree']['df']['2010']!=0])\n",
    "centralities.append(allmusic['disruption']['df']['2010'])\n",
    "centralities = pd.DataFrame(centralities, index = ['pagerank', 'in_degree','disruption'])"
   ]
  },
  {
   "cell_type": "code",
   "execution_count": 62,
   "metadata": {
    "colab": {
     "base_uri": "https://localhost:8080/",
     "height": 142
    },
    "colab_type": "code",
    "id": "nE5MuARUN-HM",
    "outputId": "ccd38fa5-d903-4a2b-a2ac-40ad8475702b"
   },
   "outputs": [
    {
     "data": {
      "text/html": [
       "<div>\n",
       "<style scoped>\n",
       "    .dataframe tbody tr th:only-of-type {\n",
       "        vertical-align: middle;\n",
       "    }\n",
       "\n",
       "    .dataframe tbody tr th {\n",
       "        vertical-align: top;\n",
       "    }\n",
       "\n",
       "    .dataframe thead th {\n",
       "        text-align: right;\n",
       "    }\n",
       "</style>\n",
       "<table border=\"1\" class=\"dataframe\">\n",
       "  <thead>\n",
       "    <tr style=\"text-align: right;\">\n",
       "      <th></th>\n",
       "      <th>pagerank</th>\n",
       "      <th>in_degree</th>\n",
       "      <th>disruption</th>\n",
       "    </tr>\n",
       "  </thead>\n",
       "  <tbody>\n",
       "    <tr>\n",
       "      <th>pagerank</th>\n",
       "      <td>1.000000</td>\n",
       "      <td>0.824165</td>\n",
       "      <td>0.036697</td>\n",
       "    </tr>\n",
       "    <tr>\n",
       "      <th>in_degree</th>\n",
       "      <td>0.824165</td>\n",
       "      <td>1.000000</td>\n",
       "      <td>-0.005446</td>\n",
       "    </tr>\n",
       "    <tr>\n",
       "      <th>disruption</th>\n",
       "      <td>0.036697</td>\n",
       "      <td>-0.005446</td>\n",
       "      <td>1.000000</td>\n",
       "    </tr>\n",
       "  </tbody>\n",
       "</table>\n",
       "</div>"
      ],
      "text/plain": [
       "            pagerank  in_degree  disruption\n",
       "pagerank    1.000000   0.824165    0.036697\n",
       "in_degree   0.824165   1.000000   -0.005446\n",
       "disruption  0.036697  -0.005446    1.000000"
      ]
     },
     "execution_count": 62,
     "metadata": {},
     "output_type": "execute_result"
    }
   ],
   "source": [
    "centralities.T.corr(method='spearman')"
   ]
  },
  {
   "cell_type": "code",
   "execution_count": 63,
   "metadata": {
    "colab": {
     "base_uri": "https://localhost:8080/",
     "height": 142
    },
    "colab_type": "code",
    "id": "bg4WeTIfOhU_",
    "outputId": "96b4ed24-61e6-4fe3-f7b9-995815f222f9"
   },
   "outputs": [
    {
     "data": {
      "text/html": [
       "<div>\n",
       "<style scoped>\n",
       "    .dataframe tbody tr th:only-of-type {\n",
       "        vertical-align: middle;\n",
       "    }\n",
       "\n",
       "    .dataframe tbody tr th {\n",
       "        vertical-align: top;\n",
       "    }\n",
       "\n",
       "    .dataframe thead th {\n",
       "        text-align: right;\n",
       "    }\n",
       "</style>\n",
       "<table border=\"1\" class=\"dataframe\">\n",
       "  <thead>\n",
       "    <tr style=\"text-align: right;\">\n",
       "      <th></th>\n",
       "      <th>pagerank</th>\n",
       "      <th>in_degree</th>\n",
       "      <th>disruption</th>\n",
       "    </tr>\n",
       "  </thead>\n",
       "  <tbody>\n",
       "    <tr>\n",
       "      <th>pagerank</th>\n",
       "      <td>1.000000</td>\n",
       "      <td>0.687308</td>\n",
       "      <td>0.026614</td>\n",
       "    </tr>\n",
       "    <tr>\n",
       "      <th>in_degree</th>\n",
       "      <td>0.687308</td>\n",
       "      <td>1.000000</td>\n",
       "      <td>-0.005194</td>\n",
       "    </tr>\n",
       "    <tr>\n",
       "      <th>disruption</th>\n",
       "      <td>0.026614</td>\n",
       "      <td>-0.005194</td>\n",
       "      <td>1.000000</td>\n",
       "    </tr>\n",
       "  </tbody>\n",
       "</table>\n",
       "</div>"
      ],
      "text/plain": [
       "            pagerank  in_degree  disruption\n",
       "pagerank    1.000000   0.687308    0.026614\n",
       "in_degree   0.687308   1.000000   -0.005194\n",
       "disruption  0.026614  -0.005194    1.000000"
      ]
     },
     "execution_count": 63,
     "metadata": {},
     "output_type": "execute_result"
    }
   ],
   "source": [
    "centralities.T.corr(method='kendall')"
   ]
  },
  {
   "cell_type": "code",
   "execution_count": null,
   "metadata": {},
   "outputs": [],
   "source": []
  }
 ],
 "metadata": {
  "colab": {
   "name": "centralities_correlation.ipynb",
   "provenance": []
  },
  "kernelspec": {
   "display_name": "Python 3",
   "language": "python",
   "name": "python3"
  },
  "language_info": {
   "codemirror_mode": {
    "name": "ipython",
    "version": 3
   },
   "file_extension": ".py",
   "mimetype": "text/x-python",
   "name": "python",
   "nbconvert_exporter": "python",
   "pygments_lexer": "ipython3",
   "version": "3.8.2"
  }
 },
 "nbformat": 4,
 "nbformat_minor": 1
}
