{
 "cells": [
  {
   "cell_type": "code",
   "execution_count": 1,
   "metadata": {
    "colab": {
     "base_uri": "https://localhost:8080/",
     "height": 88
    },
    "colab_type": "code",
    "executionInfo": {
     "elapsed": 2342,
     "status": "ok",
     "timestamp": 1588786876274,
     "user": {
      "displayName": "Tales Panoutsos Malheiros Lima",
      "photoUrl": "https://lh3.googleusercontent.com/a-/AOh14GjJOQ9j3KI4NqEf90arIeK004r3HiHKLw_ixEm11g=s64",
      "userId": "15576848666894932629"
     },
     "user_tz": 180
    },
    "id": "z_i3SJaoG3b1",
    "outputId": "7c49f50f-bb2f-4915-b019-25582ca1d9d2"
   },
   "outputs": [
    {
     "name": "stderr",
     "output_type": "stream",
     "text": [
      "/usr/local/lib/python3.6/dist-packages/statsmodels/tools/_testing.py:19: FutureWarning: pandas.util.testing is deprecated. Use the functions in the public API at pandas.testing instead.\n",
      "  import pandas.util.testing as tm\n"
     ]
    },
    {
     "name": "stdout",
     "output_type": "stream",
     "text": [
      "Mounted at /gdrive\n"
     ]
    }
   ],
   "source": [
    "import os\n",
    "import gzip as gz\n",
    "import json\n",
    "import matplotlib.pyplot as plt\n",
    "import numpy as np\n",
    "import pandas as pd\n",
    "import networkx as nx\n",
    "from difflib import get_close_matches\n",
    "from statsmodels.distributions.empirical_distribution import *\n",
    "import scipy\n",
    "from scipy.stats import norm\n",
    "from google.colab import drive\n",
    "drive.mount('/gdrive', force_remount=True)"
   ]
  },
  {
   "cell_type": "code",
   "execution_count": 2,
   "metadata": {
    "colab": {
     "base_uri": "https://localhost:8080/",
     "height": 411
    },
    "colab_type": "code",
    "executionInfo": {
     "elapsed": 8083,
     "status": "ok",
     "timestamp": 1588786885614,
     "user": {
      "displayName": "Tales Panoutsos Malheiros Lima",
      "photoUrl": "https://lh3.googleusercontent.com/a-/AOh14GjJOQ9j3KI4NqEf90arIeK004r3HiHKLw_ixEm11g=s64",
      "userId": "15576848666894932629"
     },
     "user_tz": 180
    },
    "id": "B3Ygdl62HDXU",
    "outputId": "3169e500-e479-4db4-9c37-124ed3e8caf2"
   },
   "outputs": [
    {
     "name": "stdout",
     "output_type": "stream",
     "text": [
      "--2020-05-06 17:41:06--  http://dcc.ufmg.br/~flaviovdf/whosampled_fixed_year_and_top.json.gz\n",
      "Resolving dcc.ufmg.br (dcc.ufmg.br)... 150.164.0.135\n",
      "Connecting to dcc.ufmg.br (dcc.ufmg.br)|150.164.0.135|:80... connected.\n",
      "HTTP request sent, awaiting response... 302 Found\n",
      "Location: http://homepages.dcc.ufmg.br/~flaviovdf/whosampled_fixed_year_and_top.json.gz [following]\n",
      "--2020-05-06 17:41:06--  http://homepages.dcc.ufmg.br/~flaviovdf/whosampled_fixed_year_and_top.json.gz\n",
      "Resolving homepages.dcc.ufmg.br (homepages.dcc.ufmg.br)... 150.164.0.136\n",
      "Connecting to homepages.dcc.ufmg.br (homepages.dcc.ufmg.br)|150.164.0.136|:80... connected.\n",
      "HTTP request sent, awaiting response... 302 Found\n",
      "Location: https://homepages.dcc.ufmg.br/~flaviovdf/whosampled_fixed_year_and_top.json.gz [following]\n",
      "--2020-05-06 17:41:07--  https://homepages.dcc.ufmg.br/~flaviovdf/whosampled_fixed_year_and_top.json.gz\n",
      "Connecting to homepages.dcc.ufmg.br (homepages.dcc.ufmg.br)|150.164.0.136|:443... connected.\n",
      "WARNING: cannot verify homepages.dcc.ufmg.br's certificate, issued by ‘CN=AlphaSSL CA - SHA256 - G2,O=GlobalSign nv-sa,C=BE’:\n",
      "  Unable to locally verify the issuer's authority.\n",
      "HTTP request sent, awaiting response... 200 OK\n",
      "Length: 65251445 (62M) [application/x-gzip]\n",
      "Saving to: ‘whosampled_fixed_year_and_top.json.gz.1’\n",
      "\n",
      "whosampled_fixed_ye 100%[===================>]  62.23M  20.0MB/s    in 3.8s    \n",
      "\n",
      "2020-05-06 17:41:11 (16.2 MB/s) - ‘whosampled_fixed_year_and_top.json.gz.1’ saved [65251445/65251445]\n",
      "\n"
     ]
    }
   ],
   "source": [
    "#Carregando dados whosampled\n",
    "!wget --no-check-certificate http://dcc.ufmg.br/~flaviovdf/whosampled_fixed_year_and_top.json.gz"
   ]
  },
  {
   "cell_type": "code",
   "execution_count": 0,
   "metadata": {
    "colab": {},
    "colab_type": "code",
    "id": "z7xH11kDHUTq"
   },
   "outputs": [],
   "source": [
    "with gz.open('whosampled_fixed_year_and_top.json.gz') as who_sampled_file:\n",
    "  who_sampled_json = json.load(who_sampled_file)"
   ]
  },
  {
   "cell_type": "code",
   "execution_count": 0,
   "metadata": {
    "colab": {},
    "colab_type": "code",
    "id": "igGAEARdriLd"
   },
   "outputs": [],
   "source": [
    "os.chdir('/gdrive/My Drive/IC_tales/code')"
   ]
  },
  {
   "cell_type": "code",
   "execution_count": 0,
   "metadata": {
    "colab": {},
    "colab_type": "code",
    "id": "PnjsDQNbqzK7"
   },
   "outputs": [],
   "source": [
    "import disrupt as dr\n",
    "import amutils as at"
   ]
  },
  {
   "cell_type": "code",
   "execution_count": 0,
   "metadata": {
    "colab": {},
    "colab_type": "code",
    "id": "d8mGo0WIqzLJ"
   },
   "outputs": [],
   "source": [
    "#Carregando dados do allmusic \n",
    "allmusic_json = at.load_am_json_data()"
   ]
  },
  {
   "cell_type": "markdown",
   "metadata": {
    "colab_type": "text",
    "id": "aZ5p1KvsowMk"
   },
   "source": [
    "---"
   ]
  },
  {
   "cell_type": "markdown",
   "metadata": {
    "colab_type": "text",
    "id": "5Z_A_9ngJmy5"
   },
   "source": [
    "<br><h4>Construindo grafos</h4><br><p>Allmusic:</p><br>"
   ]
  },
  {
   "cell_type": "code",
   "execution_count": 106,
   "metadata": {
    "colab": {
     "base_uri": "https://localhost:8080/",
     "height": 170
    },
    "colab_type": "code",
    "executionInfo": {
     "elapsed": 9890,
     "status": "ok",
     "timestamp": 1588820572907,
     "user": {
      "displayName": "Tales Panoutsos Malheiros Lima",
      "photoUrl": "https://lh3.googleusercontent.com/a-/AOh14GjJOQ9j3KI4NqEf90arIeK004r3HiHKLw_ixEm11g=s64",
      "userId": "15576848666894932629"
     },
     "user_tz": 180
    },
    "id": "q-4iCIerwOYj",
    "outputId": "f314242a-0543-4ac7-8bcd-61567b3a2e40"
   },
   "outputs": [
    {
     "name": "stdout",
     "output_type": "stream",
     "text": [
      "Decade  Nodes Edges\n",
      "1940 :  1113   2981\n",
      "1950 :  2284   7726\n",
      "1960 :  4336   17901\n",
      "1970 :  6652   28885\n",
      "1980 :  10106   44395\n",
      "1990 :  17376   72661\n",
      "2000 :  26603   105658\n",
      "2010 :  29878   115053\n"
     ]
    }
   ],
   "source": [
    "Allmusic_graphs = dict()\n",
    "nodes_to_consider_allmusic = list()\n",
    "print('Decade  Nodes Edges')\n",
    "for decade in range(1940,2020,10):\n",
    "  for artist in allmusic_json:\n",
    "   if set(range(1940,decade+1,10)).intersection(allmusic_json[artist]['decades']):\n",
    "    nodes_to_consider_allmusic.append(artist)\n",
    "  Allmusic_graphs[decade] = at.build_graph(allmusic_json, nodes_to_consider=nodes_to_consider_allmusic, decades_to_consider=range(1940,decade+1,10))\n",
    "  print(decade,': ',Allmusic_graphs[decade].number_of_nodes(),' ',Allmusic_graphs[decade].number_of_edges())\n"
   ]
  },
  {
   "cell_type": "markdown",
   "metadata": {
    "colab_type": "text",
    "id": "Kv4Rd6_tPUJf"
   },
   "source": [
    "<br><p>Who sampled:</p><br>"
   ]
  },
  {
   "cell_type": "code",
   "execution_count": 8,
   "metadata": {
    "colab": {
     "base_uri": "https://localhost:8080/",
     "height": 1000
    },
    "colab_type": "code",
    "executionInfo": {
     "elapsed": 282935,
     "status": "ok",
     "timestamp": 1588787204023,
     "user": {
      "displayName": "Tales Panoutsos Malheiros Lima",
      "photoUrl": "https://lh3.googleusercontent.com/a-/AOh14GjJOQ9j3KI4NqEf90arIeK004r3HiHKLw_ixEm11g=s64",
      "userId": "15576848666894932629"
     },
     "user_tz": 180
    },
    "id": "pi6ysR871UGa",
    "outputId": "305c3d2e-a023-4faf-cf96-ac20c1b448b9"
   },
   "outputs": [
    {
     "name": "stdout",
     "output_type": "stream",
     "text": [
      "Decade Nodes Edges\n",
      "1940 : 55   45\n",
      "1941 : 62   53\n",
      "1942 : 68   59\n",
      "1943 : 74   68\n",
      "1944 : 78   73\n",
      "1945 : 84   82\n",
      "1946 : 95   94\n",
      "1947 : 116   117\n",
      "1948 : 124   126\n",
      "1949 : 130   132\n",
      "1950 : 356   370\n",
      "1951 : 503   557\n",
      "1952 : 657   748\n",
      "1953 : 878   1017\n",
      "1954 : 1073   1307\n",
      "1955 : 1351   1811\n",
      "1956 : 1721   2560\n",
      "1957 : 2140   3546\n",
      "1958 : 2596   4705\n",
      "1959 : 3098   6145\n",
      "1960 : 3564   7590\n",
      "1961 : 4071   9168\n",
      "1962 : 4647   11107\n",
      "1963 : 5266   13137\n",
      "1964 : 5967   15486\n",
      "1965 : 6750   18155\n",
      "1966 : 7673   21236\n",
      "1967 : 8544   24207\n",
      "1968 : 9554   27662\n",
      "1969 : 10554   31184\n",
      "1970 : 11428   34197\n",
      "1971 : 12156   36781\n",
      "1972 : 12964   39493\n",
      "1973 : 13693   42053\n",
      "1974 : 14408   44505\n",
      "1975 : 15111   46901\n",
      "1976 : 15883   49290\n",
      "1977 : 16680   51677\n",
      "1978 : 17511   54102\n",
      "1979 : 18280   56397\n",
      "1980 : 19038   58435\n",
      "1981 : 19745   60463\n",
      "1982 : 20592   62661\n",
      "1983 : 21469   64706\n",
      "1984 : 22459   67129\n",
      "1985 : 23476   69660\n",
      "1986 : 24635   72788\n",
      "1987 : 26111   77204\n",
      "1988 : 27930   84190\n",
      "1989 : 29659   92285\n",
      "1990 : 31768   101719\n",
      "1991 : 34150   113355\n",
      "1992 : 37009   126911\n",
      "1993 : 40065   140634\n",
      "1994 : 43396   154183\n",
      "1995 : 47182   168548\n",
      "1996 : 50949   183303\n",
      "1997 : 54525   197520\n",
      "1998 : 58363   212504\n",
      "1999 : 62279   227421\n",
      "2000 : 66076   241215\n",
      "2001 : 69639   254793\n",
      "2002 : 73093   267816\n",
      "2003 : 76693   281257\n",
      "2004 : 80325   295342\n",
      "2005 : 84290   310549\n",
      "2006 : 88401   326632\n",
      "2007 : 92855   343621\n",
      "2008 : 97788   361789\n",
      "2009 : 103383   382116\n",
      "2010 : 109794   406018\n",
      "2011 : 117098   433002\n",
      "2012 : 125032   462063\n",
      "2013 : 132398   490393\n",
      "2014 : 139700   519098\n",
      "2015 : 146763   546171\n",
      "2016 : 152824   569266\n",
      "2017 : 158360   589710\n",
      "2018 : 162772   605962\n",
      "2019 : 165925   617852\n",
      "2020 : 166078   618433\n"
     ]
    }
   ],
   "source": [
    "Whosampled_graphs = dict()\n",
    "edges_to_consider_whosampled = dict()\n",
    "print('Decade Nodes Edges')\n",
    "for ano in range(1940, 2021, 1):\n",
    "  for sample in who_sampled_json:\n",
    "    for key in who_sampled_json[sample].keys():\n",
    "      if who_sampled_json[sample][key]['by']!=who_sampled_json[sample][key]['other_track_by']:\n",
    "        if key[:3]!='was':\n",
    "          if who_sampled_json[sample][key]['track']['year']<ano+1:\n",
    "            edges_to_consider_whosampled[sample] = who_sampled_json[sample] \n",
    "        else:\n",
    "          if int(who_sampled_json[sample][key]['other_track']['year'])<ano+1:\n",
    "            edges_to_consider_whosampled[sample] = who_sampled_json[sample]\n",
    "  \n",
    "  Whosampled_graphs[ano] = at.build_graph_who_sampled(who_sampled_json, edges_to_consider=edges_to_consider_whosampled)\n",
    "  print(ano,':',Whosampled_graphs[ano].number_of_nodes(),' ', Whosampled_graphs[ano].number_of_edges())"
   ]
  },
  {
   "cell_type": "markdown",
   "metadata": {
    "colab_type": "text",
    "id": "BhwFqcrG3c-C"
   },
   "source": [
    "<br><h2>Medidas</h2><br>"
   ]
  },
  {
   "cell_type": "code",
   "execution_count": 0,
   "metadata": {
    "colab": {},
    "colab_type": "code",
    "id": "a7N9oNBeHL57"
   },
   "outputs": [],
   "source": [
    "allmusic = dict({'pagerank': dict(keys = ['df','array'])})\n",
    "whosampled = dict({'pagerank': dict(keys = ['df','array'])})"
   ]
  },
  {
   "cell_type": "markdown",
   "metadata": {
    "colab_type": "text",
    "id": "GRtM9esG4NHG"
   },
   "source": [
    "<br><h4>Disruption</h4><br>"
   ]
  },
  {
   "cell_type": "code",
   "execution_count": 0,
   "metadata": {
    "colab": {},
    "colab_type": "code",
    "id": "eTMTKGBI4zb_"
   },
   "outputs": [],
   "source": [
    "disruption = dict()\n",
    "disruption['allmusic'] = dict(keys = range(1940,2020,10))\n",
    "disruption['whosampled'] = dict(keys = range(1940,2021))\n",
    "for ano in range(1940,2021):\n",
    "  print(ano)\n",
    "  disruption['whosampled'][ano] = dr.compute_disruption(Whosampled_graphs[ano], min_out=3)['disruption']\n",
    "for decade in range(1940,2020,10):\n",
    "  print(decade)\n",
    "  disruption['allmusic'][decade] = dr.compute_disruption(Allmusic_graphs[decade],min_out=3)['disruption']\n"
   ]
  },
  {
   "cell_type": "code",
   "execution_count": 0,
   "metadata": {
    "colab": {},
    "colab_type": "code",
    "id": "X5SaB0eunS2Q"
   },
   "outputs": [],
   "source": [
    "data = pd.DataFrame(disruption['allmusic'], index=disruption['allmusic'][2010].keys(), columns=range(1940,2020,10))\n",
    "data.to_csv('../data/allmusic_disruption.csv')"
   ]
  },
  {
   "cell_type": "code",
   "execution_count": 0,
   "metadata": {
    "colab": {},
    "colab_type": "code",
    "id": "DPhqfE7H4mV1"
   },
   "outputs": [],
   "source": [
    "data = pd.read_csv('../data/allmusic_disruption.csv')\n",
    "data"
   ]
  },
  {
   "cell_type": "code",
   "execution_count": 0,
   "metadata": {
    "colab": {},
    "colab_type": "code",
    "id": "ywkU_zmSGh47"
   },
   "outputs": [],
   "source": [
    "data = pd.DataFrame(disruption['whosampled'], index=disruption['whosampled'][2020].keys(), columns=range(1940,2021))\n",
    "data.to_csv('../data/whosampled_disruption_per_year.csv')"
   ]
  },
  {
   "cell_type": "code",
   "execution_count": 0,
   "metadata": {
    "colab": {},
    "colab_type": "code",
    "id": "9MIsxiOhjXW1"
   },
   "outputs": [],
   "source": [
    "data = pd.read_csv('../data/whosampled_disruption_per_year.csv')\n",
    "data"
   ]
  },
  {
   "cell_type": "code",
   "execution_count": 0,
   "metadata": {
    "colab": {},
    "colab_type": "code",
    "id": "5TItsxtikaj0"
   },
   "outputs": [],
   "source": [
    "for column in data.columns[1:]:\n",
    "  if len(data[column].dropna()) == Whosampled_graphs[int(column)].number_of_nodes() :\n",
    "    print(column)"
   ]
  },
  {
   "cell_type": "markdown",
   "metadata": {
    "colab_type": "text",
    "id": "MxgjhHiXHQpI"
   },
   "source": [
    "<br><h4>Pagerank</h4><br>"
   ]
  },
  {
   "cell_type": "code",
   "execution_count": 119,
   "metadata": {
    "colab": {
     "base_uri": "https://localhost:8080/",
     "height": 1000
    },
    "colab_type": "code",
    "executionInfo": {
     "elapsed": 46093,
     "status": "ok",
     "timestamp": 1588821629413,
     "user": {
      "displayName": "Tales Panoutsos Malheiros Lima",
      "photoUrl": "https://lh3.googleusercontent.com/a-/AOh14GjJOQ9j3KI4NqEf90arIeK004r3HiHKLw_ixEm11g=s64",
      "userId": "15576848666894932629"
     },
     "user_tz": 180
    },
    "id": "89dgcpqRzIUs",
    "outputId": "76658676-7906-4abf-ef69-433c43c10ed9"
   },
   "outputs": [
    {
     "name": "stdout",
     "output_type": "stream",
     "text": [
      "1940\n",
      "1941\n",
      "1942\n",
      "1943\n",
      "1944\n",
      "1945\n",
      "1946\n",
      "1947\n",
      "1948\n",
      "1949\n",
      "1950\n",
      "1951\n",
      "1952\n",
      "1953\n",
      "1954\n",
      "1955\n",
      "1956\n",
      "1957\n",
      "1958\n",
      "1959\n",
      "1960\n",
      "1961\n",
      "1962\n",
      "1963\n",
      "1964\n",
      "1965\n",
      "1966\n",
      "1967\n",
      "1968\n",
      "1969\n",
      "1970\n",
      "1971\n",
      "1972\n",
      "1973\n",
      "1974\n",
      "1975\n",
      "1976\n",
      "1977\n",
      "1978\n",
      "1979\n",
      "1980\n",
      "1981\n",
      "1982\n",
      "1983\n",
      "1984\n",
      "1985\n",
      "1986\n",
      "1987\n",
      "1988\n",
      "1989\n",
      "1990\n",
      "1991\n",
      "1992\n",
      "1993\n",
      "1994\n",
      "1995\n",
      "1996\n",
      "1997\n",
      "1998\n",
      "1999\n",
      "2000\n",
      "2001\n",
      "2002\n",
      "2003\n",
      "2004\n",
      "2005\n",
      "2006\n",
      "2007\n",
      "2008\n",
      "2009\n",
      "2010\n",
      "2011\n",
      "2012\n",
      "2013\n",
      "2014\n",
      "2015\n",
      "2016\n",
      "2017\n",
      "2018\n",
      "2019\n",
      "2020\n"
     ]
    }
   ],
   "source": [
    "pageranks = dict()\n",
    "pageranks['allmusic'] = dict(keys = range(1940,2020,10))\n",
    "pageranks['whosampled'] = dict(keys = range(1940,2021,1))\n",
    "#for decade in range(1940,2020,10):\n",
    "#  pageranks['allmusic'][decade] = nx.pagerank(Allmusic_graphs[decade])\n",
    "for ano in range(1940,2021,1):\n",
    "  print(ano)\n",
    "  pageranks['whosampled'][ano] = nx.pagerank(Whosampled_graphs[ano])"
   ]
  },
  {
   "cell_type": "code",
   "execution_count": 0,
   "metadata": {
    "colab": {},
    "colab_type": "code",
    "id": "Q24uWl3u6f6L"
   },
   "outputs": [],
   "source": [
    "pageranks['whosampled']\n",
    "data = pd.DataFrame(pageranks['whosampled'], index=pageranks['whosampled'][2020].keys(), columns=range(1940,2021,1))\n",
    "data.to_csv('../data/whosampled_pageranks_per_year.csv')"
   ]
  },
  {
   "cell_type": "code",
   "execution_count": 122,
   "metadata": {
    "colab": {
     "base_uri": "https://localhost:8080/",
     "height": 558
    },
    "colab_type": "code",
    "executionInfo": {
     "elapsed": 3351,
     "status": "ok",
     "timestamp": 1588821838870,
     "user": {
      "displayName": "Tales Panoutsos Malheiros Lima",
      "photoUrl": "https://lh3.googleusercontent.com/a-/AOh14GjJOQ9j3KI4NqEf90arIeK004r3HiHKLw_ixEm11g=s64",
      "userId": "15576848666894932629"
     },
     "user_tz": 180
    },
    "id": "PYZwK6bK8rSg",
    "outputId": "36044a19-fd66-4aec-9663-0de06e82e6c5"
   },
   "outputs": [
    {
     "data": {
      "text/html": [
       "<div>\n",
       "<style scoped>\n",
       "    .dataframe tbody tr th:only-of-type {\n",
       "        vertical-align: middle;\n",
       "    }\n",
       "\n",
       "    .dataframe tbody tr th {\n",
       "        vertical-align: top;\n",
       "    }\n",
       "\n",
       "    .dataframe thead th {\n",
       "        text-align: right;\n",
       "    }\n",
       "</style>\n",
       "<table border=\"1\" class=\"dataframe\">\n",
       "  <thead>\n",
       "    <tr style=\"text-align: right;\">\n",
       "      <th></th>\n",
       "      <th>Unnamed: 0</th>\n",
       "      <th>1940</th>\n",
       "      <th>1941</th>\n",
       "      <th>1942</th>\n",
       "      <th>1943</th>\n",
       "      <th>1944</th>\n",
       "      <th>1945</th>\n",
       "      <th>1946</th>\n",
       "      <th>1947</th>\n",
       "      <th>1948</th>\n",
       "      <th>1949</th>\n",
       "      <th>1950</th>\n",
       "      <th>1951</th>\n",
       "      <th>1952</th>\n",
       "      <th>1953</th>\n",
       "      <th>1954</th>\n",
       "      <th>1955</th>\n",
       "      <th>1956</th>\n",
       "      <th>1957</th>\n",
       "      <th>1958</th>\n",
       "      <th>1959</th>\n",
       "      <th>1960</th>\n",
       "      <th>1961</th>\n",
       "      <th>1962</th>\n",
       "      <th>1963</th>\n",
       "      <th>1964</th>\n",
       "      <th>1965</th>\n",
       "      <th>1966</th>\n",
       "      <th>1967</th>\n",
       "      <th>1968</th>\n",
       "      <th>1969</th>\n",
       "      <th>1970</th>\n",
       "      <th>1971</th>\n",
       "      <th>1972</th>\n",
       "      <th>1973</th>\n",
       "      <th>1974</th>\n",
       "      <th>1975</th>\n",
       "      <th>1976</th>\n",
       "      <th>1977</th>\n",
       "      <th>1978</th>\n",
       "      <th>...</th>\n",
       "      <th>1981</th>\n",
       "      <th>1982</th>\n",
       "      <th>1983</th>\n",
       "      <th>1984</th>\n",
       "      <th>1985</th>\n",
       "      <th>1986</th>\n",
       "      <th>1987</th>\n",
       "      <th>1988</th>\n",
       "      <th>1989</th>\n",
       "      <th>1990</th>\n",
       "      <th>1991</th>\n",
       "      <th>1992</th>\n",
       "      <th>1993</th>\n",
       "      <th>1994</th>\n",
       "      <th>1995</th>\n",
       "      <th>1996</th>\n",
       "      <th>1997</th>\n",
       "      <th>1998</th>\n",
       "      <th>1999</th>\n",
       "      <th>2000</th>\n",
       "      <th>2001</th>\n",
       "      <th>2002</th>\n",
       "      <th>2003</th>\n",
       "      <th>2004</th>\n",
       "      <th>2005</th>\n",
       "      <th>2006</th>\n",
       "      <th>2007</th>\n",
       "      <th>2008</th>\n",
       "      <th>2009</th>\n",
       "      <th>2010</th>\n",
       "      <th>2011</th>\n",
       "      <th>2012</th>\n",
       "      <th>2013</th>\n",
       "      <th>2014</th>\n",
       "      <th>2015</th>\n",
       "      <th>2016</th>\n",
       "      <th>2017</th>\n",
       "      <th>2018</th>\n",
       "      <th>2019</th>\n",
       "      <th>2020</th>\n",
       "    </tr>\n",
       "  </thead>\n",
       "  <tbody>\n",
       "    <tr>\n",
       "      <th>0</th>\n",
       "      <td>Boban Markovic</td>\n",
       "      <td>0.010923</td>\n",
       "      <td>0.009569</td>\n",
       "      <td>0.008714</td>\n",
       "      <td>0.0080</td>\n",
       "      <td>0.007431</td>\n",
       "      <td>0.006882</td>\n",
       "      <td>0.006041</td>\n",
       "      <td>0.004820</td>\n",
       "      <td>0.004531</td>\n",
       "      <td>0.004314</td>\n",
       "      <td>0.001615</td>\n",
       "      <td>0.001123</td>\n",
       "      <td>0.000867</td>\n",
       "      <td>0.000656</td>\n",
       "      <td>0.000516</td>\n",
       "      <td>0.000405</td>\n",
       "      <td>0.000308</td>\n",
       "      <td>0.000239</td>\n",
       "      <td>0.000194</td>\n",
       "      <td>0.000158</td>\n",
       "      <td>0.000135</td>\n",
       "      <td>0.000118</td>\n",
       "      <td>0.000100</td>\n",
       "      <td>0.000085</td>\n",
       "      <td>0.000073</td>\n",
       "      <td>0.000063</td>\n",
       "      <td>0.000054</td>\n",
       "      <td>0.000048</td>\n",
       "      <td>0.000042</td>\n",
       "      <td>0.000037</td>\n",
       "      <td>0.000033</td>\n",
       "      <td>0.000031</td>\n",
       "      <td>0.000029</td>\n",
       "      <td>0.000027</td>\n",
       "      <td>0.000026</td>\n",
       "      <td>0.000024</td>\n",
       "      <td>0.000023</td>\n",
       "      <td>0.000022</td>\n",
       "      <td>0.000021</td>\n",
       "      <td>...</td>\n",
       "      <td>0.000018</td>\n",
       "      <td>0.000017</td>\n",
       "      <td>0.000016</td>\n",
       "      <td>0.000016</td>\n",
       "      <td>0.000015</td>\n",
       "      <td>0.000014</td>\n",
       "      <td>0.000013</td>\n",
       "      <td>0.000012</td>\n",
       "      <td>0.000011</td>\n",
       "      <td>0.000010</td>\n",
       "      <td>0.000010</td>\n",
       "      <td>0.000009</td>\n",
       "      <td>0.000008</td>\n",
       "      <td>0.000007</td>\n",
       "      <td>0.000007</td>\n",
       "      <td>0.000006</td>\n",
       "      <td>0.000006</td>\n",
       "      <td>0.000005</td>\n",
       "      <td>0.000005</td>\n",
       "      <td>0.000004</td>\n",
       "      <td>0.000004</td>\n",
       "      <td>0.000004</td>\n",
       "      <td>0.000004</td>\n",
       "      <td>0.000004</td>\n",
       "      <td>0.000003</td>\n",
       "      <td>0.000003</td>\n",
       "      <td>0.000003</td>\n",
       "      <td>0.000003</td>\n",
       "      <td>0.000003</td>\n",
       "      <td>0.000003</td>\n",
       "      <td>0.000002</td>\n",
       "      <td>0.000002</td>\n",
       "      <td>0.000002</td>\n",
       "      <td>0.000002</td>\n",
       "      <td>0.000002</td>\n",
       "      <td>0.000002</td>\n",
       "      <td>0.000002</td>\n",
       "      <td>0.000002</td>\n",
       "      <td>0.000002</td>\n",
       "      <td>0.000002</td>\n",
       "    </tr>\n",
       "    <tr>\n",
       "      <th>1</th>\n",
       "      <td>Milivoje Mića Marković</td>\n",
       "      <td>0.020207</td>\n",
       "      <td>0.017703</td>\n",
       "      <td>0.016122</td>\n",
       "      <td>0.0148</td>\n",
       "      <td>0.013748</td>\n",
       "      <td>0.012732</td>\n",
       "      <td>0.011176</td>\n",
       "      <td>0.008917</td>\n",
       "      <td>0.008383</td>\n",
       "      <td>0.007981</td>\n",
       "      <td>0.002988</td>\n",
       "      <td>0.002077</td>\n",
       "      <td>0.001605</td>\n",
       "      <td>0.001215</td>\n",
       "      <td>0.000954</td>\n",
       "      <td>0.000749</td>\n",
       "      <td>0.000571</td>\n",
       "      <td>0.000442</td>\n",
       "      <td>0.000359</td>\n",
       "      <td>0.000292</td>\n",
       "      <td>0.000251</td>\n",
       "      <td>0.000219</td>\n",
       "      <td>0.000186</td>\n",
       "      <td>0.000157</td>\n",
       "      <td>0.000136</td>\n",
       "      <td>0.000117</td>\n",
       "      <td>0.000100</td>\n",
       "      <td>0.000088</td>\n",
       "      <td>0.000077</td>\n",
       "      <td>0.000068</td>\n",
       "      <td>0.000062</td>\n",
       "      <td>0.000058</td>\n",
       "      <td>0.000054</td>\n",
       "      <td>0.000050</td>\n",
       "      <td>0.000048</td>\n",
       "      <td>0.000045</td>\n",
       "      <td>0.000047</td>\n",
       "      <td>0.000044</td>\n",
       "      <td>0.000042</td>\n",
       "      <td>...</td>\n",
       "      <td>0.000036</td>\n",
       "      <td>0.000035</td>\n",
       "      <td>0.000033</td>\n",
       "      <td>0.000031</td>\n",
       "      <td>0.000030</td>\n",
       "      <td>0.000028</td>\n",
       "      <td>0.000026</td>\n",
       "      <td>0.000024</td>\n",
       "      <td>0.000023</td>\n",
       "      <td>0.000021</td>\n",
       "      <td>0.000019</td>\n",
       "      <td>0.000018</td>\n",
       "      <td>0.000016</td>\n",
       "      <td>0.000015</td>\n",
       "      <td>0.000015</td>\n",
       "      <td>0.000014</td>\n",
       "      <td>0.000013</td>\n",
       "      <td>0.000012</td>\n",
       "      <td>0.000012</td>\n",
       "      <td>0.000011</td>\n",
       "      <td>0.000010</td>\n",
       "      <td>0.000010</td>\n",
       "      <td>0.000009</td>\n",
       "      <td>0.000009</td>\n",
       "      <td>0.000008</td>\n",
       "      <td>0.000008</td>\n",
       "      <td>0.000007</td>\n",
       "      <td>0.000007</td>\n",
       "      <td>0.000007</td>\n",
       "      <td>0.000006</td>\n",
       "      <td>0.000006</td>\n",
       "      <td>0.000006</td>\n",
       "      <td>0.000005</td>\n",
       "      <td>0.000005</td>\n",
       "      <td>0.000005</td>\n",
       "      <td>0.000005</td>\n",
       "      <td>0.000004</td>\n",
       "      <td>0.000004</td>\n",
       "      <td>0.000004</td>\n",
       "      <td>0.000004</td>\n",
       "    </tr>\n",
       "    <tr>\n",
       "      <th>2</th>\n",
       "      <td>Berkant</td>\n",
       "      <td>0.010923</td>\n",
       "      <td>0.009569</td>\n",
       "      <td>0.008714</td>\n",
       "      <td>0.0080</td>\n",
       "      <td>0.007431</td>\n",
       "      <td>0.006882</td>\n",
       "      <td>0.006041</td>\n",
       "      <td>0.004820</td>\n",
       "      <td>0.004531</td>\n",
       "      <td>0.004314</td>\n",
       "      <td>0.001615</td>\n",
       "      <td>0.001123</td>\n",
       "      <td>0.000867</td>\n",
       "      <td>0.000656</td>\n",
       "      <td>0.000516</td>\n",
       "      <td>0.000405</td>\n",
       "      <td>0.000308</td>\n",
       "      <td>0.000239</td>\n",
       "      <td>0.000194</td>\n",
       "      <td>0.000158</td>\n",
       "      <td>0.000135</td>\n",
       "      <td>0.000118</td>\n",
       "      <td>0.000100</td>\n",
       "      <td>0.000085</td>\n",
       "      <td>0.000073</td>\n",
       "      <td>0.000063</td>\n",
       "      <td>0.000054</td>\n",
       "      <td>0.000048</td>\n",
       "      <td>0.000042</td>\n",
       "      <td>0.000110</td>\n",
       "      <td>0.000126</td>\n",
       "      <td>0.000139</td>\n",
       "      <td>0.000126</td>\n",
       "      <td>0.000129</td>\n",
       "      <td>0.000121</td>\n",
       "      <td>0.000118</td>\n",
       "      <td>0.000112</td>\n",
       "      <td>0.000104</td>\n",
       "      <td>0.000098</td>\n",
       "      <td>...</td>\n",
       "      <td>0.000094</td>\n",
       "      <td>0.000091</td>\n",
       "      <td>0.000085</td>\n",
       "      <td>0.000081</td>\n",
       "      <td>0.000077</td>\n",
       "      <td>0.000073</td>\n",
       "      <td>0.000069</td>\n",
       "      <td>0.000064</td>\n",
       "      <td>0.000060</td>\n",
       "      <td>0.000055</td>\n",
       "      <td>0.000051</td>\n",
       "      <td>0.000047</td>\n",
       "      <td>0.000044</td>\n",
       "      <td>0.000040</td>\n",
       "      <td>0.000037</td>\n",
       "      <td>0.000035</td>\n",
       "      <td>0.000031</td>\n",
       "      <td>0.000030</td>\n",
       "      <td>0.000028</td>\n",
       "      <td>0.000027</td>\n",
       "      <td>0.000025</td>\n",
       "      <td>0.000024</td>\n",
       "      <td>0.000023</td>\n",
       "      <td>0.000022</td>\n",
       "      <td>0.000021</td>\n",
       "      <td>0.000021</td>\n",
       "      <td>0.000020</td>\n",
       "      <td>0.000019</td>\n",
       "      <td>0.000018</td>\n",
       "      <td>0.000017</td>\n",
       "      <td>0.000017</td>\n",
       "      <td>0.000016</td>\n",
       "      <td>0.000015</td>\n",
       "      <td>0.000015</td>\n",
       "      <td>0.000015</td>\n",
       "      <td>0.000014</td>\n",
       "      <td>0.000014</td>\n",
       "      <td>0.000014</td>\n",
       "      <td>0.000013</td>\n",
       "      <td>0.000013</td>\n",
       "    </tr>\n",
       "    <tr>\n",
       "      <th>3</th>\n",
       "      <td>Hugues Aufray</td>\n",
       "      <td>0.029492</td>\n",
       "      <td>0.025838</td>\n",
       "      <td>0.023530</td>\n",
       "      <td>0.0216</td>\n",
       "      <td>0.020064</td>\n",
       "      <td>0.018581</td>\n",
       "      <td>0.016311</td>\n",
       "      <td>0.013015</td>\n",
       "      <td>0.012234</td>\n",
       "      <td>0.011648</td>\n",
       "      <td>0.004361</td>\n",
       "      <td>0.003032</td>\n",
       "      <td>0.002342</td>\n",
       "      <td>0.001773</td>\n",
       "      <td>0.001393</td>\n",
       "      <td>0.001093</td>\n",
       "      <td>0.000833</td>\n",
       "      <td>0.000645</td>\n",
       "      <td>0.000523</td>\n",
       "      <td>0.000426</td>\n",
       "      <td>0.000366</td>\n",
       "      <td>0.000319</td>\n",
       "      <td>0.000271</td>\n",
       "      <td>0.000230</td>\n",
       "      <td>0.000198</td>\n",
       "      <td>0.000170</td>\n",
       "      <td>0.000192</td>\n",
       "      <td>0.000183</td>\n",
       "      <td>0.000184</td>\n",
       "      <td>0.000250</td>\n",
       "      <td>0.000249</td>\n",
       "      <td>0.000240</td>\n",
       "      <td>0.000169</td>\n",
       "      <td>0.000176</td>\n",
       "      <td>0.000163</td>\n",
       "      <td>0.000159</td>\n",
       "      <td>0.000153</td>\n",
       "      <td>0.000147</td>\n",
       "      <td>0.000143</td>\n",
       "      <td>...</td>\n",
       "      <td>0.000131</td>\n",
       "      <td>0.000126</td>\n",
       "      <td>0.000134</td>\n",
       "      <td>0.000129</td>\n",
       "      <td>0.000118</td>\n",
       "      <td>0.000112</td>\n",
       "      <td>0.000105</td>\n",
       "      <td>0.000097</td>\n",
       "      <td>0.000091</td>\n",
       "      <td>0.000082</td>\n",
       "      <td>0.000077</td>\n",
       "      <td>0.000071</td>\n",
       "      <td>0.000066</td>\n",
       "      <td>0.000060</td>\n",
       "      <td>0.000055</td>\n",
       "      <td>0.000052</td>\n",
       "      <td>0.000049</td>\n",
       "      <td>0.000048</td>\n",
       "      <td>0.000046</td>\n",
       "      <td>0.000043</td>\n",
       "      <td>0.000044</td>\n",
       "      <td>0.000042</td>\n",
       "      <td>0.000040</td>\n",
       "      <td>0.000039</td>\n",
       "      <td>0.000037</td>\n",
       "      <td>0.000036</td>\n",
       "      <td>0.000035</td>\n",
       "      <td>0.000034</td>\n",
       "      <td>0.000035</td>\n",
       "      <td>0.000034</td>\n",
       "      <td>0.000032</td>\n",
       "      <td>0.000030</td>\n",
       "      <td>0.000029</td>\n",
       "      <td>0.000032</td>\n",
       "      <td>0.000031</td>\n",
       "      <td>0.000030</td>\n",
       "      <td>0.000028</td>\n",
       "      <td>0.000027</td>\n",
       "      <td>0.000027</td>\n",
       "      <td>0.000027</td>\n",
       "    </tr>\n",
       "    <tr>\n",
       "      <th>4</th>\n",
       "      <td>Vasfi Uçaroğlu Orkestrası</td>\n",
       "      <td>0.010923</td>\n",
       "      <td>0.009569</td>\n",
       "      <td>0.008714</td>\n",
       "      <td>0.0080</td>\n",
       "      <td>0.007431</td>\n",
       "      <td>0.006882</td>\n",
       "      <td>0.006041</td>\n",
       "      <td>0.004820</td>\n",
       "      <td>0.004531</td>\n",
       "      <td>0.004314</td>\n",
       "      <td>0.001615</td>\n",
       "      <td>0.001123</td>\n",
       "      <td>0.000867</td>\n",
       "      <td>0.000656</td>\n",
       "      <td>0.000516</td>\n",
       "      <td>0.000405</td>\n",
       "      <td>0.000308</td>\n",
       "      <td>0.000239</td>\n",
       "      <td>0.000194</td>\n",
       "      <td>0.000158</td>\n",
       "      <td>0.000135</td>\n",
       "      <td>0.000118</td>\n",
       "      <td>0.000100</td>\n",
       "      <td>0.000085</td>\n",
       "      <td>0.000073</td>\n",
       "      <td>0.000063</td>\n",
       "      <td>0.000054</td>\n",
       "      <td>0.000048</td>\n",
       "      <td>0.000042</td>\n",
       "      <td>0.000037</td>\n",
       "      <td>0.000033</td>\n",
       "      <td>0.000031</td>\n",
       "      <td>0.000029</td>\n",
       "      <td>0.000027</td>\n",
       "      <td>0.000026</td>\n",
       "      <td>0.000024</td>\n",
       "      <td>0.000023</td>\n",
       "      <td>0.000022</td>\n",
       "      <td>0.000021</td>\n",
       "      <td>...</td>\n",
       "      <td>0.000018</td>\n",
       "      <td>0.000017</td>\n",
       "      <td>0.000016</td>\n",
       "      <td>0.000016</td>\n",
       "      <td>0.000015</td>\n",
       "      <td>0.000014</td>\n",
       "      <td>0.000013</td>\n",
       "      <td>0.000012</td>\n",
       "      <td>0.000011</td>\n",
       "      <td>0.000010</td>\n",
       "      <td>0.000010</td>\n",
       "      <td>0.000009</td>\n",
       "      <td>0.000008</td>\n",
       "      <td>0.000007</td>\n",
       "      <td>0.000007</td>\n",
       "      <td>0.000006</td>\n",
       "      <td>0.000006</td>\n",
       "      <td>0.000005</td>\n",
       "      <td>0.000005</td>\n",
       "      <td>0.000004</td>\n",
       "      <td>0.000004</td>\n",
       "      <td>0.000004</td>\n",
       "      <td>0.000004</td>\n",
       "      <td>0.000004</td>\n",
       "      <td>0.000003</td>\n",
       "      <td>0.000003</td>\n",
       "      <td>0.000003</td>\n",
       "      <td>0.000003</td>\n",
       "      <td>0.000003</td>\n",
       "      <td>0.000003</td>\n",
       "      <td>0.000002</td>\n",
       "      <td>0.000002</td>\n",
       "      <td>0.000002</td>\n",
       "      <td>0.000002</td>\n",
       "      <td>0.000002</td>\n",
       "      <td>0.000002</td>\n",
       "      <td>0.000002</td>\n",
       "      <td>0.000002</td>\n",
       "      <td>0.000002</td>\n",
       "      <td>0.000002</td>\n",
       "    </tr>\n",
       "    <tr>\n",
       "      <th>...</th>\n",
       "      <td>...</td>\n",
       "      <td>...</td>\n",
       "      <td>...</td>\n",
       "      <td>...</td>\n",
       "      <td>...</td>\n",
       "      <td>...</td>\n",
       "      <td>...</td>\n",
       "      <td>...</td>\n",
       "      <td>...</td>\n",
       "      <td>...</td>\n",
       "      <td>...</td>\n",
       "      <td>...</td>\n",
       "      <td>...</td>\n",
       "      <td>...</td>\n",
       "      <td>...</td>\n",
       "      <td>...</td>\n",
       "      <td>...</td>\n",
       "      <td>...</td>\n",
       "      <td>...</td>\n",
       "      <td>...</td>\n",
       "      <td>...</td>\n",
       "      <td>...</td>\n",
       "      <td>...</td>\n",
       "      <td>...</td>\n",
       "      <td>...</td>\n",
       "      <td>...</td>\n",
       "      <td>...</td>\n",
       "      <td>...</td>\n",
       "      <td>...</td>\n",
       "      <td>...</td>\n",
       "      <td>...</td>\n",
       "      <td>...</td>\n",
       "      <td>...</td>\n",
       "      <td>...</td>\n",
       "      <td>...</td>\n",
       "      <td>...</td>\n",
       "      <td>...</td>\n",
       "      <td>...</td>\n",
       "      <td>...</td>\n",
       "      <td>...</td>\n",
       "      <td>...</td>\n",
       "      <td>...</td>\n",
       "      <td>...</td>\n",
       "      <td>...</td>\n",
       "      <td>...</td>\n",
       "      <td>...</td>\n",
       "      <td>...</td>\n",
       "      <td>...</td>\n",
       "      <td>...</td>\n",
       "      <td>...</td>\n",
       "      <td>...</td>\n",
       "      <td>...</td>\n",
       "      <td>...</td>\n",
       "      <td>...</td>\n",
       "      <td>...</td>\n",
       "      <td>...</td>\n",
       "      <td>...</td>\n",
       "      <td>...</td>\n",
       "      <td>...</td>\n",
       "      <td>...</td>\n",
       "      <td>...</td>\n",
       "      <td>...</td>\n",
       "      <td>...</td>\n",
       "      <td>...</td>\n",
       "      <td>...</td>\n",
       "      <td>...</td>\n",
       "      <td>...</td>\n",
       "      <td>...</td>\n",
       "      <td>...</td>\n",
       "      <td>...</td>\n",
       "      <td>...</td>\n",
       "      <td>...</td>\n",
       "      <td>...</td>\n",
       "      <td>...</td>\n",
       "      <td>...</td>\n",
       "      <td>...</td>\n",
       "      <td>...</td>\n",
       "      <td>...</td>\n",
       "      <td>...</td>\n",
       "      <td>...</td>\n",
       "      <td>...</td>\n",
       "    </tr>\n",
       "    <tr>\n",
       "      <th>166073</th>\n",
       "      <td>George \"Corpsegrinder\" Fisher</td>\n",
       "      <td>NaN</td>\n",
       "      <td>NaN</td>\n",
       "      <td>NaN</td>\n",
       "      <td>NaN</td>\n",
       "      <td>NaN</td>\n",
       "      <td>NaN</td>\n",
       "      <td>NaN</td>\n",
       "      <td>NaN</td>\n",
       "      <td>NaN</td>\n",
       "      <td>NaN</td>\n",
       "      <td>NaN</td>\n",
       "      <td>NaN</td>\n",
       "      <td>NaN</td>\n",
       "      <td>NaN</td>\n",
       "      <td>NaN</td>\n",
       "      <td>NaN</td>\n",
       "      <td>NaN</td>\n",
       "      <td>NaN</td>\n",
       "      <td>NaN</td>\n",
       "      <td>NaN</td>\n",
       "      <td>NaN</td>\n",
       "      <td>NaN</td>\n",
       "      <td>NaN</td>\n",
       "      <td>NaN</td>\n",
       "      <td>NaN</td>\n",
       "      <td>NaN</td>\n",
       "      <td>NaN</td>\n",
       "      <td>NaN</td>\n",
       "      <td>NaN</td>\n",
       "      <td>NaN</td>\n",
       "      <td>NaN</td>\n",
       "      <td>NaN</td>\n",
       "      <td>NaN</td>\n",
       "      <td>NaN</td>\n",
       "      <td>NaN</td>\n",
       "      <td>NaN</td>\n",
       "      <td>NaN</td>\n",
       "      <td>NaN</td>\n",
       "      <td>NaN</td>\n",
       "      <td>...</td>\n",
       "      <td>NaN</td>\n",
       "      <td>NaN</td>\n",
       "      <td>NaN</td>\n",
       "      <td>NaN</td>\n",
       "      <td>NaN</td>\n",
       "      <td>NaN</td>\n",
       "      <td>NaN</td>\n",
       "      <td>NaN</td>\n",
       "      <td>NaN</td>\n",
       "      <td>NaN</td>\n",
       "      <td>NaN</td>\n",
       "      <td>NaN</td>\n",
       "      <td>NaN</td>\n",
       "      <td>NaN</td>\n",
       "      <td>NaN</td>\n",
       "      <td>NaN</td>\n",
       "      <td>NaN</td>\n",
       "      <td>NaN</td>\n",
       "      <td>NaN</td>\n",
       "      <td>NaN</td>\n",
       "      <td>NaN</td>\n",
       "      <td>NaN</td>\n",
       "      <td>NaN</td>\n",
       "      <td>NaN</td>\n",
       "      <td>NaN</td>\n",
       "      <td>NaN</td>\n",
       "      <td>NaN</td>\n",
       "      <td>NaN</td>\n",
       "      <td>NaN</td>\n",
       "      <td>NaN</td>\n",
       "      <td>NaN</td>\n",
       "      <td>NaN</td>\n",
       "      <td>NaN</td>\n",
       "      <td>NaN</td>\n",
       "      <td>NaN</td>\n",
       "      <td>NaN</td>\n",
       "      <td>NaN</td>\n",
       "      <td>NaN</td>\n",
       "      <td>NaN</td>\n",
       "      <td>0.000002</td>\n",
       "    </tr>\n",
       "    <tr>\n",
       "      <th>166074</th>\n",
       "      <td>Dj Buhh</td>\n",
       "      <td>NaN</td>\n",
       "      <td>NaN</td>\n",
       "      <td>NaN</td>\n",
       "      <td>NaN</td>\n",
       "      <td>NaN</td>\n",
       "      <td>NaN</td>\n",
       "      <td>NaN</td>\n",
       "      <td>NaN</td>\n",
       "      <td>NaN</td>\n",
       "      <td>NaN</td>\n",
       "      <td>NaN</td>\n",
       "      <td>NaN</td>\n",
       "      <td>NaN</td>\n",
       "      <td>NaN</td>\n",
       "      <td>NaN</td>\n",
       "      <td>NaN</td>\n",
       "      <td>NaN</td>\n",
       "      <td>NaN</td>\n",
       "      <td>NaN</td>\n",
       "      <td>NaN</td>\n",
       "      <td>NaN</td>\n",
       "      <td>NaN</td>\n",
       "      <td>NaN</td>\n",
       "      <td>NaN</td>\n",
       "      <td>NaN</td>\n",
       "      <td>NaN</td>\n",
       "      <td>NaN</td>\n",
       "      <td>NaN</td>\n",
       "      <td>NaN</td>\n",
       "      <td>NaN</td>\n",
       "      <td>NaN</td>\n",
       "      <td>NaN</td>\n",
       "      <td>NaN</td>\n",
       "      <td>NaN</td>\n",
       "      <td>NaN</td>\n",
       "      <td>NaN</td>\n",
       "      <td>NaN</td>\n",
       "      <td>NaN</td>\n",
       "      <td>NaN</td>\n",
       "      <td>...</td>\n",
       "      <td>NaN</td>\n",
       "      <td>NaN</td>\n",
       "      <td>NaN</td>\n",
       "      <td>NaN</td>\n",
       "      <td>NaN</td>\n",
       "      <td>NaN</td>\n",
       "      <td>NaN</td>\n",
       "      <td>NaN</td>\n",
       "      <td>NaN</td>\n",
       "      <td>NaN</td>\n",
       "      <td>NaN</td>\n",
       "      <td>NaN</td>\n",
       "      <td>NaN</td>\n",
       "      <td>NaN</td>\n",
       "      <td>NaN</td>\n",
       "      <td>NaN</td>\n",
       "      <td>NaN</td>\n",
       "      <td>NaN</td>\n",
       "      <td>NaN</td>\n",
       "      <td>NaN</td>\n",
       "      <td>NaN</td>\n",
       "      <td>NaN</td>\n",
       "      <td>NaN</td>\n",
       "      <td>NaN</td>\n",
       "      <td>NaN</td>\n",
       "      <td>NaN</td>\n",
       "      <td>NaN</td>\n",
       "      <td>NaN</td>\n",
       "      <td>NaN</td>\n",
       "      <td>NaN</td>\n",
       "      <td>NaN</td>\n",
       "      <td>NaN</td>\n",
       "      <td>NaN</td>\n",
       "      <td>NaN</td>\n",
       "      <td>NaN</td>\n",
       "      <td>NaN</td>\n",
       "      <td>NaN</td>\n",
       "      <td>NaN</td>\n",
       "      <td>NaN</td>\n",
       "      <td>0.000002</td>\n",
       "    </tr>\n",
       "    <tr>\n",
       "      <th>166075</th>\n",
       "      <td>Cast of Zoey's Extraordinary Playlist</td>\n",
       "      <td>NaN</td>\n",
       "      <td>NaN</td>\n",
       "      <td>NaN</td>\n",
       "      <td>NaN</td>\n",
       "      <td>NaN</td>\n",
       "      <td>NaN</td>\n",
       "      <td>NaN</td>\n",
       "      <td>NaN</td>\n",
       "      <td>NaN</td>\n",
       "      <td>NaN</td>\n",
       "      <td>NaN</td>\n",
       "      <td>NaN</td>\n",
       "      <td>NaN</td>\n",
       "      <td>NaN</td>\n",
       "      <td>NaN</td>\n",
       "      <td>NaN</td>\n",
       "      <td>NaN</td>\n",
       "      <td>NaN</td>\n",
       "      <td>NaN</td>\n",
       "      <td>NaN</td>\n",
       "      <td>NaN</td>\n",
       "      <td>NaN</td>\n",
       "      <td>NaN</td>\n",
       "      <td>NaN</td>\n",
       "      <td>NaN</td>\n",
       "      <td>NaN</td>\n",
       "      <td>NaN</td>\n",
       "      <td>NaN</td>\n",
       "      <td>NaN</td>\n",
       "      <td>NaN</td>\n",
       "      <td>NaN</td>\n",
       "      <td>NaN</td>\n",
       "      <td>NaN</td>\n",
       "      <td>NaN</td>\n",
       "      <td>NaN</td>\n",
       "      <td>NaN</td>\n",
       "      <td>NaN</td>\n",
       "      <td>NaN</td>\n",
       "      <td>NaN</td>\n",
       "      <td>...</td>\n",
       "      <td>NaN</td>\n",
       "      <td>NaN</td>\n",
       "      <td>NaN</td>\n",
       "      <td>NaN</td>\n",
       "      <td>NaN</td>\n",
       "      <td>NaN</td>\n",
       "      <td>NaN</td>\n",
       "      <td>NaN</td>\n",
       "      <td>NaN</td>\n",
       "      <td>NaN</td>\n",
       "      <td>NaN</td>\n",
       "      <td>NaN</td>\n",
       "      <td>NaN</td>\n",
       "      <td>NaN</td>\n",
       "      <td>NaN</td>\n",
       "      <td>NaN</td>\n",
       "      <td>NaN</td>\n",
       "      <td>NaN</td>\n",
       "      <td>NaN</td>\n",
       "      <td>NaN</td>\n",
       "      <td>NaN</td>\n",
       "      <td>NaN</td>\n",
       "      <td>NaN</td>\n",
       "      <td>NaN</td>\n",
       "      <td>NaN</td>\n",
       "      <td>NaN</td>\n",
       "      <td>NaN</td>\n",
       "      <td>NaN</td>\n",
       "      <td>NaN</td>\n",
       "      <td>NaN</td>\n",
       "      <td>NaN</td>\n",
       "      <td>NaN</td>\n",
       "      <td>NaN</td>\n",
       "      <td>NaN</td>\n",
       "      <td>NaN</td>\n",
       "      <td>NaN</td>\n",
       "      <td>NaN</td>\n",
       "      <td>NaN</td>\n",
       "      <td>NaN</td>\n",
       "      <td>0.000002</td>\n",
       "    </tr>\n",
       "    <tr>\n",
       "      <th>166076</th>\n",
       "      <td>TripL</td>\n",
       "      <td>NaN</td>\n",
       "      <td>NaN</td>\n",
       "      <td>NaN</td>\n",
       "      <td>NaN</td>\n",
       "      <td>NaN</td>\n",
       "      <td>NaN</td>\n",
       "      <td>NaN</td>\n",
       "      <td>NaN</td>\n",
       "      <td>NaN</td>\n",
       "      <td>NaN</td>\n",
       "      <td>NaN</td>\n",
       "      <td>NaN</td>\n",
       "      <td>NaN</td>\n",
       "      <td>NaN</td>\n",
       "      <td>NaN</td>\n",
       "      <td>NaN</td>\n",
       "      <td>NaN</td>\n",
       "      <td>NaN</td>\n",
       "      <td>NaN</td>\n",
       "      <td>NaN</td>\n",
       "      <td>NaN</td>\n",
       "      <td>NaN</td>\n",
       "      <td>NaN</td>\n",
       "      <td>NaN</td>\n",
       "      <td>NaN</td>\n",
       "      <td>NaN</td>\n",
       "      <td>NaN</td>\n",
       "      <td>NaN</td>\n",
       "      <td>NaN</td>\n",
       "      <td>NaN</td>\n",
       "      <td>NaN</td>\n",
       "      <td>NaN</td>\n",
       "      <td>NaN</td>\n",
       "      <td>NaN</td>\n",
       "      <td>NaN</td>\n",
       "      <td>NaN</td>\n",
       "      <td>NaN</td>\n",
       "      <td>NaN</td>\n",
       "      <td>NaN</td>\n",
       "      <td>...</td>\n",
       "      <td>NaN</td>\n",
       "      <td>NaN</td>\n",
       "      <td>NaN</td>\n",
       "      <td>NaN</td>\n",
       "      <td>NaN</td>\n",
       "      <td>NaN</td>\n",
       "      <td>NaN</td>\n",
       "      <td>NaN</td>\n",
       "      <td>NaN</td>\n",
       "      <td>NaN</td>\n",
       "      <td>NaN</td>\n",
       "      <td>NaN</td>\n",
       "      <td>NaN</td>\n",
       "      <td>NaN</td>\n",
       "      <td>NaN</td>\n",
       "      <td>NaN</td>\n",
       "      <td>NaN</td>\n",
       "      <td>NaN</td>\n",
       "      <td>NaN</td>\n",
       "      <td>NaN</td>\n",
       "      <td>NaN</td>\n",
       "      <td>NaN</td>\n",
       "      <td>NaN</td>\n",
       "      <td>NaN</td>\n",
       "      <td>NaN</td>\n",
       "      <td>NaN</td>\n",
       "      <td>NaN</td>\n",
       "      <td>NaN</td>\n",
       "      <td>NaN</td>\n",
       "      <td>NaN</td>\n",
       "      <td>NaN</td>\n",
       "      <td>NaN</td>\n",
       "      <td>NaN</td>\n",
       "      <td>NaN</td>\n",
       "      <td>NaN</td>\n",
       "      <td>NaN</td>\n",
       "      <td>NaN</td>\n",
       "      <td>NaN</td>\n",
       "      <td>NaN</td>\n",
       "      <td>0.000002</td>\n",
       "    </tr>\n",
       "    <tr>\n",
       "      <th>166077</th>\n",
       "      <td>Shadowplay</td>\n",
       "      <td>NaN</td>\n",
       "      <td>NaN</td>\n",
       "      <td>NaN</td>\n",
       "      <td>NaN</td>\n",
       "      <td>NaN</td>\n",
       "      <td>NaN</td>\n",
       "      <td>NaN</td>\n",
       "      <td>NaN</td>\n",
       "      <td>NaN</td>\n",
       "      <td>NaN</td>\n",
       "      <td>NaN</td>\n",
       "      <td>NaN</td>\n",
       "      <td>NaN</td>\n",
       "      <td>NaN</td>\n",
       "      <td>NaN</td>\n",
       "      <td>NaN</td>\n",
       "      <td>NaN</td>\n",
       "      <td>NaN</td>\n",
       "      <td>NaN</td>\n",
       "      <td>NaN</td>\n",
       "      <td>NaN</td>\n",
       "      <td>NaN</td>\n",
       "      <td>NaN</td>\n",
       "      <td>NaN</td>\n",
       "      <td>NaN</td>\n",
       "      <td>NaN</td>\n",
       "      <td>NaN</td>\n",
       "      <td>NaN</td>\n",
       "      <td>NaN</td>\n",
       "      <td>NaN</td>\n",
       "      <td>NaN</td>\n",
       "      <td>NaN</td>\n",
       "      <td>NaN</td>\n",
       "      <td>NaN</td>\n",
       "      <td>NaN</td>\n",
       "      <td>NaN</td>\n",
       "      <td>NaN</td>\n",
       "      <td>NaN</td>\n",
       "      <td>NaN</td>\n",
       "      <td>...</td>\n",
       "      <td>NaN</td>\n",
       "      <td>NaN</td>\n",
       "      <td>NaN</td>\n",
       "      <td>NaN</td>\n",
       "      <td>NaN</td>\n",
       "      <td>NaN</td>\n",
       "      <td>NaN</td>\n",
       "      <td>NaN</td>\n",
       "      <td>NaN</td>\n",
       "      <td>NaN</td>\n",
       "      <td>NaN</td>\n",
       "      <td>NaN</td>\n",
       "      <td>NaN</td>\n",
       "      <td>NaN</td>\n",
       "      <td>NaN</td>\n",
       "      <td>NaN</td>\n",
       "      <td>NaN</td>\n",
       "      <td>NaN</td>\n",
       "      <td>NaN</td>\n",
       "      <td>NaN</td>\n",
       "      <td>NaN</td>\n",
       "      <td>NaN</td>\n",
       "      <td>NaN</td>\n",
       "      <td>NaN</td>\n",
       "      <td>NaN</td>\n",
       "      <td>NaN</td>\n",
       "      <td>NaN</td>\n",
       "      <td>NaN</td>\n",
       "      <td>NaN</td>\n",
       "      <td>NaN</td>\n",
       "      <td>NaN</td>\n",
       "      <td>NaN</td>\n",
       "      <td>NaN</td>\n",
       "      <td>NaN</td>\n",
       "      <td>NaN</td>\n",
       "      <td>NaN</td>\n",
       "      <td>NaN</td>\n",
       "      <td>NaN</td>\n",
       "      <td>NaN</td>\n",
       "      <td>0.000002</td>\n",
       "    </tr>\n",
       "  </tbody>\n",
       "</table>\n",
       "<p>166078 rows × 82 columns</p>\n",
       "</div>"
      ],
      "text/plain": [
       "                                   Unnamed: 0      1940  ...      2019      2020\n",
       "0                              Boban Markovic  0.010923  ...  0.000002  0.000002\n",
       "1                      Milivoje Mića Marković  0.020207  ...  0.000004  0.000004\n",
       "2                                     Berkant  0.010923  ...  0.000013  0.000013\n",
       "3                               Hugues Aufray  0.029492  ...  0.000027  0.000027\n",
       "4                   Vasfi Uçaroğlu Orkestrası  0.010923  ...  0.000002  0.000002\n",
       "...                                       ...       ...  ...       ...       ...\n",
       "166073          George \"Corpsegrinder\" Fisher       NaN  ...       NaN  0.000002\n",
       "166074                                Dj Buhh       NaN  ...       NaN  0.000002\n",
       "166075  Cast of Zoey's Extraordinary Playlist       NaN  ...       NaN  0.000002\n",
       "166076                                  TripL       NaN  ...       NaN  0.000002\n",
       "166077                             Shadowplay       NaN  ...       NaN  0.000002\n",
       "\n",
       "[166078 rows x 82 columns]"
      ]
     },
     "execution_count": 122,
     "metadata": {
      "tags": []
     },
     "output_type": "execute_result"
    }
   ],
   "source": [
    "data = pd.read_csv('../data/whosampled_pageranks_per_year.csv')\n",
    "data"
   ]
  },
  {
   "cell_type": "code",
   "execution_count": 0,
   "metadata": {
    "colab": {},
    "colab_type": "code",
    "id": "PamNDJLTIjor"
   },
   "outputs": [],
   "source": [
    "#allmusic['pagerank']['df'] = pd.DataFrame(pageranks['allmusic'], index=pageranks['allmusic'][2010].keys(), columns=range(1940,2020,10)).T\n",
    "#allmusic['pagerank']['array'] = allmusic['pagerank']['df'].to_numpy()\n",
    "whosampled['pagerank']['df'] = pd.DataFrame(pageranks['whosampled'], index=pageranks['whosampled'][2019].keys(), columns=range(1940,2020))\n",
    "#whosampled['pagerank']['array'] = whosampled['pagerank']['df'].to_numpy()"
   ]
  },
  {
   "cell_type": "markdown",
   "metadata": {
    "colab_type": "text",
    "id": "WSoPTpziGK37"
   },
   "source": [
    "<br><h4>Katz</h4><br>Muito lento :( <br>"
   ]
  },
  {
   "cell_type": "code",
   "execution_count": 0,
   "metadata": {
    "colab": {},
    "colab_type": "code",
    "id": "6NX927EaG8xS"
   },
   "outputs": [],
   "source": [
    "# katz_centrality = dict()\n",
    "# katz_centrality['allmusic'] = dict(keys = range(1940,2020,10))\n",
    "# katz_centrality['whosampled'] = dict(keys = range(1940,2020,10))\n",
    "# for decade in range(1940,2020,10):\n",
    "#  print(decade)\n",
    "#  print('allmusic')\n",
    "#  katz_centrality['allmusic'][decade] = nx.katz_centrality(Allmusic_graphs[decade], max_iter=1000000)\n",
    "#  print('whosampled')\n",
    "#  katz_centrality['whosampled'][decade] = nx.katz_centrality(Whosampled_graphs[decade],max_iter=1000000)"
   ]
  },
  {
   "cell_type": "code",
   "execution_count": 0,
   "metadata": {
    "colab": {},
    "colab_type": "code",
    "id": "qDxjurDOHjHj"
   },
   "outputs": [],
   "source": [
    "# allmusic =  dict({'katz_centrality': dict(keys = ['df','array'])})\n",
    "# whosampled = dict({'katz_centrality': dict(keys = ['df','array'])})\n",
    "# allmusic['katz_centrality']['df'] = pd.DataFrame(katz_centrality['allmusic'], index=range(1940,2020,10) , columns=katz_centrality['allmusic'][2010].keys())\n",
    "# allmusic['katz_centrality']['array'] = allmusic['katz_centrality']['df'].to_numpy()\n",
    "# whosampled['katz_centrality']['df'] = pd.DataFrame(katz_centrality['whosampled'], index=range(1940,2020,10) , columns=katz_centrality['whosampled'][2010].keys())\n",
    "# whosampled['katz_centrality']['array'] = whosampled['katz_centrality']['df'].to_numpy()"
   ]
  },
  {
   "cell_type": "markdown",
   "metadata": {
    "colab_type": "text",
    "id": "kmc7HWzSI_iU"
   },
   "source": [
    "<br><h4>In degree</h4><br>"
   ]
  },
  {
   "cell_type": "code",
   "execution_count": 0,
   "metadata": {
    "colab": {},
    "colab_type": "code",
    "id": "CBkDxbYHJYwL"
   },
   "outputs": [],
   "source": [
    "in_degree = dict()\n",
    "in_degree['allmusic'] = dict(keys = range(1940,2020,10))\n",
    "in_degree['whosampled'] = dict(keys = range(1940,2020,1))\n",
    "#for decade in range(1940,2020,10):\n",
    "#  in_degree['allmusic'][decade] = dict(Allmusic_graphs[decade].in_degree(weight = 'weight'))\n",
    "for decade in range(1940,2021,1):\n",
    "  in_degree['whosampled'][decade] = dict(Whosampled_graphs[decade].in_degree(weight = 'weight'))"
   ]
  },
  {
   "cell_type": "code",
   "execution_count": 0,
   "metadata": {
    "colab": {},
    "colab_type": "code",
    "id": "umH5HpJIJYwS"
   },
   "outputs": [],
   "source": [
    "#allmusic['in_degree'] = dict(keys = ['df','array'])\n",
    "whosampled['in_degree'] =  dict(keys = ['df','array'])\n",
    "#allmusic['in_degree']['df'] = pd.DataFrame(in_degree['allmusic'], index=in_degree['allmusic'][2010].keys(), columns=range(1940,2020,10)).T\n",
    "#allmusic['in_degree']['array'] = allmusic['in_degree']['df'].to_numpy()\n",
    "whosampled['in_degree']['df'] = pd.DataFrame(in_degree['whosampled'], index=in_degree['whosampled'][2020].keys(), columns=range(1940,2021,1)).T\n",
    "whosampled['in_degree']['array'] = whosampled['in_degree']['df'].to_numpy()"
   ]
  },
  {
   "cell_type": "code",
   "execution_count": 0,
   "metadata": {
    "colab": {},
    "colab_type": "code",
    "id": "n6Rm5MCEHaiE"
   },
   "outputs": [],
   "source": [
    "whosampled['in_degree']['df'].T.to_csv('../data/whosampled_in_degree_per_year.csv')"
   ]
  },
  {
   "cell_type": "code",
   "execution_count": 116,
   "metadata": {
    "colab": {
     "base_uri": "https://localhost:8080/",
     "height": 34
    },
    "colab_type": "code",
    "executionInfo": {
     "elapsed": 1800,
     "status": "ok",
     "timestamp": 1588821019322,
     "user": {
      "displayName": "Tales Panoutsos Malheiros Lima",
      "photoUrl": "https://lh3.googleusercontent.com/a-/AOh14GjJOQ9j3KI4NqEf90arIeK004r3HiHKLw_ixEm11g=s64",
      "userId": "15576848666894932629"
     },
     "user_tz": 180
    },
    "id": "ECGEve80IByj",
    "outputId": "4ec9831e-b158-499a-edd8-58a7e015f55f"
   },
   "outputs": [
    {
     "data": {
      "text/plain": [
       "166078"
      ]
     },
     "execution_count": 116,
     "metadata": {
      "tags": []
     },
     "output_type": "execute_result"
    }
   ],
   "source": [
    "len(pd.read_csv('../data/whosampled_in_degree_per_year.csv').index)"
   ]
  },
  {
   "cell_type": "markdown",
   "metadata": {
    "colab_type": "text",
    "id": "RKkSwvO2LNMa"
   },
   "source": [
    "<br><br><h2>Surpresa</h2><br><br>"
   ]
  },
  {
   "cell_type": "code",
   "execution_count": 0,
   "metadata": {
    "colab": {},
    "colab_type": "code",
    "id": "-q9tZ_VKbw6a"
   },
   "outputs": [],
   "source": [
    "whosampled = dict({'pagerank': dict(keys = ['df','array'])})\n",
    "whosampled['pagerank']['df'] = pd.read_csv('../save/whosampled_pagerank_year.csv')\n",
    "whosampled['pagerank']['df'] = whosampled['pagerank']['df'].drop(columns=['Unnamed: 0'])\n",
    "whosampled['pagerank']['df'].index = range(1940,2020)\n",
    "whosampled['pagerank']['array'] = whosampled['pagerank']['df'].to_numpy()"
   ]
  },
  {
   "cell_type": "code",
   "execution_count": 0,
   "metadata": {
    "colab": {},
    "colab_type": "code",
    "id": "8GA00vFOm8vE"
   },
   "outputs": [],
   "source": [
    "def pr_to_rank_in_pr(data):\n",
    "  transformed = dict()\n",
    "  for ano in range(len(data.axes[0])):\n",
    "    print(ano)\n",
    "    pagerank = data.iloc[ano][at.non_zero_valid_indices(data.iloc[ano])]\n",
    "    menor = pagerank.min()\n",
    "    pagerank = pagerank[pagerank!=menor]\n",
    "    log_pagerank = np.log(pagerank)\n",
    "    pagerank_zscore = (log_pagerank - log_pagerank.mean())/log_pagerank.std()\n",
    "\n",
    "    transformed[ano]= pagerank_zscore\n",
    "  return transformed"
   ]
  },
  {
   "cell_type": "markdown",
   "metadata": {
    "colab_type": "text",
    "id": "UbEL_sf5b66z"
   },
   "source": [
    "<br><h3>hipoteses</h3><br>"
   ]
  },
  {
   "cell_type": "code",
   "execution_count": 0,
   "metadata": {
    "colab": {},
    "colab_type": "code",
    "id": "KCaifYc6WPtY"
   },
   "outputs": [],
   "source": [
    "def hipotese_1(data, ano): \n",
    "  I = at.non_zero_valid_indices(data[ano-2,:])\n",
    "  #print(len(data[ano-1,I]) - len(valid_indices(data[ano-1][data[ano-1].nonzero()])))\n",
    "  taxa = np.mean(data[ano,I] / data[ano-1,I])\n",
    "  return taxa*data[ano-1, I]\n",
    "\n",
    "def hipotese_2(data, ano):\n",
    "  I = dict()\n",
    "  medias = np.ones(data[ano,at.non_zero_valid_indices(data[ano-2,:])].shape)\n",
    "  \n",
    "  for artista in at.non_zero_valid_indices(data[ano-2,:]):\n",
    "    I =  at.non_zero_valid_indices(data[:ano, artista])\n",
    "    medias[artista] =(data[I[1:],artista] / data[I[:-1],artista]).mean()\n",
    "    \n",
    "  \n",
    "  return medias* data[ano-1, at.non_zero_valid_indices(data[ano-2,:])]\n",
    "\n",
    "def hipotese_2_1(data, ano):\n",
    "  I = dict()\n",
    "  medias = np.ones(at.non_zero_valid_indices(data[ano-2,:]).shape)\n",
    "  \n",
    "  for artista in at.non_zero_valid_indices(data[ano-2,:]):\n",
    "    I =  at.non_zero_valid_indices(data[ano-10:ano, artista]) + ano - 10\n",
    "    medias[artista] =(data[I[1:],artista] / data[I[:-1],artista]).mean()\n",
    "\n",
    "    # if np.isnan(medias).any() or np.isinf(medias).any():\n",
    "    #   print(data[I[1:],artista] ,\"/\", data[I[:-1],artista])\n",
    "\n",
    "\n",
    "  return medias* data[ano-1, at.non_zero_valid_indices(data[ano-2,:])]\n",
    "\n",
    "\n",
    "def hipotese_3(data, ano):\n",
    "  I = dict()\n",
    "  medias = np.ones(data[ano,:].shape)\n",
    "  \n",
    "  #for valid_artist_years, artista in zip(I, range(len(I))):\n",
    "  for artista in at.non_zero_valid_indices(data[ano-1,:]):\n",
    "    I[artista] =  at.non_zero_valid_indices(data[:, artista])\n",
    "\n",
    "    medias[artista] =(data[I[artista][1:],artista] / data[I[artista][:-1],artista]).mean()\n",
    "  \n",
    "  return (medias*data[ano-1,:])[at.non_zero_valid_indices(data[ano-1,:])]\n"
   ]
  },
  {
   "cell_type": "code",
   "execution_count": 0,
   "metadata": {
    "colab": {},
    "colab_type": "code",
    "id": "euJmmJDDkIk3"
   },
   "outputs": [],
   "source": [
    "def surprise(pMs, data, hipoteses, years_range = None):\n",
    "  if years_range == None:\n",
    "    years_range = range(data.shape[0])\n",
    "\n",
    "  \n",
    "  # Initiating some variebles:\n",
    "  # Models distribution\n",
    "  pMs = np.array(pMs) \n",
    "  # Surprise model\n",
    "  surpriseData = np.zeros(data.shape)\n",
    "  # pMs list\n",
    "  lista_pM = [pMs]\n",
    "  # pDMs - probability of data given the models\n",
    "  pDMs = np.zeros(pMs.shape)\n",
    "  # pMDs - probability of models given the data\n",
    "  pMDs = np.zeros(pMs.shape)\n",
    "\n",
    "  diferencas = np.zeros(pMs.shape)\n",
    "  soma_das_diferencas = np.zeros(pMs.shape)\n",
    "\n",
    "\n",
    "  for ano in years_range:\n",
    "    #Valid artist indices are indices that are neither 0 nor Nan\n",
    "    valid_artist_indices = at.non_zero_valid_indices(data[ano-2,:])\n",
    "\n",
    "    # difference between prior and posterior \n",
    "    soma_das_diferencas = np.zeros(pMs.shape)\n",
    "\n",
    "    # models x artist\n",
    "    matriz_diferencas = np.zeros((len(pMs),len(valid_artist_indices)))\n",
    "    \n",
    "    # Estimating the pMD\n",
    "    for i in range(len(hipoteses)):\n",
    "      matriz_diferencas[i] = data[ano, :][valid_artist_indices] - at.normalize(hipoteses[i](data, ano)[:len(valid_artist_indices)])\n",
    "\n",
    "\n",
    "    #Para cada artista valido\n",
    "    for artista in range(len(valid_artist_indices)):\n",
    "      #Para cada crença\n",
    "      for i in range(len(diferencas)):\n",
    "        diferencas[i] = matriz_diferencas[i,artista]  \n",
    "        pDMs[i] = 1 - np.abs(diferencas[i])\n",
    "\n",
    "      pMDs = pMs*pDMs\n",
    "\n",
    "\n",
    "    #At this point we already have pMDs and pMs, lets calculate their divergence\n",
    "      \n",
    "      kl = 0\n",
    "      voteSum = 0\n",
    "      for j in range(len(pMDs)):\n",
    "        kl = kl + pMDs[j] * np.log( pMDs[j] / pMs[j])\n",
    "        voteSum = voteSum + diferencas[j] * pMs[j]\n",
    "        soma_das_diferencas[j] = soma_das_diferencas[j] + np.abs(diferencas[j])\n",
    "\n",
    "\n",
    "      if voteSum >= 0 :\n",
    "        surpriseData[ano, artista] = np.abs(kl) \n",
    "      else:\n",
    "        surpriseData[ano, artista] = -1*np.abs(kl)\n",
    "      \n",
    "    #Now lets globally update our model belief.\n",
    "    \n",
    "    for j in range(len(pMs)):\n",
    "      pDMs[j] = 1 - (0.5 * soma_das_diferencas[j])\n",
    "      pMDs[j] = pMs[j] * pDMs[j]\n",
    "      pMs[j] = pMDs[j]\n",
    "\n",
    "    # Normalizing the  beliefs\n",
    "    pMs = at.normalize(pMs)\n",
    "\n",
    "    if ano%10==0:\n",
    "      print(pMs)\n",
    "\n",
    "    lista_pM.append(pMs)\n",
    "  return surpriseData, lista_pM"
   ]
  },
  {
   "cell_type": "code",
   "execution_count": 10,
   "metadata": {
    "colab": {
     "base_uri": "https://localhost:8080/",
     "height": 136
    },
    "colab_type": "code",
    "executionInfo": {
     "elapsed": 287077,
     "status": "ok",
     "timestamp": 1588388282116,
     "user": {
      "displayName": "Tales Panoutsos Malheiros Lima",
      "photoUrl": "https://lh3.googleusercontent.com/a-/AOh14GjJOQ9j3KI4NqEf90arIeK004r3HiHKLw_ixEm11g=s64",
      "userId": "15576848666894932629"
     },
     "user_tz": 180
    },
    "id": "Z3lF0_oChLVU",
    "outputId": "68916b91-8fd8-4b1e-f761-17ac78f362cd"
   },
   "outputs": [
    {
     "name": "stdout",
     "output_type": "stream",
     "text": [
      "[0.500148 0.499852]\n",
      "[0.51844642 0.48155358]\n",
      "[0.54607556 0.45392444]\n",
      "[0.60291506 0.39708494]\n",
      "[0.6061174 0.3938826]\n",
      "[0.60707832 0.39292168]\n",
      "[0.61136075 0.38863925]\n"
     ]
    }
   ],
   "source": [
    "whosampled['pagerank']['surprise'], whosampled['pagerank']['pM list'] = surprise([1/2,1/2], whosampled['pagerank']['array'], [hipotese_1,hipotese_2_1], years_range = range(whosampled['pagerank']['array'].shape[0])[10:])\n",
    "whosampled['pagerank']['surprise'] = pd.DataFrame(whosampled['pagerank']['surprise'], index = whosampled['pagerank']['df'].index, columns=whosampled['pagerank']['df'].columns)"
   ]
  },
  {
   "cell_type": "code",
   "execution_count": 0,
   "metadata": {
    "colab": {},
    "colab_type": "code",
    "id": "AY1YUXlWiZzc"
   },
   "outputs": [],
   "source": [
    "def surprises_greater_then(data, above_limit=0, bellow_limit=0, range_ano = None):\n",
    "  if range_ano== None:\n",
    "    range_ano = data['surprise'].index\n",
    "    print(range_ano)\n",
    "  surprise = dict()\n",
    "  for ano in range_ano:\n",
    "    for artista in data['surprise'].columns:\n",
    "      if data['surprise'][artista][ano]>above_limit or data['surprise'][artista][ano]<bellow_limit:\n",
    "        surprise[artista] = [ano,data['surprise'][artista][ano]]\n",
    "  print('Ordenando')\n",
    "  return pd.DataFrame(surprise.values(),columns=['ano', 'surprise'], index=surprise.keys()).sort_values(by='surprise', ascending=False)"
   ]
  },
  {
   "cell_type": "code",
   "execution_count": 34,
   "metadata": {
    "colab": {
     "base_uri": "https://localhost:8080/",
     "height": 51
    },
    "colab_type": "code",
    "executionInfo": {
     "elapsed": 437942,
     "status": "ok",
     "timestamp": 1588394124387,
     "user": {
      "displayName": "Tales Panoutsos Malheiros Lima",
      "photoUrl": "https://lh3.googleusercontent.com/a-/AOh14GjJOQ9j3KI4NqEf90arIeK004r3HiHKLw_ixEm11g=s64",
      "userId": "15576848666894932629"
     },
     "user_tz": 180
    },
    "id": "TO9Jyn9R05Ri",
    "outputId": "3092e1aa-455c-43c7-d3ae-c1313257e306"
   },
   "outputs": [
    {
     "name": "stdout",
     "output_type": "stream",
     "text": [
      "RangeIndex(start=1940, stop=2020, step=1)\n",
      "Ordenando\n"
     ]
    }
   ],
   "source": [
    "surprises_artist_index = surprises_greater_then(whosampled['pagerank'])"
   ]
  },
  {
   "cell_type": "code",
   "execution_count": 28,
   "metadata": {
    "colab": {
     "base_uri": "https://localhost:8080/",
     "height": 204
    },
    "colab_type": "code",
    "executionInfo": {
     "elapsed": 802,
     "status": "ok",
     "timestamp": 1588393451630,
     "user": {
      "displayName": "Tales Panoutsos Malheiros Lima",
      "photoUrl": "https://lh3.googleusercontent.com/a-/AOh14GjJOQ9j3KI4NqEf90arIeK004r3HiHKLw_ixEm11g=s64",
      "userId": "15576848666894932629"
     },
     "user_tz": 180
    },
    "id": "3qozv_bpoGyz",
    "outputId": "63240995-d561-4ec3-84a7-b01feeee595d"
   },
   "outputs": [
    {
     "data": {
      "text/html": [
       "<div>\n",
       "<style scoped>\n",
       "    .dataframe tbody tr th:only-of-type {\n",
       "        vertical-align: middle;\n",
       "    }\n",
       "\n",
       "    .dataframe tbody tr th {\n",
       "        vertical-align: top;\n",
       "    }\n",
       "\n",
       "    .dataframe thead th {\n",
       "        text-align: right;\n",
       "    }\n",
       "</style>\n",
       "<table border=\"1\" class=\"dataframe\">\n",
       "  <thead>\n",
       "    <tr style=\"text-align: right;\">\n",
       "      <th></th>\n",
       "      <th>ano</th>\n",
       "      <th>surprise</th>\n",
       "    </tr>\n",
       "  </thead>\n",
       "  <tbody>\n",
       "    <tr>\n",
       "      <th>Traditional Folk</th>\n",
       "      <td>2019</td>\n",
       "      <td>0.000409</td>\n",
       "    </tr>\n",
       "    <tr>\n",
       "      <th>James Brown</th>\n",
       "      <td>2019</td>\n",
       "      <td>0.000206</td>\n",
       "    </tr>\n",
       "    <tr>\n",
       "      <th>Teddy Pendergrass</th>\n",
       "      <td>2019</td>\n",
       "      <td>0.000137</td>\n",
       "    </tr>\n",
       "    <tr>\n",
       "      <th>Black Box</th>\n",
       "      <td>2019</td>\n",
       "      <td>0.000131</td>\n",
       "    </tr>\n",
       "    <tr>\n",
       "      <th>Elizabeth Cotten</th>\n",
       "      <td>2019</td>\n",
       "      <td>0.000125</td>\n",
       "    </tr>\n",
       "  </tbody>\n",
       "</table>\n",
       "</div>"
      ],
      "text/plain": [
       "                    ano  surprise\n",
       "Traditional Folk   2019  0.000409\n",
       "James Brown        2019  0.000206\n",
       "Teddy Pendergrass  2019  0.000137\n",
       "Black Box          2019  0.000131\n",
       "Elizabeth Cotten   2019  0.000125"
      ]
     },
     "execution_count": 28,
     "metadata": {
      "tags": []
     },
     "output_type": "execute_result"
    }
   ],
   "source": []
  },
  {
   "cell_type": "code",
   "execution_count": 21,
   "metadata": {
    "colab": {
     "base_uri": "https://localhost:8080/",
     "height": 281
    },
    "colab_type": "code",
    "executionInfo": {
     "elapsed": 985,
     "status": "ok",
     "timestamp": 1588392546497,
     "user": {
      "displayName": "Tales Panoutsos Malheiros Lima",
      "photoUrl": "https://lh3.googleusercontent.com/a-/AOh14GjJOQ9j3KI4NqEf90arIeK004r3HiHKLw_ixEm11g=s64",
      "userId": "15576848666894932629"
     },
     "user_tz": 180
    },
    "id": "fVNwMlBsm295",
    "outputId": "e6b55fdc-ff3c-472c-d577-85eabf6002e4"
   },
   "outputs": [
    {
     "data": {
      "image/png": "[encoded data removed]",
      "text/plain": [
       "<Figure size 432x288 with 1 Axes>"
      ]
     },
     "metadata": {
      "needs_background": "light",
      "tags": []
     },
     "output_type": "display_data"
    }
   ],
   "source": [
    "data = np.array(whosampled['pagerank']['df']['The Beatles'])\n",
    "plt.title('The Beatles')\n",
    "plt.plot(range(1940,2020), data)\n",
    "plt.show()"
   ]
  },
  {
   "cell_type": "code",
   "execution_count": 269,
   "metadata": {
    "colab": {
     "base_uri": "https://localhost:8080/",
     "height": 281
    },
    "colab_type": "code",
    "executionInfo": {
     "elapsed": 658,
     "status": "ok",
     "timestamp": 1588353869511,
     "user": {
      "displayName": "Tales Panoutsos Malheiros Lima",
      "photoUrl": "https://lh3.googleusercontent.com/a-/AOh14GjJOQ9j3KI4NqEf90arIeK004r3HiHKLw_ixEm11g=s64",
      "userId": "15576848666894932629"
     },
     "user_tz": 180
    },
    "id": "Y9awcM1cQhTq",
    "outputId": "95ef3e40-5bc4-4596-ce57-fe51d3ca1b77"
   },
   "outputs": [
    {
     "data": {
      "image/png": "[encoded data removed]",
      "text/plain": [
       "<Figure size 432x288 with 1 Axes>"
      ]
     },
     "metadata": {
      "needs_background": "light",
      "tags": []
     },
     "output_type": "display_data"
    }
   ],
   "source": [
    "data = np.array(whosampled['pagerank']['df']['Vaughn Monroe'])\n",
    "plt.title('Vaughn Monroe')\n",
    "plt.plot(range(1940,2020), data)\n",
    "plt.show()"
   ]
  },
  {
   "cell_type": "code",
   "execution_count": 0,
   "metadata": {
    "colab": {
     "base_uri": "https://localhost:8080/",
     "height": 282
    },
    "colab_type": "code",
    "executionInfo": {
     "elapsed": 990,
     "status": "ok",
     "timestamp": 1587661165383,
     "user": {
      "displayName": "Tales Panoutsos Malheiros Lima",
      "photoUrl": "https://lh3.googleusercontent.com/a-/AOh14GjJOQ9j3KI4NqEf90arIeK004r3HiHKLw_ixEm11g=s64",
      "userId": "15576848666894932629"
     },
     "user_tz": 180
    },
    "id": "OhVUecjytNWX",
    "outputId": "f98aeb7a-29ec-4eb3-dd73-f39ec59e385c"
   },
   "outputs": [
    {
     "data": {
      "text/plain": [
       "[<matplotlib.lines.Line2D at 0x7fa03934e6d8>]"
      ]
     },
     "execution_count": 135,
     "metadata": {
      "tags": []
     },
     "output_type": "execute_result"
    },
    {
     "data": {
      "image/png": "[encoded data removed]",
      "text/plain": [
       "<Figure size 432x288 with 1 Axes>"
      ]
     },
     "metadata": {
      "needs_background": "light",
      "tags": []
     },
     "output_type": "display_data"
    }
   ],
   "source": [
    "normal = scipy.stats.lognorm.pdf\n",
    "x = np.linspace(0.001, 3, 100)\n",
    "plt.plot(x, normal(x, loc = data.mean()-1, s = data.std()*50))"
   ]
  },
  {
   "cell_type": "code",
   "execution_count": 128,
   "metadata": {
    "colab": {
     "base_uri": "https://localhost:8080/",
     "height": 34
    },
    "colab_type": "code",
    "executionInfo": {
     "elapsed": 795,
     "status": "ok",
     "timestamp": 1588822131046,
     "user": {
      "displayName": "Tales Panoutsos Malheiros Lima",
      "photoUrl": "https://lh3.googleusercontent.com/a-/AOh14GjJOQ9j3KI4NqEf90arIeK004r3HiHKLw_ixEm11g=s64",
      "userId": "15576848666894932629"
     },
     "user_tz": 180
    },
    "id": "0ZjyHPoDDauN",
    "outputId": "43b44887-f8f1-4ce2-d8a8-d2777de742ef"
   },
   "outputs": [
    {
     "name": "stdout",
     "output_type": "stream",
     "text": [
      "29878\n"
     ]
    }
   ],
   "source": [
    "print(len(pd.read_csv('../data/allmusic_pageranks.csv').index))"
   ]
  },
  {
   "cell_type": "code",
   "execution_count": 126,
   "metadata": {
    "colab": {
     "base_uri": "https://localhost:8080/",
     "height": 34
    },
    "colab_type": "code",
    "executionInfo": {
     "elapsed": 2626,
     "status": "ok",
     "timestamp": 1588822066274,
     "user": {
      "displayName": "Tales Panoutsos Malheiros Lima",
      "photoUrl": "https://lh3.googleusercontent.com/a-/AOh14GjJOQ9j3KI4NqEf90arIeK004r3HiHKLw_ixEm11g=s64",
      "userId": "15576848666894932629"
     },
     "user_tz": 180
    },
    "id": "Xy0BIqSQHPFE",
    "outputId": "85905c92-c01f-4680-9f30-cb23d5fedd8c"
   },
   "outputs": [
    {
     "name": "stdout",
     "output_type": "stream",
     "text": [
      "166078\n"
     ]
    }
   ],
   "source": [
    "\n"
   ]
  },
  {
   "cell_type": "code",
   "execution_count": 0,
   "metadata": {
    "colab": {},
    "colab_type": "code",
    "id": "ZI2E8IhjDrCO"
   },
   "outputs": [],
   "source": [
    "allmusic 29877 pagerank tem mais\n",
    "whosampled 109794 pagerank tem menos"
   ]
  }
 ],
 "metadata": {
  "colab": {
   "authorship_tag": "ABX9TyPQ8WKFv4KT2r9Z557eazmx",
   "collapsed_sections": [],
   "name": "Surprise.ipynb",
   "provenance": [
    {
     "file_id": "1dmGn9lAgh1ZZNWExaKbnv3QgIaggtWsA",
     "timestamp": 1586197670881
    }
   ]
  },
  "kernelspec": {
   "display_name": "Python 3",
   "language": "python",
   "name": "python3"
  },
  "language_info": {
   "codemirror_mode": {
    "name": "ipython",
    "version": 3
   },
   "file_extension": ".py",
   "mimetype": "text/x-python",
   "name": "python",
   "nbconvert_exporter": "python",
   "pygments_lexer": "ipython3",
   "version": "3.7.7"
  }
 },
 "nbformat": 4,
 "nbformat_minor": 1
}
