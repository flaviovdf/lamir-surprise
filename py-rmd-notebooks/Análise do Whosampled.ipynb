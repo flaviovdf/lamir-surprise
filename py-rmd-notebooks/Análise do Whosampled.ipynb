{
 "cells": [
  {
   "cell_type": "code",
   "execution_count": 12,
   "metadata": {
    "colab": {
     "base_uri": "https://localhost:8080/",
     "height": 34
    },
    "colab_type": "code",
    "executionInfo": {
     "elapsed": 2008,
     "status": "ok",
     "timestamp": 1586885907332,
     "user": {
      "displayName": "Tales Panoutsos Malheiros Lima",
      "photoUrl": "https://lh3.googleusercontent.com/a-/AOh14GjJOQ9j3KI4NqEf90arIeK004r3HiHKLw_ixEm11g=s64",
      "userId": "15576848666894932629"
     },
     "user_tz": 180
    },
    "id": "KCTlDrtNtfNA",
    "outputId": "92fa182a-cd9a-4bed-9b63-1fa1759fb911"
   },
   "outputs": [
    {
     "name": "stdout",
     "output_type": "stream",
     "text": [
      "Mounted at /gdrive\n"
     ]
    }
   ],
   "source": [
    "import os\n",
    "import gzip\n",
    "import json\n",
    "import plac\n",
    "import random\n",
    "import numpy as np\n",
    "import pandas as pd\n",
    "import networkx as nx\n",
    "from scipy import stats as ss\n",
    "from google.colab import drive\n",
    "import matplotlib.pyplot as plt\n",
    "from IPython.display import clear_output\n",
    "from statsmodels.distributions.empirical_distribution import ECDF\n",
    "drive.mount('/gdrive', force_remount=True)\n",
    "os.chdir('/gdrive/My Drive/IC_tales/code')\n",
    "import disrupt as dr\n",
    "import amutils as at"
   ]
  },
  {
   "cell_type": "markdown",
   "metadata": {
    "colab_type": "text",
    "id": "xQG_rciCtfNJ"
   },
   "source": [
    "<br><p>Carregando os dados</p><br>"
   ]
  },
  {
   "cell_type": "code",
   "execution_count": 8,
   "metadata": {
    "colab": {
     "base_uri": "https://localhost:8080/",
     "height": 34
    },
    "colab_type": "code",
    "executionInfo": {
     "elapsed": 4876,
     "status": "ok",
     "timestamp": 1586885657563,
     "user": {
      "displayName": "Tales Panoutsos Malheiros Lima",
      "photoUrl": "https://lh3.googleusercontent.com/a-/AOh14GjJOQ9j3KI4NqEf90arIeK004r3HiHKLw_ixEm11g=s64",
      "userId": "15576848666894932629"
     },
     "user_tz": 180
    },
    "id": "oZNBivPouwKj",
    "outputId": "739a731e-f538-425b-e0ee-3c86d5bb683b"
   },
   "outputs": [
    {
     "name": "stdout",
     "output_type": "stream",
     "text": [
      "Mounted at /gdrive\n"
     ]
    }
   ],
   "source": []
  },
  {
   "cell_type": "code",
   "execution_count": 0,
   "metadata": {
    "colab": {},
    "colab_type": "code",
    "id": "PeRBisletfNL"
   },
   "outputs": [],
   "source": [
    "with open('../data/whosampled_year_data.json') as who_sampled_file:\n",
    "    who_sampled_json = json.load(who_sampled_file)"
   ]
  },
  {
   "cell_type": "markdown",
   "metadata": {
    "colab_type": "text",
    "id": "DzjD-hhPtfNS"
   },
   "source": [
    "<br><h4>Construindo o grafo</h4><br>"
   ]
  },
  {
   "cell_type": "code",
   "execution_count": 0,
   "metadata": {
    "colab": {},
    "colab_type": "code",
    "id": "FdI0w3SQtfNU"
   },
   "outputs": [],
   "source": [
    "G = at.build_graph_who_sampled(who_sampled_json)"
   ]
  },
  {
   "cell_type": "code",
   "execution_count": 0,
   "metadata": {
    "colab": {},
    "colab_type": "code",
    "id": "uErmmo7XtfNZ",
    "outputId": "addac69d-0498-4132-d9f6-2ce1b4e85efb"
   },
   "outputs": [
    {
     "name": "stdout",
     "output_type": "stream",
     "text": [
      "Vértices:  165377 \n",
      "Arestas:  560498\n"
     ]
    }
   ],
   "source": [
    "print(\"Vértices: \", G.number_of_nodes(),\"\\nArestas: \",G.number_of_edges())"
   ]
  },
  {
   "cell_type": "markdown",
   "metadata": {
    "colab_type": "text",
    "id": "_JF15I8PtfNf"
   },
   "source": [
    "<br><h4>Carregando a tabela de disruptividade do Whosampled.</h4><br>\n",
    "<p>Essa tabela foi previamente calculada</p><br>"
   ]
  },
  {
   "cell_type": "code",
   "execution_count": 11,
   "metadata": {
    "colab": {
     "base_uri": "https://localhost:8080/",
     "height": 218
    },
    "colab_type": "code",
    "executionInfo": {
     "elapsed": 2109,
     "status": "ok",
     "timestamp": 1586885810425,
     "user": {
      "displayName": "Tales Panoutsos Malheiros Lima",
      "photoUrl": "https://lh3.googleusercontent.com/a-/AOh14GjJOQ9j3KI4NqEf90arIeK004r3HiHKLw_ixEm11g=s64",
      "userId": "15576848666894932629"
     },
     "user_tz": 180
    },
    "id": "JYYO-DY7tfNh",
    "outputId": "b78d4d74-43ab-42b2-9908-c77436b1e897"
   },
   "outputs": [
    {
     "data": {
      "text/html": [
       "<div>\n",
       "<style scoped>\n",
       "    .dataframe tbody tr th:only-of-type {\n",
       "        vertical-align: middle;\n",
       "    }\n",
       "\n",
       "    .dataframe tbody tr th {\n",
       "        vertical-align: top;\n",
       "    }\n",
       "\n",
       "    .dataframe thead th {\n",
       "        text-align: right;\n",
       "    }\n",
       "</style>\n",
       "<table border=\"1\" class=\"dataframe\">\n",
       "  <thead>\n",
       "    <tr style=\"text-align: right;\">\n",
       "      <th></th>\n",
       "      <th>ni_E</th>\n",
       "      <th>ni_D</th>\n",
       "      <th>ni</th>\n",
       "      <th>nj_E</th>\n",
       "      <th>nj_D</th>\n",
       "      <th>nj</th>\n",
       "      <th>nk_E</th>\n",
       "      <th>nk_D</th>\n",
       "      <th>nk</th>\n",
       "      <th>disruption</th>\n",
       "      <th>in</th>\n",
       "      <th>out</th>\n",
       "      <th>ci</th>\n",
       "    </tr>\n",
       "    <tr>\n",
       "      <th></th>\n",
       "      <th></th>\n",
       "      <th></th>\n",
       "      <th></th>\n",
       "      <th></th>\n",
       "      <th></th>\n",
       "      <th></th>\n",
       "      <th></th>\n",
       "      <th></th>\n",
       "      <th></th>\n",
       "      <th></th>\n",
       "      <th></th>\n",
       "      <th></th>\n",
       "      <th></th>\n",
       "    </tr>\n",
       "  </thead>\n",
       "  <tbody>\n",
       "    <tr>\n",
       "      <th>1950s Housewife Tries LSD</th>\n",
       "      <td>4.0</td>\n",
       "      <td>0.0</td>\n",
       "      <td>4.0</td>\n",
       "      <td>0.0</td>\n",
       "      <td>0.0</td>\n",
       "      <td>0.0</td>\n",
       "      <td>0.0</td>\n",
       "      <td>0.0</td>\n",
       "      <td>0.0</td>\n",
       "      <td>1.0</td>\n",
       "      <td>4.0</td>\n",
       "      <td>0.0</td>\n",
       "      <td>0.1994</td>\n",
       "    </tr>\n",
       "    <tr>\n",
       "      <th>David Dundas</th>\n",
       "      <td>12.0</td>\n",
       "      <td>0.0</td>\n",
       "      <td>12.0</td>\n",
       "      <td>0.0</td>\n",
       "      <td>0.0</td>\n",
       "      <td>0.0</td>\n",
       "      <td>0.0</td>\n",
       "      <td>0.0</td>\n",
       "      <td>0.0</td>\n",
       "      <td>1.0</td>\n",
       "      <td>12.0</td>\n",
       "      <td>0.0</td>\n",
       "      <td>0.0137</td>\n",
       "    </tr>\n",
       "    <tr>\n",
       "      <th>RIFF (Argentinian Band)</th>\n",
       "      <td>4.0</td>\n",
       "      <td>0.0</td>\n",
       "      <td>4.0</td>\n",
       "      <td>0.0</td>\n",
       "      <td>0.0</td>\n",
       "      <td>0.0</td>\n",
       "      <td>0.0</td>\n",
       "      <td>0.0</td>\n",
       "      <td>0.0</td>\n",
       "      <td>1.0</td>\n",
       "      <td>4.0</td>\n",
       "      <td>0.0</td>\n",
       "      <td>0.2032</td>\n",
       "    </tr>\n",
       "    <tr>\n",
       "      <th>Carmen Silva</th>\n",
       "      <td>3.0</td>\n",
       "      <td>0.0</td>\n",
       "      <td>3.0</td>\n",
       "      <td>0.0</td>\n",
       "      <td>0.0</td>\n",
       "      <td>0.0</td>\n",
       "      <td>0.0</td>\n",
       "      <td>0.0</td>\n",
       "      <td>0.0</td>\n",
       "      <td>1.0</td>\n",
       "      <td>3.0</td>\n",
       "      <td>0.0</td>\n",
       "      <td>0.2605</td>\n",
       "    </tr>\n",
       "    <tr>\n",
       "      <th>David Peña Dorantes</th>\n",
       "      <td>1.0</td>\n",
       "      <td>0.0</td>\n",
       "      <td>1.0</td>\n",
       "      <td>0.0</td>\n",
       "      <td>0.0</td>\n",
       "      <td>0.0</td>\n",
       "      <td>0.0</td>\n",
       "      <td>0.0</td>\n",
       "      <td>0.0</td>\n",
       "      <td>1.0</td>\n",
       "      <td>1.0</td>\n",
       "      <td>0.0</td>\n",
       "      <td>0.4156</td>\n",
       "    </tr>\n",
       "  </tbody>\n",
       "</table>\n",
       "</div>"
      ],
      "text/plain": [
       "                           ni_E  ni_D    ni  ...    in  out      ci\n",
       "                                             ...                   \n",
       "1950s Housewife Tries LSD   4.0   0.0   4.0  ...   4.0  0.0  0.1994\n",
       "David Dundas               12.0   0.0  12.0  ...  12.0  0.0  0.0137\n",
       "RIFF (Argentinian Band)     4.0   0.0   4.0  ...   4.0  0.0  0.2032\n",
       "Carmen Silva                3.0   0.0   3.0  ...   3.0  0.0  0.2605\n",
       "David Peña Dorantes         1.0   0.0   1.0  ...   1.0  0.0  0.4156\n",
       "\n",
       "[5 rows x 13 columns]"
      ]
     },
     "execution_count": 11,
     "metadata": {
      "tags": []
     },
     "output_type": "execute_result"
    }
   ],
   "source": [
    "#G_table_whosampled = dr.compute_disruption(G)\n",
    "G_table_whosampled = pd.read_csv('../data/G_table_whosampled_disruption.csv')\n",
    "G_table_whosampled = G_table_whosampled.rename(columns = {'Unnamed: 0':''})\n",
    "G_table_whosampled.index = G_table_whosampled['']\n",
    "G_table_whosampled = G_table_whosampled.drop(columns = '')\n",
    "G_table_whosampled = G_table_whosampled.dropna().copy()\n",
    "G_table_whosampled.head()"
   ]
  },
  {
   "cell_type": "markdown",
   "metadata": {
    "colab_type": "text",
    "id": "Zzy5K5TYtfNo"
   },
   "source": [
    "<br><h4>Calculo do PageRank</h4><br>\n",
    "<p>Correlação entre o PageRank e a disruptividade</p><br>"
   ]
  },
  {
   "cell_type": "code",
   "execution_count": 0,
   "metadata": {
    "colab": {},
    "colab_type": "code",
    "id": "YHb5Tk2DtfNq"
   },
   "outputs": [],
   "source": [
    "G_table_whosampled['pagerank'] = pd.DataFrame(nx.pagerank(G).values(), index = nx.pagerank(G).keys())\n"
   ]
  },
  {
   "cell_type": "code",
   "execution_count": 0,
   "metadata": {
    "colab": {},
    "colab_type": "code",
    "id": "oPsq7HDdtfNw",
    "outputId": "d0ee53d3-a120-4dc1-ea54-8ba70c757c29"
   },
   "outputs": [
    {
     "name": "stdout",
     "output_type": "stream",
     "text": [
      "Spearman:  -0.46048575501537775 pvalue: 0.0\n",
      "Pearson:  -0.07263084309319272 pvalue: 3.0373682474097442e-62\n"
     ]
    }
   ],
   "source": [
    "spearman = tuple(ss.spearmanr(G_table_whosampled['disruption'],G_table_whosampled['pagerank']))\n",
    "pearson = tuple(ss.pearsonr(G_table_whosampled['disruption'],G_table_whosampled['pagerank']))\n",
    "print('Spearman: ',spearman[0], 'pvalue:', spearman[1])\n",
    "print('Pearson: ',pearson[0], 'pvalue:', pearson[1])"
   ]
  },
  {
   "cell_type": "code",
   "execution_count": 0,
   "metadata": {
    "colab": {},
    "colab_type": "code",
    "id": "g14hiRoVtfN4",
    "outputId": "38c8b90b-578f-4504-fa41-ab3380be2637"
   },
   "outputs": [
    {
     "data": {
      "image/png": "[encoded data removed]",
      "text/plain": [
       "<Figure size 432x288 with 1 Axes>"
      ]
     },
     "metadata": {
      "needs_background": "light",
      "tags": []
     },
     "output_type": "display_data"
    }
   ],
   "source": [
    "plt.scatter(G_table_whosampled['disruption'],G_table_whosampled['pagerank'])\n",
    "plt.show()"
   ]
  },
  {
   "cell_type": "markdown",
   "metadata": {
    "colab_type": "text",
    "id": "OxSr24xhtfN9"
   },
   "source": [
    "<br><h4>Calculo do Betweeness Centrality</h4><br>\n",
    "<p>Correlação entre o Betweeness Centrality e a disruptividade</p><br>"
   ]
  },
  {
   "cell_type": "code",
   "execution_count": 0,
   "metadata": {
    "colab": {},
    "colab_type": "code",
    "id": "UHQIBXkMtfN-"
   },
   "outputs": [],
   "source": [
    "bet_cen = nx.betweenness_centrality(G)\n",
    "G_table_whosampled['bet_cen'] = pd.DataFrame(bet_cen.values(), index = bet_cen.keys())   "
   ]
  },
  {
   "cell_type": "code",
   "execution_count": 0,
   "metadata": {
    "colab": {},
    "colab_type": "code",
    "id": "PqAeY4sMtfOD"
   },
   "outputs": [],
   "source": []
  }
 ],
 "metadata": {
  "colab": {
   "collapsed_sections": [],
   "name": "Análise do Whosampled.ipynb",
   "provenance": []
  },
  "kernelspec": {
   "display_name": "Python 3",
   "language": "python",
   "name": "python3"
  },
  "language_info": {
   "codemirror_mode": {
    "name": "ipython",
    "version": 3
   },
   "file_extension": ".py",
   "mimetype": "text/x-python",
   "name": "python",
   "nbconvert_exporter": "python",
   "pygments_lexer": "ipython3",
   "version": "3.7.7"
  }
 },
 "nbformat": 4,
 "nbformat_minor": 1
}
