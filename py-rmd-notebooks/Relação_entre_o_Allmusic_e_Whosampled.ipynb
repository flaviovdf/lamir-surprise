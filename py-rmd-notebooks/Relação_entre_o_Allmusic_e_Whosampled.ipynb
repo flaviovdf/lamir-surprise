{
 "cells": [
  {
   "cell_type": "code",
   "execution_count": 2,
   "metadata": {
    "colab": {
     "base_uri": "https://localhost:8080/",
     "height": 122
    },
    "colab_type": "code",
    "executionInfo": {
     "elapsed": 25351,
     "status": "ok",
     "timestamp": 1586886806379,
     "user": {
      "displayName": "Tales Panoutsos Malheiros Lima",
      "photoUrl": "https://lh3.googleusercontent.com/a-/AOh14GjJOQ9j3KI4NqEf90arIeK004r3HiHKLw_ixEm11g=s64",
      "userId": "15576848666894932629"
     },
     "user_tz": 180
    },
    "id": "igGAEARdriLd",
    "outputId": "9635f699-f37d-4234-99ba-7b7875a26668"
   },
   "outputs": [
    {
     "name": "stdout",
     "output_type": "stream",
     "text": [
      "Go to this URL in a browser: https://accounts.google.com/o/oauth2/auth?client_id=947318989803-6bn6qk8qdgf4n4g3pfee6491hc0brc4i.apps.googleusercontent.com&redirect_uri=urn%3aietf%3awg%3aoauth%3a2.0%3aoob&response_type=code&scope=email%20https%3a%2f%2fwww.googleapis.com%2fauth%2fdocs.test%20https%3a%2f%2fwww.googleapis.com%2fauth%2fdrive%20https%3a%2f%2fwww.googleapis.com%2fauth%2fdrive.photos.readonly%20https%3a%2f%2fwww.googleapis.com%2fauth%2fpeopleapi.readonly\n",
      "\n",
      "Enter your authorization code:\n",
      "··········\n",
      "Mounted at /gdrive\n"
     ]
    }
   ],
   "source": [
    "import os\n",
    "from google.colab import drive\n",
    "drive.mount('/gdrive', force_remount=True)\n",
    "os.chdir('/gdrive/My Drive/IC_tales/code')"
   ]
  },
  {
   "cell_type": "code",
   "execution_count": 0,
   "metadata": {
    "colab": {},
    "colab_type": "code",
    "id": "PnjsDQNbqzK7"
   },
   "outputs": [],
   "source": [
    "import gzip as gz\n",
    "import json\n",
    "import matplotlib.pyplot as plt\n",
    "import numpy as np\n",
    "import pandas as pd\n",
    "import networkx as nx\n",
    "import disrupt as dr\n",
    "import amutils as at\n",
    "from difflib import get_close_matches"
   ]
  },
  {
   "cell_type": "markdown",
   "metadata": {
    "colab_type": "text",
    "id": "Ez9ELTUkqzLC"
   },
   "source": [
    "<br><h4>Carregando dados</h4><br>"
   ]
  },
  {
   "cell_type": "code",
   "execution_count": 0,
   "metadata": {
    "colab": {},
    "colab_type": "code",
    "id": "cPBLyH70qzLD"
   },
   "outputs": [],
   "source": [
    "#Carregando dados whosampled\n",
    "with open('../data/whosampled_year_data.json') as who_sampled_file:\n",
    "    who_sampled_json = json.load(who_sampled_file)"
   ]
  },
  {
   "cell_type": "code",
   "execution_count": 0,
   "metadata": {
    "colab": {},
    "colab_type": "code",
    "id": "d8mGo0WIqzLJ"
   },
   "outputs": [],
   "source": [
    "#Carregando dados do allmusic \n",
    "allmusic_json = at.load_am_json_data()"
   ]
  },
  {
   "cell_type": "markdown",
   "metadata": {
    "colab_type": "text",
    "id": "v57fTDEXqzLO"
   },
   "source": [
    "<br><h4>Construindo o grafo</h4><br>"
   ]
  },
  {
   "cell_type": "code",
   "execution_count": 0,
   "metadata": {
    "colab": {},
    "colab_type": "code",
    "id": "8CGR78Q3qzLP"
   },
   "outputs": [],
   "source": [
    "G = at.build_graph_who_sampled(who_sampled_json)"
   ]
  },
  {
   "cell_type": "code",
   "execution_count": 0,
   "metadata": {
    "colab": {},
    "colab_type": "code",
    "id": "1nPn7I9cqzLU",
    "outputId": "7693ee6a-286d-4d74-8159-c04134edf983"
   },
   "outputs": [
    {
     "name": "stdout",
     "output_type": "stream",
     "text": [
      "Vértices:  165377 \n",
      "Arestas:  560498\n"
     ]
    }
   ],
   "source": [
    "print(\"Vértices: \", G.number_of_nodes(),\"\\nArestas: \",G.number_of_edges())"
   ]
  },
  {
   "cell_type": "markdown",
   "metadata": {
    "colab_type": "text",
    "id": "QCAGieLeqzLa"
   },
   "source": [
    "<br><p>Essa parte serve apenas para economizar tempo visto que a função disruptions está adaptada para o allmusic</p><br>"
   ]
  },
  {
   "cell_type": "code",
   "execution_count": 0,
   "metadata": {
    "colab": {},
    "colab_type": "code",
    "id": "PVjFoyrzqzLb"
   },
   "outputs": [],
   "source": [
    "for node in G.nodes:\n",
    "    G.nodes[node]['genres'] = {}"
   ]
  },
  {
   "cell_type": "markdown",
   "metadata": {
    "colab_type": "text",
    "id": "wmIdknb9qzLg"
   },
   "source": [
    "<br><h4>Carregando a tabela de disruptividade do Whosampled.</h4><br>\n",
    "<p>Essa tabela foi previamente calculada</p><br>"
   ]
  },
  {
   "cell_type": "code",
   "execution_count": 0,
   "metadata": {
    "colab": {},
    "colab_type": "code",
    "id": "9USUDhWyqzLh",
    "scrolled": true
   },
   "outputs": [],
   "source": [
    "#G_table_whosampled = dr.compute_disruption(G)\n",
    "G_table_whosampled = pd.read_csv('../data/G_table_whosampled_disruption.csv')"
   ]
  },
  {
   "cell_type": "code",
   "execution_count": 0,
   "metadata": {
    "colab": {},
    "colab_type": "code",
    "id": "b3voUMxrqzLn"
   },
   "outputs": [],
   "source": [
    "G_table_whosampled = G_table_whosampled.sort_values(by='disruption', ascending=False)"
   ]
  },
  {
   "cell_type": "code",
   "execution_count": 0,
   "metadata": {
    "colab": {},
    "colab_type": "code",
    "id": "-heexP6XqzLs"
   },
   "outputs": [],
   "source": [
    "G_table_whosampled = G_table_whosampled.dropna().copy()"
   ]
  },
  {
   "cell_type": "code",
   "execution_count": 0,
   "metadata": {
    "colab": {
     "base_uri": "https://localhost:8080/",
     "height": 218
    },
    "colab_type": "code",
    "executionInfo": {
     "elapsed": 3272,
     "status": "ok",
     "timestamp": 1586184604681,
     "user": {
      "displayName": "Tales Panoutsos Malheiros Lima",
      "photoUrl": "https://lh3.googleusercontent.com/a-/AOh14GjJOQ9j3KI4NqEf90arIeK004r3HiHKLw_ixEm11g=s64",
      "userId": "15576848666894932629"
     },
     "user_tz": 180
    },
    "id": "WS2ZhiMiqzLw",
    "outputId": "1e9f5126-fdf5-43df-b154-31bf8e1713be"
   },
   "outputs": [
    {
     "data": {
      "text/html": [
       "<div>\n",
       "<style scoped>\n",
       "    .dataframe tbody tr th:only-of-type {\n",
       "        vertical-align: middle;\n",
       "    }\n",
       "\n",
       "    .dataframe tbody tr th {\n",
       "        vertical-align: top;\n",
       "    }\n",
       "\n",
       "    .dataframe thead th {\n",
       "        text-align: right;\n",
       "    }\n",
       "</style>\n",
       "<table border=\"1\" class=\"dataframe\">\n",
       "  <thead>\n",
       "    <tr style=\"text-align: right;\">\n",
       "      <th></th>\n",
       "      <th>ni_E</th>\n",
       "      <th>ni_D</th>\n",
       "      <th>ni</th>\n",
       "      <th>nj_E</th>\n",
       "      <th>nj_D</th>\n",
       "      <th>nj</th>\n",
       "      <th>nk_E</th>\n",
       "      <th>nk_D</th>\n",
       "      <th>nk</th>\n",
       "      <th>disruption</th>\n",
       "      <th>in</th>\n",
       "      <th>out</th>\n",
       "      <th>ci</th>\n",
       "    </tr>\n",
       "    <tr>\n",
       "      <th></th>\n",
       "      <th></th>\n",
       "      <th></th>\n",
       "      <th></th>\n",
       "      <th></th>\n",
       "      <th></th>\n",
       "      <th></th>\n",
       "      <th></th>\n",
       "      <th></th>\n",
       "      <th></th>\n",
       "      <th></th>\n",
       "      <th></th>\n",
       "      <th></th>\n",
       "      <th></th>\n",
       "    </tr>\n",
       "  </thead>\n",
       "  <tbody>\n",
       "    <tr>\n",
       "      <th>1950s Housewife Tries LSD</th>\n",
       "      <td>4.0</td>\n",
       "      <td>0.0</td>\n",
       "      <td>4.0</td>\n",
       "      <td>0.0</td>\n",
       "      <td>0.0</td>\n",
       "      <td>0.0</td>\n",
       "      <td>0.0</td>\n",
       "      <td>0.0</td>\n",
       "      <td>0.0</td>\n",
       "      <td>1.0</td>\n",
       "      <td>4.0</td>\n",
       "      <td>0.0</td>\n",
       "      <td>0.1994</td>\n",
       "    </tr>\n",
       "    <tr>\n",
       "      <th>Trapp Family Singers</th>\n",
       "      <td>3.0</td>\n",
       "      <td>0.0</td>\n",
       "      <td>3.0</td>\n",
       "      <td>0.0</td>\n",
       "      <td>0.0</td>\n",
       "      <td>0.0</td>\n",
       "      <td>0.0</td>\n",
       "      <td>0.0</td>\n",
       "      <td>0.0</td>\n",
       "      <td>1.0</td>\n",
       "      <td>3.0</td>\n",
       "      <td>0.0</td>\n",
       "      <td>0.2627</td>\n",
       "    </tr>\n",
       "    <tr>\n",
       "      <th>Machiavel</th>\n",
       "      <td>3.0</td>\n",
       "      <td>0.0</td>\n",
       "      <td>3.0</td>\n",
       "      <td>0.0</td>\n",
       "      <td>0.0</td>\n",
       "      <td>0.0</td>\n",
       "      <td>0.0</td>\n",
       "      <td>0.0</td>\n",
       "      <td>0.0</td>\n",
       "      <td>1.0</td>\n",
       "      <td>3.0</td>\n",
       "      <td>0.0</td>\n",
       "      <td>0.2632</td>\n",
       "    </tr>\n",
       "    <tr>\n",
       "      <th>Karen Boddington</th>\n",
       "      <td>2.0</td>\n",
       "      <td>0.0</td>\n",
       "      <td>2.0</td>\n",
       "      <td>0.0</td>\n",
       "      <td>0.0</td>\n",
       "      <td>0.0</td>\n",
       "      <td>0.0</td>\n",
       "      <td>0.0</td>\n",
       "      <td>0.0</td>\n",
       "      <td>1.0</td>\n",
       "      <td>2.0</td>\n",
       "      <td>0.0</td>\n",
       "      <td>0.3253</td>\n",
       "    </tr>\n",
       "    <tr>\n",
       "      <th>Don't Be a Menace</th>\n",
       "      <td>1.0</td>\n",
       "      <td>0.0</td>\n",
       "      <td>1.0</td>\n",
       "      <td>0.0</td>\n",
       "      <td>0.0</td>\n",
       "      <td>0.0</td>\n",
       "      <td>0.0</td>\n",
       "      <td>0.0</td>\n",
       "      <td>0.0</td>\n",
       "      <td>1.0</td>\n",
       "      <td>1.0</td>\n",
       "      <td>0.0</td>\n",
       "      <td>0.4117</td>\n",
       "    </tr>\n",
       "  </tbody>\n",
       "</table>\n",
       "</div>"
      ],
      "text/plain": [
       "                           ni_E  ni_D   ni  nj_E  ...  disruption   in  out      ci\n",
       "                                                  ...                              \n",
       "1950s Housewife Tries LSD   4.0   0.0  4.0   0.0  ...         1.0  4.0  0.0  0.1994\n",
       "Trapp Family Singers        3.0   0.0  3.0   0.0  ...         1.0  3.0  0.0  0.2627\n",
       "Machiavel                   3.0   0.0  3.0   0.0  ...         1.0  3.0  0.0  0.2632\n",
       "Karen Boddington            2.0   0.0  2.0   0.0  ...         1.0  2.0  0.0  0.3253\n",
       "Don't Be a Menace           1.0   0.0  1.0   0.0  ...         1.0  1.0  0.0  0.4117\n",
       "\n",
       "[5 rows x 13 columns]"
      ]
     },
     "execution_count": 11,
     "metadata": {
      "tags": []
     },
     "output_type": "execute_result"
    }
   ],
   "source": [
    "#As linhas abaxo estão comentadas pois a tabela salva já inclui o intervalo de confiança\n",
    "#ci_g = dr.get_confidence_disruption(G_table_whosampled)\n",
    "#G_table_whosampled['ci'] = 1-ci_g\n",
    "G_table_whosampled = G_table_whosampled.rename(columns = {'Unnamed: 0':''})\n",
    "G_table_whosampled.index = G_table_whosampled['']\n",
    "G_table_whosampled = G_table_whosampled.drop(columns = '')\n",
    "G_table_whosampled.head()"
   ]
  },
  {
   "cell_type": "markdown",
   "metadata": {
    "colab_type": "text",
    "id": "rSYAcvvoqzL4"
   },
   "source": [
    "<br><h4>Carregando a tabela de disruptividade do Allmusic.</h4><br>\n",
    "<p>Essa tabela foi previamente calculada</p><br>"
   ]
  },
  {
   "cell_type": "code",
   "execution_count": 0,
   "metadata": {
    "colab": {},
    "colab_type": "code",
    "id": "1EpqRNloqzL5"
   },
   "outputs": [],
   "source": [
    "G_table_allmusic = pd.read_csv('../data/G_table_allmusic_disruption.csv')\n",
    "G_table_allmusic = pd.DataFrame(data = G_table_allmusic)\n",
    "G_table_allmusic = G_table_allmusic.rename(columns = {'Unnamed: 0':''})\n",
    "G_table_allmusic.index = G_table_allmusic['']\n",
    "G_table_allmusic = G_table_allmusic.drop(columns = '')"
   ]
  },
  {
   "cell_type": "code",
   "execution_count": 0,
   "metadata": {
    "colab": {
     "base_uri": "https://localhost:8080/",
     "height": 218
    },
    "colab_type": "code",
    "executionInfo": {
     "elapsed": 2123,
     "status": "ok",
     "timestamp": 1586184608085,
     "user": {
      "displayName": "Tales Panoutsos Malheiros Lima",
      "photoUrl": "https://lh3.googleusercontent.com/a-/AOh14GjJOQ9j3KI4NqEf90arIeK004r3HiHKLw_ixEm11g=s64",
      "userId": "15576848666894932629"
     },
     "user_tz": 180
    },
    "id": "QcJBQmeEqzMA",
    "outputId": "400f5db8-3dcf-4820-dcdb-6dbba1ac1b24"
   },
   "outputs": [
    {
     "data": {
      "text/html": [
       "<div>\n",
       "<style scoped>\n",
       "    .dataframe tbody tr th:only-of-type {\n",
       "        vertical-align: middle;\n",
       "    }\n",
       "\n",
       "    .dataframe tbody tr th {\n",
       "        vertical-align: top;\n",
       "    }\n",
       "\n",
       "    .dataframe thead th {\n",
       "        text-align: right;\n",
       "    }\n",
       "</style>\n",
       "<table border=\"1\" class=\"dataframe\">\n",
       "  <thead>\n",
       "    <tr style=\"text-align: right;\">\n",
       "      <th></th>\n",
       "      <th>ni_E</th>\n",
       "      <th>ni_D</th>\n",
       "      <th>ni</th>\n",
       "      <th>nj_E</th>\n",
       "      <th>nj_D</th>\n",
       "      <th>nj</th>\n",
       "      <th>nk_E</th>\n",
       "      <th>nk_D</th>\n",
       "      <th>nk</th>\n",
       "      <th>disruption</th>\n",
       "      <th>in</th>\n",
       "      <th>out</th>\n",
       "      <th>ci</th>\n",
       "    </tr>\n",
       "    <tr>\n",
       "      <th></th>\n",
       "      <th></th>\n",
       "      <th></th>\n",
       "      <th></th>\n",
       "      <th></th>\n",
       "      <th></th>\n",
       "      <th></th>\n",
       "      <th></th>\n",
       "      <th></th>\n",
       "      <th></th>\n",
       "      <th></th>\n",
       "      <th></th>\n",
       "      <th></th>\n",
       "      <th></th>\n",
       "    </tr>\n",
       "  </thead>\n",
       "  <tbody>\n",
       "    <tr>\n",
       "      <th>mn0000112057</th>\n",
       "      <td>4.0</td>\n",
       "      <td>0.0</td>\n",
       "      <td>4.0</td>\n",
       "      <td>2.0</td>\n",
       "      <td>0.0</td>\n",
       "      <td>2.0</td>\n",
       "      <td>1109.0</td>\n",
       "      <td>62.0</td>\n",
       "      <td>1171.0</td>\n",
       "      <td>0.001699</td>\n",
       "      <td>6.0</td>\n",
       "      <td>12.0</td>\n",
       "      <td>0.3447</td>\n",
       "    </tr>\n",
       "    <tr>\n",
       "      <th>mn0000489999</th>\n",
       "      <td>26.0</td>\n",
       "      <td>1.0</td>\n",
       "      <td>27.0</td>\n",
       "      <td>14.0</td>\n",
       "      <td>0.0</td>\n",
       "      <td>14.0</td>\n",
       "      <td>1410.0</td>\n",
       "      <td>138.0</td>\n",
       "      <td>1548.0</td>\n",
       "      <td>0.008181</td>\n",
       "      <td>41.0</td>\n",
       "      <td>9.0</td>\n",
       "      <td>0.0476</td>\n",
       "    </tr>\n",
       "    <tr>\n",
       "      <th>mn0000485191</th>\n",
       "      <td>40.0</td>\n",
       "      <td>0.0</td>\n",
       "      <td>40.0</td>\n",
       "      <td>17.0</td>\n",
       "      <td>0.0</td>\n",
       "      <td>17.0</td>\n",
       "      <td>1535.0</td>\n",
       "      <td>80.0</td>\n",
       "      <td>1615.0</td>\n",
       "      <td>0.013756</td>\n",
       "      <td>57.0</td>\n",
       "      <td>9.0</td>\n",
       "      <td>0.0034</td>\n",
       "    </tr>\n",
       "    <tr>\n",
       "      <th>mn0000062583</th>\n",
       "      <td>1.0</td>\n",
       "      <td>0.0</td>\n",
       "      <td>1.0</td>\n",
       "      <td>5.0</td>\n",
       "      <td>0.0</td>\n",
       "      <td>5.0</td>\n",
       "      <td>2226.0</td>\n",
       "      <td>206.0</td>\n",
       "      <td>2432.0</td>\n",
       "      <td>-0.001641</td>\n",
       "      <td>6.0</td>\n",
       "      <td>16.0</td>\n",
       "      <td>0.2058</td>\n",
       "    </tr>\n",
       "    <tr>\n",
       "      <th>mn0000251361</th>\n",
       "      <td>8.0</td>\n",
       "      <td>0.0</td>\n",
       "      <td>8.0</td>\n",
       "      <td>6.0</td>\n",
       "      <td>0.0</td>\n",
       "      <td>6.0</td>\n",
       "      <td>939.0</td>\n",
       "      <td>308.0</td>\n",
       "      <td>1247.0</td>\n",
       "      <td>0.001586</td>\n",
       "      <td>14.0</td>\n",
       "      <td>10.0</td>\n",
       "      <td>0.3635</td>\n",
       "    </tr>\n",
       "  </tbody>\n",
       "</table>\n",
       "</div>"
      ],
      "text/plain": [
       "              ni_E  ni_D    ni  nj_E  ...  disruption    in   out      ci\n",
       "                                      ...                                \n",
       "mn0000112057   4.0   0.0   4.0   2.0  ...    0.001699   6.0  12.0  0.3447\n",
       "mn0000489999  26.0   1.0  27.0  14.0  ...    0.008181  41.0   9.0  0.0476\n",
       "mn0000485191  40.0   0.0  40.0  17.0  ...    0.013756  57.0   9.0  0.0034\n",
       "mn0000062583   1.0   0.0   1.0   5.0  ...   -0.001641   6.0  16.0  0.2058\n",
       "mn0000251361   8.0   0.0   8.0   6.0  ...    0.001586  14.0  10.0  0.3635\n",
       "\n",
       "[5 rows x 13 columns]"
      ]
     },
     "execution_count": 13,
     "metadata": {
      "tags": []
     },
     "output_type": "execute_result"
    }
   ],
   "source": [
    "G_table_allmusic = G_table_allmusic.dropna().copy()\n",
    "G_table_allmusic.head()"
   ]
  },
  {
   "cell_type": "code",
   "execution_count": 0,
   "metadata": {
    "colab": {
     "base_uri": "https://localhost:8080/",
     "height": 218
    },
    "colab_type": "code",
    "executionInfo": {
     "elapsed": 36726,
     "status": "ok",
     "timestamp": 1586184643395,
     "user": {
      "displayName": "Tales Panoutsos Malheiros Lima",
      "photoUrl": "https://lh3.googleusercontent.com/a-/AOh14GjJOQ9j3KI4NqEf90arIeK004r3HiHKLw_ixEm11g=s64",
      "userId": "15576848666894932629"
     },
     "user_tz": 180
    },
    "id": "hl1BlIy8qzMF",
    "outputId": "d761f9b8-eaf0-4910-a093-c659ed796b02"
   },
   "outputs": [
    {
     "data": {
      "text/html": [
       "<div>\n",
       "<style scoped>\n",
       "    .dataframe tbody tr th:only-of-type {\n",
       "        vertical-align: middle;\n",
       "    }\n",
       "\n",
       "    .dataframe tbody tr th {\n",
       "        vertical-align: top;\n",
       "    }\n",
       "\n",
       "    .dataframe thead th {\n",
       "        text-align: right;\n",
       "    }\n",
       "</style>\n",
       "<table border=\"1\" class=\"dataframe\">\n",
       "  <thead>\n",
       "    <tr style=\"text-align: right;\">\n",
       "      <th></th>\n",
       "      <th>ni_E</th>\n",
       "      <th>ni_D</th>\n",
       "      <th>ni</th>\n",
       "      <th>nj_E</th>\n",
       "      <th>nj_D</th>\n",
       "      <th>nj</th>\n",
       "      <th>nk_E</th>\n",
       "      <th>nk_D</th>\n",
       "      <th>nk</th>\n",
       "      <th>disruption</th>\n",
       "      <th>in</th>\n",
       "      <th>out</th>\n",
       "      <th>ci</th>\n",
       "    </tr>\n",
       "    <tr>\n",
       "      <th></th>\n",
       "      <th></th>\n",
       "      <th></th>\n",
       "      <th></th>\n",
       "      <th></th>\n",
       "      <th></th>\n",
       "      <th></th>\n",
       "      <th></th>\n",
       "      <th></th>\n",
       "      <th></th>\n",
       "      <th></th>\n",
       "      <th></th>\n",
       "      <th></th>\n",
       "      <th></th>\n",
       "    </tr>\n",
       "  </thead>\n",
       "  <tbody>\n",
       "    <tr>\n",
       "      <th>mn0000112057</th>\n",
       "      <td>4.0</td>\n",
       "      <td>0.0</td>\n",
       "      <td>4.0</td>\n",
       "      <td>2.0</td>\n",
       "      <td>0.0</td>\n",
       "      <td>2.0</td>\n",
       "      <td>1109.0</td>\n",
       "      <td>62.0</td>\n",
       "      <td>1171.0</td>\n",
       "      <td>0.001699</td>\n",
       "      <td>6.0</td>\n",
       "      <td>12.0</td>\n",
       "      <td>0.3392</td>\n",
       "    </tr>\n",
       "    <tr>\n",
       "      <th>mn0000489999</th>\n",
       "      <td>26.0</td>\n",
       "      <td>1.0</td>\n",
       "      <td>27.0</td>\n",
       "      <td>14.0</td>\n",
       "      <td>0.0</td>\n",
       "      <td>14.0</td>\n",
       "      <td>1410.0</td>\n",
       "      <td>138.0</td>\n",
       "      <td>1548.0</td>\n",
       "      <td>0.008181</td>\n",
       "      <td>41.0</td>\n",
       "      <td>9.0</td>\n",
       "      <td>0.0467</td>\n",
       "    </tr>\n",
       "    <tr>\n",
       "      <th>mn0000485191</th>\n",
       "      <td>40.0</td>\n",
       "      <td>0.0</td>\n",
       "      <td>40.0</td>\n",
       "      <td>17.0</td>\n",
       "      <td>0.0</td>\n",
       "      <td>17.0</td>\n",
       "      <td>1535.0</td>\n",
       "      <td>80.0</td>\n",
       "      <td>1615.0</td>\n",
       "      <td>0.013756</td>\n",
       "      <td>57.0</td>\n",
       "      <td>9.0</td>\n",
       "      <td>0.0045</td>\n",
       "    </tr>\n",
       "    <tr>\n",
       "      <th>mn0000062583</th>\n",
       "      <td>1.0</td>\n",
       "      <td>0.0</td>\n",
       "      <td>1.0</td>\n",
       "      <td>5.0</td>\n",
       "      <td>0.0</td>\n",
       "      <td>5.0</td>\n",
       "      <td>2226.0</td>\n",
       "      <td>206.0</td>\n",
       "      <td>2432.0</td>\n",
       "      <td>-0.001641</td>\n",
       "      <td>6.0</td>\n",
       "      <td>16.0</td>\n",
       "      <td>0.2073</td>\n",
       "    </tr>\n",
       "    <tr>\n",
       "      <th>mn0000251361</th>\n",
       "      <td>8.0</td>\n",
       "      <td>0.0</td>\n",
       "      <td>8.0</td>\n",
       "      <td>6.0</td>\n",
       "      <td>0.0</td>\n",
       "      <td>6.0</td>\n",
       "      <td>939.0</td>\n",
       "      <td>308.0</td>\n",
       "      <td>1247.0</td>\n",
       "      <td>0.001586</td>\n",
       "      <td>14.0</td>\n",
       "      <td>10.0</td>\n",
       "      <td>0.3627</td>\n",
       "    </tr>\n",
       "  </tbody>\n",
       "</table>\n",
       "</div>"
      ],
      "text/plain": [
       "              ni_E  ni_D    ni  nj_E  ...  disruption    in   out      ci\n",
       "                                      ...                                \n",
       "mn0000112057   4.0   0.0   4.0   2.0  ...    0.001699   6.0  12.0  0.3392\n",
       "mn0000489999  26.0   1.0  27.0  14.0  ...    0.008181  41.0   9.0  0.0467\n",
       "mn0000485191  40.0   0.0  40.0  17.0  ...    0.013756  57.0   9.0  0.0045\n",
       "mn0000062583   1.0   0.0   1.0   5.0  ...   -0.001641   6.0  16.0  0.2073\n",
       "mn0000251361   8.0   0.0   8.0   6.0  ...    0.001586  14.0  10.0  0.3627\n",
       "\n",
       "[5 rows x 13 columns]"
      ]
     },
     "execution_count": 14,
     "metadata": {
      "tags": []
     },
     "output_type": "execute_result"
    }
   ],
   "source": [
    "ci_g = dr.get_confidence_disruption(G_table_allmusic)\n",
    "G_table_allmusic['ci'] = 1-ci_g\n",
    "G_table_allmusic.head()"
   ]
  },
  {
   "cell_type": "markdown",
   "metadata": {
    "colab_type": "text",
    "id": "M6ACV5MTqzMJ"
   },
   "source": [
    "<br><h4>Top artistas disruptivos allmusic</h4><br><p>Artistas do allmusic com 1 de disrupção e ci menor que 0.05</p><br>"
   ]
  },
  {
   "cell_type": "code",
   "execution_count": 0,
   "metadata": {
    "colab": {},
    "colab_type": "code",
    "id": "BlU-DLn6qzMK"
   },
   "outputs": [],
   "source": [
    "top_disruptivers_allmusic = list()\n",
    "name_to_id_allmusic = dict()\n",
    "for cod_artista in G_table_allmusic.index:\n",
    "    name_to_id_allmusic[allmusic_json[cod_artista]['name']]= cod_artista\n",
    "    if G_table_allmusic.loc[cod_artista]['disruption'] == 1 and G_table_allmusic.loc[cod_artista]['ci'] < 0.05:   \n",
    "        top_disruptivers_allmusic.append(allmusic_json[cod_artista]['name'])    "
   ]
  },
  {
   "cell_type": "markdown",
   "metadata": {
    "colab_type": "text",
    "id": "EpW7XFELqzMO"
   },
   "source": [
    "<br><h4>Top artistas disruptivos Whosampled</h4><br><p>Artistas do Whosampled com 1 de disrupção e ci menor que 0.05</p><br>"
   ]
  },
  {
   "cell_type": "code",
   "execution_count": 0,
   "metadata": {
    "colab": {},
    "colab_type": "code",
    "id": "IK76ITj-qzMP"
   },
   "outputs": [],
   "source": [
    "top_disruptivers_whosampled = list(G_table_whosampled[G_table_whosampled['disruption']==1][G_table_whosampled[G_table_whosampled['disruption']==1]['ci']<0.05].index)  "
   ]
  },
  {
   "cell_type": "markdown",
   "metadata": {
    "colab_type": "text",
    "id": "gNrHLgHtqzMU"
   },
   "source": [
    "<br><p>Tamanho das listas:</p><br>"
   ]
  },
  {
   "cell_type": "code",
   "execution_count": 0,
   "metadata": {
    "colab": {
     "base_uri": "https://localhost:8080/",
     "height": 68
    },
    "colab_type": "code",
    "executionInfo": {
     "elapsed": 736,
     "status": "ok",
     "timestamp": 1586163818741,
     "user": {
      "displayName": "Tales Panoutsos Malheiros Lima",
      "photoUrl": "https://lh3.googleusercontent.com/a-/AOh14GjJOQ9j3KI4NqEf90arIeK004r3HiHKLw_ixEm11g=s64",
      "userId": "15576848666894932629"
     },
     "user_tz": 180
    },
    "id": "ETP382mTqzMU",
    "outputId": "9b19b82a-461f-4121-ab21-055727589ca8"
   },
   "outputs": [
    {
     "name": "stdout",
     "output_type": "stream",
     "text": [
      "Number of artists with disruption = 1:\n",
      "Allmusic:  137\n",
      "Whosampled:  1618\n"
     ]
    }
   ],
   "source": [
    "print('Number of artists with disruption = 1:')\n",
    "print('Allmusic: ', len(top_disruptivers_allmusic))\n",
    "print('Whosampled: ', len(top_disruptivers_whosampled))"
   ]
  },
  {
   "cell_type": "markdown",
   "metadata": {
    "colab_type": "text",
    "id": "ry4oyTTCqzMb"
   },
   "source": [
    "<br><h3>Top apenas com artistas validos</h3><br>\n",
    "<p>Artistas válidos são artistas pelos quais conseguimos uma correspondencia entre os dois datasets</p><br>"
   ]
  },
  {
   "cell_type": "markdown",
   "metadata": {
    "colab_type": "text",
    "id": "TXsQ-DS7qzMc"
   },
   "source": [
    "<br><h4>Top artistas válidos allmusic</h4><br>"
   ]
  },
  {
   "cell_type": "code",
   "execution_count": 0,
   "metadata": {
    "colab": {},
    "colab_type": "code",
    "id": "_DLIS4m4qzMd"
   },
   "outputs": [],
   "source": [
    "#whosampled_artists = [name for name in G]\n",
    "top_valid_disruptivers_allmusic = list()\n",
    "#for artist in top_disruptivers_allmusic:\n",
    "#    if get_close_matches(artist, whosampled_artists, cutoff=0.9):\n",
    "#        top_valid_disruptivers_allmusic.append(artist)\n",
    "with open('../save/top_valid_disruptivers_allmusic.txt','r') as top_allmusic_file:\n",
    "    top_valid_disruptivers_allmusic = top_allmusic_file.read().split('\\n')\n",
    "top_valid_disruptivers_allmusic.pop()\n",
    "id_top_valid_disruptivers_allmusic = list()\n",
    "for artist in top_valid_disruptivers_allmusic:\n",
    "    id_top_valid_disruptivers_allmusic.append(name_to_id_allmusic[artist])\n",
    "G_table_allmusic.reindex(id_top_valid_disruptivers_allmusic).head()"
   ]
  },
  {
   "cell_type": "markdown",
   "metadata": {
    "colab_type": "text",
    "id": "ruh2coUmqzMh"
   },
   "source": [
    "<br><h4>Top artistas válidos Whosampled</h4><br>"
   ]
  },
  {
   "cell_type": "code",
   "execution_count": 0,
   "metadata": {
    "colab": {
     "base_uri": "https://localhost:8080/",
     "height": 218
    },
    "colab_type": "code",
    "executionInfo": {
     "elapsed": 1010,
     "status": "ok",
     "timestamp": 1586163822052,
     "user": {
      "displayName": "Tales Panoutsos Malheiros Lima",
      "photoUrl": "https://lh3.googleusercontent.com/a-/AOh14GjJOQ9j3KI4NqEf90arIeK004r3HiHKLw_ixEm11g=s64",
      "userId": "15576848666894932629"
     },
     "user_tz": 180
    },
    "id": "nBjfOkJBqzMi",
    "outputId": "b75263b1-f7cf-4c50-c7d3-69ceacf55535"
   },
   "outputs": [
    {
     "data": {
      "text/html": [
       "<div>\n",
       "<style scoped>\n",
       "    .dataframe tbody tr th:only-of-type {\n",
       "        vertical-align: middle;\n",
       "    }\n",
       "\n",
       "    .dataframe tbody tr th {\n",
       "        vertical-align: top;\n",
       "    }\n",
       "\n",
       "    .dataframe thead th {\n",
       "        text-align: right;\n",
       "    }\n",
       "</style>\n",
       "<table border=\"1\" class=\"dataframe\">\n",
       "  <thead>\n",
       "    <tr style=\"text-align: right;\">\n",
       "      <th></th>\n",
       "      <th>ni_E</th>\n",
       "      <th>ni_D</th>\n",
       "      <th>ni</th>\n",
       "      <th>nj_E</th>\n",
       "      <th>nj_D</th>\n",
       "      <th>nj</th>\n",
       "      <th>nk_E</th>\n",
       "      <th>nk_D</th>\n",
       "      <th>nk</th>\n",
       "      <th>disruption</th>\n",
       "      <th>in</th>\n",
       "      <th>out</th>\n",
       "      <th>ci</th>\n",
       "    </tr>\n",
       "    <tr>\n",
       "      <th></th>\n",
       "      <th></th>\n",
       "      <th></th>\n",
       "      <th></th>\n",
       "      <th></th>\n",
       "      <th></th>\n",
       "      <th></th>\n",
       "      <th></th>\n",
       "      <th></th>\n",
       "      <th></th>\n",
       "      <th></th>\n",
       "      <th></th>\n",
       "      <th></th>\n",
       "      <th></th>\n",
       "    </tr>\n",
       "  </thead>\n",
       "  <tbody>\n",
       "    <tr>\n",
       "      <th>David Dundas</th>\n",
       "      <td>12.0</td>\n",
       "      <td>0.0</td>\n",
       "      <td>12.0</td>\n",
       "      <td>0.0</td>\n",
       "      <td>0.0</td>\n",
       "      <td>0.0</td>\n",
       "      <td>0.0</td>\n",
       "      <td>0.0</td>\n",
       "      <td>0.0</td>\n",
       "      <td>1.0</td>\n",
       "      <td>12.0</td>\n",
       "      <td>0.0</td>\n",
       "      <td>0.0137</td>\n",
       "    </tr>\n",
       "    <tr>\n",
       "      <th>New Jersey Connection</th>\n",
       "      <td>9.0</td>\n",
       "      <td>0.0</td>\n",
       "      <td>9.0</td>\n",
       "      <td>0.0</td>\n",
       "      <td>0.0</td>\n",
       "      <td>0.0</td>\n",
       "      <td>0.0</td>\n",
       "      <td>0.0</td>\n",
       "      <td>0.0</td>\n",
       "      <td>1.0</td>\n",
       "      <td>9.0</td>\n",
       "      <td>0.0</td>\n",
       "      <td>0.0449</td>\n",
       "    </tr>\n",
       "    <tr>\n",
       "      <th>Arthur Collins</th>\n",
       "      <td>25.0</td>\n",
       "      <td>0.0</td>\n",
       "      <td>25.0</td>\n",
       "      <td>0.0</td>\n",
       "      <td>0.0</td>\n",
       "      <td>0.0</td>\n",
       "      <td>0.0</td>\n",
       "      <td>0.0</td>\n",
       "      <td>0.0</td>\n",
       "      <td>1.0</td>\n",
       "      <td>25.0</td>\n",
       "      <td>0.0</td>\n",
       "      <td>0.0000</td>\n",
       "    </tr>\n",
       "    <tr>\n",
       "      <th>Argent</th>\n",
       "      <td>18.0</td>\n",
       "      <td>0.0</td>\n",
       "      <td>18.0</td>\n",
       "      <td>0.0</td>\n",
       "      <td>0.0</td>\n",
       "      <td>0.0</td>\n",
       "      <td>0.0</td>\n",
       "      <td>0.0</td>\n",
       "      <td>0.0</td>\n",
       "      <td>1.0</td>\n",
       "      <td>18.0</td>\n",
       "      <td>0.0</td>\n",
       "      <td>0.0014</td>\n",
       "    </tr>\n",
       "    <tr>\n",
       "      <th>The Montclairs</th>\n",
       "      <td>61.0</td>\n",
       "      <td>0.0</td>\n",
       "      <td>61.0</td>\n",
       "      <td>0.0</td>\n",
       "      <td>0.0</td>\n",
       "      <td>0.0</td>\n",
       "      <td>0.0</td>\n",
       "      <td>0.0</td>\n",
       "      <td>0.0</td>\n",
       "      <td>1.0</td>\n",
       "      <td>61.0</td>\n",
       "      <td>0.0</td>\n",
       "      <td>0.0000</td>\n",
       "    </tr>\n",
       "  </tbody>\n",
       "</table>\n",
       "</div>"
      ],
      "text/plain": [
       "                       ni_E  ni_D    ni  nj_E  ...  disruption    in  out      ci\n",
       "                                               ...                               \n",
       "David Dundas           12.0   0.0  12.0   0.0  ...         1.0  12.0  0.0  0.0137\n",
       "New Jersey Connection   9.0   0.0   9.0   0.0  ...         1.0   9.0  0.0  0.0449\n",
       "Arthur Collins         25.0   0.0  25.0   0.0  ...         1.0  25.0  0.0  0.0000\n",
       "Argent                 18.0   0.0  18.0   0.0  ...         1.0  18.0  0.0  0.0014\n",
       "The Montclairs         61.0   0.0  61.0   0.0  ...         1.0  61.0  0.0  0.0000\n",
       "\n",
       "[5 rows x 13 columns]"
      ]
     },
     "execution_count": 36,
     "metadata": {
      "tags": []
     },
     "output_type": "execute_result"
    }
   ],
   "source": [
    "#allmusic_artists = [allmusic_json[key]['name'] for key in allmusic_json]\n",
    "top_valid_disruptivers_whosampled = list()\n",
    "#for artist in top_disruptivers_whosampled:\n",
    "#    if get_close_matches(artist, allmusic_artists, cutoff=0.9):\n",
    "#        top_valid_disruptivers_whosampled.append(artist)\n",
    "with open('../save/top_valid_disruptivers_whosampled.txt','r') as top_whosampled_file:\n",
    "    top_valid_disruptivers_whosampled = top_whosampled_file.read().split('\\n')\n",
    "        \n",
    "G_table_whosampled.reindex(top_valid_disruptivers_whosampled).head()"
   ]
  },
  {
   "cell_type": "markdown",
   "metadata": {
    "colab_type": "text",
    "id": "UWUJ16OPqzMm"
   },
   "source": [
    "<br><p>Tamanho das listas</p><br>"
   ]
  },
  {
   "cell_type": "code",
   "execution_count": 0,
   "metadata": {
    "colab": {
     "base_uri": "https://localhost:8080/",
     "height": 68
    },
    "colab_type": "code",
    "executionInfo": {
     "elapsed": 565,
     "status": "ok",
     "timestamp": 1586163851073,
     "user": {
      "displayName": "Tales Panoutsos Malheiros Lima",
      "photoUrl": "https://lh3.googleusercontent.com/a-/AOh14GjJOQ9j3KI4NqEf90arIeK004r3HiHKLw_ixEm11g=s64",
      "userId": "15576848666894932629"
     },
     "user_tz": 180
    },
    "id": "ifYRnDysqzMn",
    "outputId": "564527dd-8cdc-4619-e2a8-1104069f2b14"
   },
   "outputs": [
    {
     "name": "stdout",
     "output_type": "stream",
     "text": [
      "Number of valid artists common to both datasets with the ci<0.05 :\n",
      "Allmusic:  0\n",
      "Whosampled:  798\n"
     ]
    }
   ],
   "source": [
    "print('Number of valid artists common to both datasets with the ci<0.05 :')\n",
    "print('Allmusic: ', len(top_valid_disruptivers_allmusic))\n",
    "print('Whosampled: ', len(top_valid_disruptivers_whosampled))"
   ]
  },
  {
   "cell_type": "markdown",
   "metadata": {
    "colab_type": "text",
    "id": "NbHUnLj3qzMq"
   },
   "source": [
    "<br><p>Artistas em comum das duas listas:</p><br>"
   ]
  },
  {
   "cell_type": "code",
   "execution_count": 0,
   "metadata": {
    "colab": {
     "base_uri": "https://localhost:8080/",
     "height": 34
    },
    "colab_type": "code",
    "executionInfo": {
     "elapsed": 1038,
     "status": "ok",
     "timestamp": 1586163854174,
     "user": {
      "displayName": "Tales Panoutsos Malheiros Lima",
      "photoUrl": "https://lh3.googleusercontent.com/a-/AOh14GjJOQ9j3KI4NqEf90arIeK004r3HiHKLw_ixEm11g=s64",
      "userId": "15576848666894932629"
     },
     "user_tz": 180
    },
    "id": "2RCKp1ORqzMr",
    "outputId": "0b83c742-015e-4140-d8fb-52753a36a5ba"
   },
   "outputs": [
    {
     "name": "stdout",
     "output_type": "stream",
     "text": [
      "Número de artistas em comum:  13\n"
     ]
    }
   ],
   "source": [
    "#interseção entre as os disruptivos das duas bases\n",
    "common_artists = list()\n",
    "for artist_whosampled in top_disruptivers_whosampled:\n",
    "    if get_close_matches(artist_whosampled, top_disruptivers_allmusic, cutoff=0.9):\n",
    "        common_artists.append(get_close_matches(artist_whosampled, top_disruptivers_allmusic, cutoff=0.9)[0])#, ' Genero:', list(allmusic_json[name_to_id_allmusic[disruptiver_common]]['genres'].values())[0], ' Ano:', next(iter(allmusic_json[name_to_id_allmusic[disruptiver_common]]['decades']))   )    \n",
    "print('Número de artistas em comum: ',len(common_artists))        "
   ]
  },
  {
   "cell_type": "code",
   "execution_count": 0,
   "metadata": {
    "colab": {
     "base_uri": "https://localhost:8080/",
     "height": 466
    },
    "colab_type": "code",
    "executionInfo": {
     "elapsed": 361,
     "status": "ok",
     "timestamp": 1586163855177,
     "user": {
      "displayName": "Tales Panoutsos Malheiros Lima",
      "photoUrl": "https://lh3.googleusercontent.com/a-/AOh14GjJOQ9j3KI4NqEf90arIeK004r3HiHKLw_ixEm11g=s64",
      "userId": "15576848666894932629"
     },
     "user_tz": 180
    },
    "id": "OcQXpBiJqzMv",
    "outputId": "98abc67f-aaf5-4a96-e5aa-da641164ecc5"
   },
   "outputs": [
    {
     "data": {
      "text/html": [
       "<div>\n",
       "<style scoped>\n",
       "    .dataframe tbody tr th:only-of-type {\n",
       "        vertical-align: middle;\n",
       "    }\n",
       "\n",
       "    .dataframe tbody tr th {\n",
       "        vertical-align: top;\n",
       "    }\n",
       "\n",
       "    .dataframe thead th {\n",
       "        text-align: right;\n",
       "    }\n",
       "</style>\n",
       "<table border=\"1\" class=\"dataframe\">\n",
       "  <thead>\n",
       "    <tr style=\"text-align: right;\">\n",
       "      <th></th>\n",
       "      <th>ni</th>\n",
       "      <th>nj</th>\n",
       "      <th>nk</th>\n",
       "      <th>disruption</th>\n",
       "      <th>in</th>\n",
       "      <th>out</th>\n",
       "      <th>ci</th>\n",
       "    </tr>\n",
       "    <tr>\n",
       "      <th></th>\n",
       "      <th></th>\n",
       "      <th></th>\n",
       "      <th></th>\n",
       "      <th></th>\n",
       "      <th></th>\n",
       "      <th></th>\n",
       "      <th></th>\n",
       "    </tr>\n",
       "  </thead>\n",
       "  <tbody>\n",
       "    <tr>\n",
       "      <th>Cole Porter</th>\n",
       "      <td>21.0</td>\n",
       "      <td>0.0</td>\n",
       "      <td>0.0</td>\n",
       "      <td>1.0</td>\n",
       "      <td>21.0</td>\n",
       "      <td>0.0</td>\n",
       "      <td>0.0004</td>\n",
       "    </tr>\n",
       "    <tr>\n",
       "      <th>W.C. Handy</th>\n",
       "      <td>23.0</td>\n",
       "      <td>0.0</td>\n",
       "      <td>0.0</td>\n",
       "      <td>1.0</td>\n",
       "      <td>23.0</td>\n",
       "      <td>0.0</td>\n",
       "      <td>0.0001</td>\n",
       "    </tr>\n",
       "    <tr>\n",
       "      <th>Bob Wills &amp; His Texas Playboys</th>\n",
       "      <td>38.0</td>\n",
       "      <td>0.0</td>\n",
       "      <td>0.0</td>\n",
       "      <td>1.0</td>\n",
       "      <td>38.0</td>\n",
       "      <td>0.0</td>\n",
       "      <td>0.0000</td>\n",
       "    </tr>\n",
       "    <tr>\n",
       "      <th>Stephen Foster</th>\n",
       "      <td>60.0</td>\n",
       "      <td>0.0</td>\n",
       "      <td>0.0</td>\n",
       "      <td>1.0</td>\n",
       "      <td>60.0</td>\n",
       "      <td>0.0</td>\n",
       "      <td>0.0000</td>\n",
       "    </tr>\n",
       "    <tr>\n",
       "      <th>Erik Satie</th>\n",
       "      <td>101.0</td>\n",
       "      <td>0.0</td>\n",
       "      <td>0.0</td>\n",
       "      <td>1.0</td>\n",
       "      <td>101.0</td>\n",
       "      <td>0.0</td>\n",
       "      <td>0.0000</td>\n",
       "    </tr>\n",
       "    <tr>\n",
       "      <th>Jimmie Rodgers</th>\n",
       "      <td>30.0</td>\n",
       "      <td>0.0</td>\n",
       "      <td>0.0</td>\n",
       "      <td>1.0</td>\n",
       "      <td>30.0</td>\n",
       "      <td>0.0</td>\n",
       "      <td>0.0000</td>\n",
       "    </tr>\n",
       "    <tr>\n",
       "      <th>Johnny Mandel</th>\n",
       "      <td>142.0</td>\n",
       "      <td>0.0</td>\n",
       "      <td>0.0</td>\n",
       "      <td>1.0</td>\n",
       "      <td>142.0</td>\n",
       "      <td>0.0</td>\n",
       "      <td>0.0000</td>\n",
       "    </tr>\n",
       "    <tr>\n",
       "      <th>Scott Joplin</th>\n",
       "      <td>25.0</td>\n",
       "      <td>0.0</td>\n",
       "      <td>0.0</td>\n",
       "      <td>1.0</td>\n",
       "      <td>25.0</td>\n",
       "      <td>0.0</td>\n",
       "      <td>0.0001</td>\n",
       "    </tr>\n",
       "    <tr>\n",
       "      <th>Paul Whiteman</th>\n",
       "      <td>252.0</td>\n",
       "      <td>0.0</td>\n",
       "      <td>0.0</td>\n",
       "      <td>1.0</td>\n",
       "      <td>252.0</td>\n",
       "      <td>0.0</td>\n",
       "      <td>0.0000</td>\n",
       "    </tr>\n",
       "    <tr>\n",
       "      <th>The Normal</th>\n",
       "      <td>13.0</td>\n",
       "      <td>0.0</td>\n",
       "      <td>0.0</td>\n",
       "      <td>1.0</td>\n",
       "      <td>13.0</td>\n",
       "      <td>0.0</td>\n",
       "      <td>0.0105</td>\n",
       "    </tr>\n",
       "    <tr>\n",
       "      <th>Ruth Etting</th>\n",
       "      <td>47.0</td>\n",
       "      <td>0.0</td>\n",
       "      <td>0.0</td>\n",
       "      <td>1.0</td>\n",
       "      <td>47.0</td>\n",
       "      <td>0.0</td>\n",
       "      <td>0.0000</td>\n",
       "    </tr>\n",
       "    <tr>\n",
       "      <th>Ma Rainey</th>\n",
       "      <td>13.0</td>\n",
       "      <td>0.0</td>\n",
       "      <td>0.0</td>\n",
       "      <td>1.0</td>\n",
       "      <td>13.0</td>\n",
       "      <td>0.0</td>\n",
       "      <td>0.0097</td>\n",
       "    </tr>\n",
       "    <tr>\n",
       "      <th>Blind Lemon Jefferson</th>\n",
       "      <td>19.0</td>\n",
       "      <td>0.0</td>\n",
       "      <td>0.0</td>\n",
       "      <td>1.0</td>\n",
       "      <td>19.0</td>\n",
       "      <td>0.0</td>\n",
       "      <td>0.0009</td>\n",
       "    </tr>\n",
       "  </tbody>\n",
       "</table>\n",
       "</div>"
      ],
      "text/plain": [
       "                                   ni   nj   nk  disruption     in  out      ci\n",
       "                                                                               \n",
       "Cole Porter                      21.0  0.0  0.0         1.0   21.0  0.0  0.0004\n",
       "W.C. Handy                       23.0  0.0  0.0         1.0   23.0  0.0  0.0001\n",
       "Bob Wills & His Texas Playboys   38.0  0.0  0.0         1.0   38.0  0.0  0.0000\n",
       "Stephen Foster                   60.0  0.0  0.0         1.0   60.0  0.0  0.0000\n",
       "Erik Satie                      101.0  0.0  0.0         1.0  101.0  0.0  0.0000\n",
       "Jimmie Rodgers                   30.0  0.0  0.0         1.0   30.0  0.0  0.0000\n",
       "Johnny Mandel                   142.0  0.0  0.0         1.0  142.0  0.0  0.0000\n",
       "Scott Joplin                     25.0  0.0  0.0         1.0   25.0  0.0  0.0001\n",
       "Paul Whiteman                   252.0  0.0  0.0         1.0  252.0  0.0  0.0000\n",
       "The Normal                       13.0  0.0  0.0         1.0   13.0  0.0  0.0105\n",
       "Ruth Etting                      47.0  0.0  0.0         1.0   47.0  0.0  0.0000\n",
       "Ma Rainey                        13.0  0.0  0.0         1.0   13.0  0.0  0.0097\n",
       "Blind Lemon Jefferson            19.0  0.0  0.0         1.0   19.0  0.0  0.0009"
      ]
     },
     "execution_count": 39,
     "metadata": {
      "tags": []
     },
     "output_type": "execute_result"
    }
   ],
   "source": [
    "common_artists[2] = common_artists[2].replace('and','&') #É assim que esta na tabela do whosampled\n",
    "G_table_whosampled[['ni','nj','nk','disruption','in','out','ci']].reindex(common_artists)"
   ]
  },
  {
   "cell_type": "code",
   "execution_count": 0,
   "metadata": {
    "colab": {
     "base_uri": "https://localhost:8080/",
     "height": 466
    },
    "colab_type": "code",
    "executionInfo": {
     "elapsed": 557,
     "status": "ok",
     "timestamp": 1586163858706,
     "user": {
      "displayName": "Tales Panoutsos Malheiros Lima",
      "photoUrl": "https://lh3.googleusercontent.com/a-/AOh14GjJOQ9j3KI4NqEf90arIeK004r3HiHKLw_ixEm11g=s64",
      "userId": "15576848666894932629"
     },
     "user_tz": 180
    },
    "id": "MXIW3NL_qzMz",
    "outputId": "e42572e0-a977-4831-fbf4-3681c802d925",
    "scrolled": true
   },
   "outputs": [
    {
     "data": {
      "text/html": [
       "<div>\n",
       "<style scoped>\n",
       "    .dataframe tbody tr th:only-of-type {\n",
       "        vertical-align: middle;\n",
       "    }\n",
       "\n",
       "    .dataframe tbody tr th {\n",
       "        vertical-align: top;\n",
       "    }\n",
       "\n",
       "    .dataframe thead th {\n",
       "        text-align: right;\n",
       "    }\n",
       "</style>\n",
       "<table border=\"1\" class=\"dataframe\">\n",
       "  <thead>\n",
       "    <tr style=\"text-align: right;\">\n",
       "      <th></th>\n",
       "      <th>ni</th>\n",
       "      <th>nj</th>\n",
       "      <th>nk</th>\n",
       "      <th>disruption</th>\n",
       "      <th>in</th>\n",
       "      <th>out</th>\n",
       "      <th>ci</th>\n",
       "    </tr>\n",
       "    <tr>\n",
       "      <th></th>\n",
       "      <th></th>\n",
       "      <th></th>\n",
       "      <th></th>\n",
       "      <th></th>\n",
       "      <th></th>\n",
       "      <th></th>\n",
       "      <th></th>\n",
       "    </tr>\n",
       "  </thead>\n",
       "  <tbody>\n",
       "    <tr>\n",
       "      <th>mn0000109607</th>\n",
       "      <td>51.0</td>\n",
       "      <td>0.0</td>\n",
       "      <td>0.0</td>\n",
       "      <td>1.0</td>\n",
       "      <td>51.0</td>\n",
       "      <td>0.0</td>\n",
       "      <td>0.0000</td>\n",
       "    </tr>\n",
       "    <tr>\n",
       "      <th>mn0000195430</th>\n",
       "      <td>16.0</td>\n",
       "      <td>0.0</td>\n",
       "      <td>0.0</td>\n",
       "      <td>1.0</td>\n",
       "      <td>16.0</td>\n",
       "      <td>0.0</td>\n",
       "      <td>0.0025</td>\n",
       "    </tr>\n",
       "    <tr>\n",
       "      <th>mn0000065538</th>\n",
       "      <td>11.0</td>\n",
       "      <td>0.0</td>\n",
       "      <td>0.0</td>\n",
       "      <td>1.0</td>\n",
       "      <td>11.0</td>\n",
       "      <td>0.0</td>\n",
       "      <td>0.0216</td>\n",
       "    </tr>\n",
       "    <tr>\n",
       "      <th>mn0000143203</th>\n",
       "      <td>10.0</td>\n",
       "      <td>0.0</td>\n",
       "      <td>0.0</td>\n",
       "      <td>1.0</td>\n",
       "      <td>10.0</td>\n",
       "      <td>0.0</td>\n",
       "      <td>0.0301</td>\n",
       "    </tr>\n",
       "    <tr>\n",
       "      <th>mn0000675185</th>\n",
       "      <td>34.0</td>\n",
       "      <td>0.0</td>\n",
       "      <td>0.0</td>\n",
       "      <td>1.0</td>\n",
       "      <td>34.0</td>\n",
       "      <td>0.0</td>\n",
       "      <td>0.0000</td>\n",
       "    </tr>\n",
       "    <tr>\n",
       "      <th>mn0000343852</th>\n",
       "      <td>110.0</td>\n",
       "      <td>0.0</td>\n",
       "      <td>0.0</td>\n",
       "      <td>1.0</td>\n",
       "      <td>110.0</td>\n",
       "      <td>0.0</td>\n",
       "      <td>0.0000</td>\n",
       "    </tr>\n",
       "    <tr>\n",
       "      <th>mn0000202554</th>\n",
       "      <td>10.0</td>\n",
       "      <td>0.0</td>\n",
       "      <td>0.0</td>\n",
       "      <td>1.0</td>\n",
       "      <td>10.0</td>\n",
       "      <td>0.0</td>\n",
       "      <td>0.0276</td>\n",
       "    </tr>\n",
       "    <tr>\n",
       "      <th>mn0000843212</th>\n",
       "      <td>28.0</td>\n",
       "      <td>0.0</td>\n",
       "      <td>0.0</td>\n",
       "      <td>1.0</td>\n",
       "      <td>28.0</td>\n",
       "      <td>0.0</td>\n",
       "      <td>0.0000</td>\n",
       "    </tr>\n",
       "    <tr>\n",
       "      <th>mn0000753190</th>\n",
       "      <td>9.0</td>\n",
       "      <td>0.0</td>\n",
       "      <td>0.0</td>\n",
       "      <td>1.0</td>\n",
       "      <td>9.0</td>\n",
       "      <td>0.0</td>\n",
       "      <td>0.0436</td>\n",
       "    </tr>\n",
       "    <tr>\n",
       "      <th>mn0000892586</th>\n",
       "      <td>9.0</td>\n",
       "      <td>0.0</td>\n",
       "      <td>0.0</td>\n",
       "      <td>1.0</td>\n",
       "      <td>9.0</td>\n",
       "      <td>0.0</td>\n",
       "      <td>0.0424</td>\n",
       "    </tr>\n",
       "    <tr>\n",
       "      <th>mn0000806980</th>\n",
       "      <td>11.0</td>\n",
       "      <td>0.0</td>\n",
       "      <td>0.0</td>\n",
       "      <td>1.0</td>\n",
       "      <td>11.0</td>\n",
       "      <td>0.0</td>\n",
       "      <td>0.0213</td>\n",
       "    </tr>\n",
       "    <tr>\n",
       "      <th>mn0000188279</th>\n",
       "      <td>28.0</td>\n",
       "      <td>0.0</td>\n",
       "      <td>0.0</td>\n",
       "      <td>1.0</td>\n",
       "      <td>28.0</td>\n",
       "      <td>0.0</td>\n",
       "      <td>0.0001</td>\n",
       "    </tr>\n",
       "    <tr>\n",
       "      <th>mn0000050205</th>\n",
       "      <td>54.0</td>\n",
       "      <td>0.0</td>\n",
       "      <td>0.0</td>\n",
       "      <td>1.0</td>\n",
       "      <td>54.0</td>\n",
       "      <td>0.0</td>\n",
       "      <td>0.0000</td>\n",
       "    </tr>\n",
       "  </tbody>\n",
       "</table>\n",
       "</div>"
      ],
      "text/plain": [
       "                 ni   nj   nk  disruption     in  out      ci\n",
       "                                                             \n",
       "mn0000109607   51.0  0.0  0.0         1.0   51.0  0.0  0.0000\n",
       "mn0000195430   16.0  0.0  0.0         1.0   16.0  0.0  0.0025\n",
       "mn0000065538   11.0  0.0  0.0         1.0   11.0  0.0  0.0216\n",
       "mn0000143203   10.0  0.0  0.0         1.0   10.0  0.0  0.0301\n",
       "mn0000675185   34.0  0.0  0.0         1.0   34.0  0.0  0.0000\n",
       "mn0000343852  110.0  0.0  0.0         1.0  110.0  0.0  0.0000\n",
       "mn0000202554   10.0  0.0  0.0         1.0   10.0  0.0  0.0276\n",
       "mn0000843212   28.0  0.0  0.0         1.0   28.0  0.0  0.0000\n",
       "mn0000753190    9.0  0.0  0.0         1.0    9.0  0.0  0.0436\n",
       "mn0000892586    9.0  0.0  0.0         1.0    9.0  0.0  0.0424\n",
       "mn0000806980   11.0  0.0  0.0         1.0   11.0  0.0  0.0213\n",
       "mn0000188279   28.0  0.0  0.0         1.0   28.0  0.0  0.0001\n",
       "mn0000050205   54.0  0.0  0.0         1.0   54.0  0.0  0.0000"
      ]
     },
     "execution_count": 40,
     "metadata": {
      "tags": []
     },
     "output_type": "execute_result"
    }
   ],
   "source": [
    "common_artists[2] = common_artists[2].replace('&','and') #É assim que esta nos dados do allmusic\n",
    "id_common_artists = list()\n",
    "for artist in common_artists:\n",
    "    id_common_artists.append(name_to_id_allmusic[artist])\n",
    "G_table_allmusic[['ni','nj','nk','disruption','in','out','ci']].reindex(id_common_artists)"
   ]
  },
  {
   "cell_type": "markdown",
   "metadata": {
    "colab_type": "text",
    "id": "YyoUMBtsqzM3"
   },
   "source": [
    "<br><h4>Vendo a média de cada lista na outra base</h4><br>\n",
    "<p>Pegando os top artistas validos de uma base e vendo sua média na outra base</p><br>"
   ]
  },
  {
   "cell_type": "code",
   "execution_count": 0,
   "metadata": {
    "colab": {},
    "colab_type": "code",
    "id": "-h6U0tXFqzM4"
   },
   "outputs": [],
   "source": [
    "id_top_valid_disruptivers_whosampled = list()\n",
    "for artist in top_valid_disruptivers_whosampled:\n",
    "    try:\n",
    "        id_top_valid_disruptivers_whosampled.append(name_to_id_allmusic[artist])\n",
    "    except:\n",
    "        pass"
   ]
  },
  {
   "cell_type": "code",
   "execution_count": 0,
   "metadata": {
    "colab": {
     "base_uri": "https://localhost:8080/",
     "height": 68
    },
    "colab_type": "code",
    "executionInfo": {
     "elapsed": 360,
     "status": "ok",
     "timestamp": 1586163862111,
     "user": {
      "displayName": "Tales Panoutsos Malheiros Lima",
      "photoUrl": "https://lh3.googleusercontent.com/a-/AOh14GjJOQ9j3KI4NqEf90arIeK004r3HiHKLw_ixEm11g=s64",
      "userId": "15576848666894932629"
     },
     "user_tz": 180
    },
    "id": "Vow9K5VsqzM8",
    "outputId": "63440969-8066-4bee-915e-493217876b0c"
   },
   "outputs": [
    {
     "name": "stdout",
     "output_type": "stream",
     "text": [
      "Média das disruptividades dos top disruptivos validos de uma base na outra:\n",
      "Artistas do allmusic no whosampled:  nan\n",
      "Artistas do whosampled no allmusic:  0.5798843537037022\n"
     ]
    }
   ],
   "source": [
    "print('Média das disruptividades dos top disruptivos validos de uma base na outra:')\n",
    "print('Artistas do allmusic no whosampled: ',G_table_whosampled.reindex(top_valid_disruptivers_allmusic)['disruption'].mean())\n",
    "print('Artistas do whosampled no allmusic: ',G_table_allmusic.reindex(id_top_valid_disruptivers_whosampled)['disruption'].mean())\n",
    "\n",
    "#G_table_whosampled.reindex(top_valid_disruptivers_allmusic)['disruption'].mean()"
   ]
  },
  {
   "cell_type": "markdown",
   "metadata": {
    "colab_type": "text",
    "id": "1Pk7pRuMqzNA"
   },
   "source": [
    "<br><h4>Pelo menos 3 influencias</h4><br>\n",
    "<p>Fazendo o mesmo mas escolhendo apenas artistas que possuem pelo menos 3 influencias e não nessessariamente com disruptividade = 1</p><br>"
   ]
  },
  {
   "cell_type": "markdown",
   "metadata": {
    "colab_type": "text",
    "id": "18GetHy7qzNB"
   },
   "source": [
    "<br><p>Pegando todos os artistas que possuem mais de 3 influencias e ci menor que 0.05: </p><br>"
   ]
  },
  {
   "cell_type": "code",
   "execution_count": 0,
   "metadata": {
    "colab": {},
    "colab_type": "code",
    "id": "ucZ9jxydqzNC"
   },
   "outputs": [],
   "source": [
    "top_allmusic_out_greater_3 = list(G_table_allmusic[G_table_allmusic['out']>=3][G_table_allmusic[G_table_allmusic['out']>=3]['ci']<0.05].sort_values(by='disruption',ascending=False).index)          \n",
    "top_whosampled_out_greater_3 = list(G_table_whosampled[G_table_whosampled['out']>=3][G_table_whosampled[G_table_whosampled['out']>=3]['ci']<0.05].sort_values(by='disruption',ascending=False).index)          "
   ]
  },
  {
   "cell_type": "markdown",
   "metadata": {
    "colab_type": "text",
    "id": "_KwKsUn-qzNI"
   },
   "source": [
    "<br><p>Pegando artistas em comum das duas listas:</p><br>"
   ]
  },
  {
   "cell_type": "code",
   "execution_count": 0,
   "metadata": {
    "colab": {
     "base_uri": "https://localhost:8080/",
     "height": 34
    },
    "colab_type": "code",
    "executionInfo": {
     "elapsed": 8922,
     "status": "ok",
     "timestamp": 1586163877079,
     "user": {
      "displayName": "Tales Panoutsos Malheiros Lima",
      "photoUrl": "https://lh3.googleusercontent.com/a-/AOh14GjJOQ9j3KI4NqEf90arIeK004r3HiHKLw_ixEm11g=s64",
      "userId": "15576848666894932629"
     },
     "user_tz": 180
    },
    "id": "VkcFtGhEqzNJ",
    "outputId": "a22a314c-2872-4286-f904-dbed1f03c67e"
   },
   "outputs": [
    {
     "name": "stdout",
     "output_type": "stream",
     "text": [
      "0\n"
     ]
    }
   ],
   "source": [
    "common_artists_out_greater_3 = list()\n",
    "for artist_whosampled in top_whosampled_out_greater_3:\n",
    "    if get_close_matches(artist_whosampled, top_allmusic_out_greater_3, cutoff=0.9):\n",
    "        common_artists_out_greater_3.append(get_close_matches(artist_whosampled, top_allmusic_out_greater_3, cutoff=0.9)[0])#, ' Genero:', list(allmusic_json[name_to_id_allmusic[disruptiver_common]]['genres'].values())[0], ' Ano:', next(iter(allmusic_json[name_to_id_allmusic[disruptiver_common]]['decades']))   )    \n",
    "print(len(common_artists_out_greater_3))        "
   ]
  },
  {
   "cell_type": "markdown",
   "metadata": {
    "colab_type": "text",
    "id": "Obu0P1MDqzNN"
   },
   "source": [
    "<br><p>Tamanho das listas</p><br>"
   ]
  },
  {
   "cell_type": "code",
   "execution_count": 0,
   "metadata": {
    "colab": {
     "base_uri": "https://localhost:8080/",
     "height": 68
    },
    "colab_type": "code",
    "executionInfo": {
     "elapsed": 519,
     "status": "ok",
     "timestamp": 1586163879473,
     "user": {
      "displayName": "Tales Panoutsos Malheiros Lima",
      "photoUrl": "https://lh3.googleusercontent.com/a-/AOh14GjJOQ9j3KI4NqEf90arIeK004r3HiHKLw_ixEm11g=s64",
      "userId": "15576848666894932629"
     },
     "user_tz": 180
    },
    "id": "Dd-mqdnNqzNO",
    "outputId": "512754a1-4975-48c1-f781-e7e478118b2d"
   },
   "outputs": [
    {
     "name": "stdout",
     "output_type": "stream",
     "text": [
      "Number of artists common to both datasets with ci < 0.05 and at least 3 influences:\n",
      "Allmusic:  653\n",
      "Whosampled:  5725\n"
     ]
    }
   ],
   "source": [
    "print('Number of artists common to both datasets with ci < 0.05 and at least 3 influences:')\n",
    "print('Allmusic: ', len(top_allmusic_out_greater_3))\n",
    "print('Whosampled: ', len(top_whosampled_out_greater_3))"
   ]
  },
  {
   "cell_type": "markdown",
   "metadata": {
    "colab_type": "text",
    "id": "vls_JPfpqzNS"
   },
   "source": [
    "<br><h4>Distribuição dos dados</h4><br>\n",
    "<!--<p>Fazendo o mesmo mas escolhendo apenas artistas que possuem pelo menos 3 influencias e não nessessariamente com disruptividade = 1</p><br>-->"
   ]
  },
  {
   "cell_type": "code",
   "execution_count": 0,
   "metadata": {
    "colab": {
     "base_uri": "https://localhost:8080/",
     "height": 227
    },
    "colab_type": "code",
    "executionInfo": {
     "elapsed": 990,
     "status": "ok",
     "timestamp": 1586163889251,
     "user": {
      "displayName": "Tales Panoutsos Malheiros Lima",
      "photoUrl": "https://lh3.googleusercontent.com/a-/AOh14GjJOQ9j3KI4NqEf90arIeK004r3HiHKLw_ixEm11g=s64",
      "userId": "15576848666894932629"
     },
     "user_tz": 180
    },
    "id": "Ti8EeBqNqzNT",
    "outputId": "6ff2cfcb-573f-44d8-a5f4-f4b458adfb31",
    "scrolled": true
   },
   "outputs": [
    {
     "data": {
      "image/png": "[encoded data removed]",
      "text/plain": [
       "<Figure size 1296x216 with 2 Axes>"
      ]
     },
     "metadata": {
      "tags": []
     },
     "output_type": "display_data"
    }
   ],
   "source": [
    "plt.figure(figsize=(18, 3))\n",
    "\n",
    "plt.subplot(131)\n",
    "plt.hist(G_table_allmusic['disruption'],bins=50)\n",
    "plt.title('Allmusic')\n",
    "plt.subplot(132)\n",
    "plt.hist(G_table_whosampled['disruption'],bins=50)\n",
    "plt.title('Whosampled')\n",
    "plt.show()"
   ]
  },
  {
   "cell_type": "markdown",
   "metadata": {
    "colab_type": "text",
    "id": "lj-uwVr2qzNY"
   },
   "source": [
    "<br><p>Escolhendo apenas dados com ci menor que 0.05</p><br>"
   ]
  },
  {
   "cell_type": "code",
   "execution_count": 0,
   "metadata": {
    "colab": {
     "base_uri": "https://localhost:8080/",
     "height": 227
    },
    "colab_type": "code",
    "executionInfo": {
     "elapsed": 900,
     "status": "ok",
     "timestamp": 1586163895743,
     "user": {
      "displayName": "Tales Panoutsos Malheiros Lima",
      "photoUrl": "https://lh3.googleusercontent.com/a-/AOh14GjJOQ9j3KI4NqEf90arIeK004r3HiHKLw_ixEm11g=s64",
      "userId": "15576848666894932629"
     },
     "user_tz": 180
    },
    "id": "SkdVgnQUqzNa",
    "outputId": "326095ab-688f-4c50-fa83-b0f917c9d6fb"
   },
   "outputs": [
    {
     "data": {
      "image/png": "[encoded data removed]",
      "text/plain": [
       "<Figure size 1296x216 with 2 Axes>"
      ]
     },
     "metadata": {
      "tags": []
     },
     "output_type": "display_data"
    }
   ],
   "source": [
    "plt.figure(figsize=(18, 3))\n",
    "\n",
    "plt.subplot(131)\n",
    "plt.hist(G_table_allmusic[G_table_allmusic['ci']<0.05]['disruption'],bins=50)\n",
    "plt.title('Allmusic')\n",
    "plt.subplot(132)\n",
    "plt.hist(G_table_whosampled[G_table_whosampled['ci']<0.05]['disruption'],bins=50)\n",
    "plt.title('Whosampled')\n",
    "plt.show()"
   ]
  },
  {
   "cell_type": "code",
   "execution_count": 0,
   "metadata": {
    "colab": {
     "base_uri": "https://localhost:8080/",
     "height": 227
    },
    "colab_type": "code",
    "executionInfo": {
     "elapsed": 1000,
     "status": "ok",
     "timestamp": 1586186055877,
     "user": {
      "displayName": "Tales Panoutsos Malheiros Lima",
      "photoUrl": "https://lh3.googleusercontent.com/a-/AOh14GjJOQ9j3KI4NqEf90arIeK004r3HiHKLw_ixEm11g=s64",
      "userId": "15576848666894932629"
     },
     "user_tz": 180
    },
    "id": "8ouMAenmqzNe",
    "outputId": "7fa032fa-67cb-484b-bd0c-fb9836626c7d"
   },
   "outputs": [
    {
     "data": {
      "image/png": "[encoded data removed]",
      "text/plain": [
       "<Figure size 1296x216 with 2 Axes>"
      ]
     },
     "metadata": {
      "tags": []
     },
     "output_type": "display_data"
    }
   ],
   "source": [
    "plt.figure(figsize=(18, 3))\n",
    "\n",
    "from statsmodels.distributions.empirical_distribution import ECDF\n",
    "data = G_table_allmusic['in']\n",
    "ecdf = ECDF(data)\n",
    "plt.loglog(ecdf.x, 1-ecdf.y)\n",
    "\n",
    "\n",
    "bins = range(10)\n",
    "\n",
    "plt.subplot(131)\n",
    "plt.xticks(bins, [\"2^\" + str(i) for i in bins])\n",
    "plt.hist(np.log2(G_table_allmusic['in']), log=True, bins=bins)\n",
    "plt.title('Allmusic')\n",
    "plt.subplot(132)\n",
    "\n",
    "plt.xticks(bins, [\"2^\" + str(i) for i in bins])\n",
    "plt.hist(np.log2(G_table_whosampled['in']), log=True, bins=bins)\n",
    "plt.title('Whosampled')\n",
    "plt.show()"
   ]
  },
  {
   "cell_type": "markdown",
   "metadata": {
    "colab_type": "text",
    "id": "SzYr1d-0yAea"
   },
   "source": [
    "<br><h4>Top sampled tracks</h4><br>\n",
    "\n",
    "<p>The most sampled tracks</p><br>"
   ]
  },
  {
   "cell_type": "code",
   "execution_count": 0,
   "metadata": {
    "colab": {},
    "colab_type": "code",
    "id": "C_BGZYDixY-D"
   },
   "outputs": [],
   "source": [
    "G_track = at.build_track_graph_who_sampled(who_sampled_json)"
   ]
  },
  {
   "cell_type": "code",
   "execution_count": 0,
   "metadata": {
    "colab": {
     "base_uri": "https://localhost:8080/",
     "height": 51
    },
    "colab_type": "code",
    "executionInfo": {
     "elapsed": 4512,
     "status": "ok",
     "timestamp": 1586185441235,
     "user": {
      "displayName": "Tales Panoutsos Malheiros Lima",
      "photoUrl": "https://lh3.googleusercontent.com/a-/AOh14GjJOQ9j3KI4NqEf90arIeK004r3HiHKLw_ixEm11g=s64",
      "userId": "15576848666894932629"
     },
     "user_tz": 180
    },
    "id": "NtkP3AHvCFGC",
    "outputId": "57b8eae0-fce6-4f47-8619-461639d9d5c7"
   },
   "outputs": [
    {
     "name": "stdout",
     "output_type": "stream",
     "text": [
      "Vértices:  387913 \n",
      "Arestas:  407620\n"
     ]
    }
   ],
   "source": [
    "print(\"Vértices: \", G_track.number_of_nodes(),\"\\nArestas: \",G_track.number_of_edges())"
   ]
  },
  {
   "cell_type": "code",
   "execution_count": 0,
   "metadata": {
    "colab": {},
    "colab_type": "code",
    "id": "8R3sI70ZBzJN"
   },
   "outputs": [],
   "source": [
    "for node in G_track.nodes:\n",
    "    G_track.nodes[node]['genres'] = {}"
   ]
  },
  {
   "cell_type": "code",
   "execution_count": 0,
   "metadata": {
    "colab": {
     "base_uri": "https://localhost:8080/",
     "height": 359
    },
    "colab_type": "code",
    "executionInfo": {
     "elapsed": 5969,
     "status": "ok",
     "timestamp": 1586185444282,
     "user": {
      "displayName": "Tales Panoutsos Malheiros Lima",
      "photoUrl": "https://lh3.googleusercontent.com/a-/AOh14GjJOQ9j3KI4NqEf90arIeK004r3HiHKLw_ixEm11g=s64",
      "userId": "15576848666894932629"
     },
     "user_tz": 180
    },
    "id": "JULP3qat9mq0",
    "outputId": "891338a7-25b5-4f56-f43d-3de97176cbd0"
   },
   "outputs": [
    {
     "data": {
      "text/html": [
       "<div>\n",
       "<style scoped>\n",
       "    .dataframe tbody tr th:only-of-type {\n",
       "        vertical-align: middle;\n",
       "    }\n",
       "\n",
       "    .dataframe tbody tr th {\n",
       "        vertical-align: top;\n",
       "    }\n",
       "\n",
       "    .dataframe thead th {\n",
       "        text-align: right;\n",
       "    }\n",
       "</style>\n",
       "<table border=\"1\" class=\"dataframe\">\n",
       "  <thead>\n",
       "    <tr style=\"text-align: right;\">\n",
       "      <th></th>\n",
       "      <th>degree</th>\n",
       "    </tr>\n",
       "  </thead>\n",
       "  <tbody>\n",
       "    <tr>\n",
       "      <th>Amen, Brother</th>\n",
       "      <td>3206</td>\n",
       "    </tr>\n",
       "    <tr>\n",
       "      <th>Think (About It)</th>\n",
       "      <td>1531</td>\n",
       "    </tr>\n",
       "    <tr>\n",
       "      <th>Change the Beat (Female Version)</th>\n",
       "      <td>1326</td>\n",
       "    </tr>\n",
       "    <tr>\n",
       "      <th>Funky Drummer</th>\n",
       "      <td>798</td>\n",
       "    </tr>\n",
       "    <tr>\n",
       "      <th>Synthetic Substitution</th>\n",
       "      <td>504</td>\n",
       "    </tr>\n",
       "    <tr>\n",
       "      <th>Long Red</th>\n",
       "      <td>487</td>\n",
       "    </tr>\n",
       "    <tr>\n",
       "      <th>Impeach the President</th>\n",
       "      <td>481</td>\n",
       "    </tr>\n",
       "    <tr>\n",
       "      <th>La Di Da Di</th>\n",
       "      <td>481</td>\n",
       "    </tr>\n",
       "    <tr>\n",
       "      <th>Funky President (People It's Bad)</th>\n",
       "      <td>439</td>\n",
       "    </tr>\n",
       "    <tr>\n",
       "      <th>The Champ</th>\n",
       "      <td>427</td>\n",
       "    </tr>\n",
       "  </tbody>\n",
       "</table>\n",
       "</div>"
      ],
      "text/plain": [
       "                                   degree\n",
       "Amen, Brother                        3206\n",
       "Think (About It)                     1531\n",
       "Change the Beat (Female Version)     1326\n",
       "Funky Drummer                         798\n",
       "Synthetic Substitution                504\n",
       "Long Red                              487\n",
       "Impeach the President                 481\n",
       "La Di Da Di                           481\n",
       "Funky President (People It's Bad)     439\n",
       "The Champ                             427"
      ]
     },
     "execution_count": 27,
     "metadata": {
      "tags": []
     },
     "output_type": "execute_result"
    }
   ],
   "source": [
    "degree_dict = dict(G_track.in_degree())\n",
    "degree_table = pd.DataFrame(degree_dict.values(), columns=['degree'], index = degree_dict.keys())\n",
    "degree_table.sort_values(by='degree', ascending=False).head(10)"
   ]
  },
  {
   "cell_type": "code",
   "execution_count": 0,
   "metadata": {
    "colab": {
     "base_uri": "https://localhost:8080/",
     "height": 51
    },
    "colab_type": "code",
    "executionInfo": {
     "elapsed": 5280,
     "status": "ok",
     "timestamp": 1586185444284,
     "user": {
      "displayName": "Tales Panoutsos Malheiros Lima",
      "photoUrl": "https://lh3.googleusercontent.com/a-/AOh14GjJOQ9j3KI4NqEf90arIeK004r3HiHKLw_ixEm11g=s64",
      "userId": "15576848666894932629"
     },
     "user_tz": 180
    },
    "id": "wJ2TkP8UAn4l",
    "outputId": "a3ef6b4c-b63f-4ddb-aade-cbd5a4f09380"
   },
   "outputs": [
    {
     "name": "stdout",
     "output_type": "stream",
     "text": [
      "Intersection between the 10 most sampled tracks on site and the 15 most sampled tracks on dataset:\n",
      " 10\n"
     ]
    }
   ],
   "source": [
    "top_10_indegree_whosampled_site = {'Amen, Brother','Think (About It)','Change the Beat (Female Version)','Funky Drummer','La Di Da Di',\"Funky President (People It's Bad)\",'Bring the Noise','Synthetic Substitution','Impeach the President','Here We Go (Live at the Funhouse)'}\n",
    "print('Intersection between the 10 most sampled tracks on site and the 15 most sampled tracks on dataset:\\n',len(top_10_indegree_whosampled_site.intersection(set(degree_table.sort_values(by='degree', ascending=False).head(15).index))))"
   ]
  },
  {
   "cell_type": "code",
   "execution_count": 0,
   "metadata": {
    "colab": {},
    "colab_type": "code",
    "id": "AzQYWkuEBr3l"
   },
   "outputs": [],
   "source": []
  }
 ],
 "metadata": {
  "colab": {
   "collapsed_sections": [],
   "name": "Relação_entre_o_Allmusic_e_Whosampled.ipynb",
   "provenance": []
  },
  "kernelspec": {
   "display_name": "Python 3",
   "language": "python",
   "name": "python3"
  },
  "language_info": {
   "codemirror_mode": {
    "name": "ipython",
    "version": 3
   },
   "file_extension": ".py",
   "mimetype": "text/x-python",
   "name": "python",
   "nbconvert_exporter": "python",
   "pygments_lexer": "ipython3",
   "version": "3.7.7"
  }
 },
 "nbformat": 4,
 "nbformat_minor": 1
}
